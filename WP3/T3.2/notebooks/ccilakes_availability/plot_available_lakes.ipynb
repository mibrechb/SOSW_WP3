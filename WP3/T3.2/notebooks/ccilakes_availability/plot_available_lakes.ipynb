{
 "cells": [
  {
   "cell_type": "markdown",
   "id": "af83315f",
   "metadata": {},
   "source": [
    "## Import packages"
   ]
  },
  {
   "cell_type": "code",
   "execution_count": null,
   "id": "e3f67271",
   "metadata": {},
   "outputs": [],
   "source": [
    "import pandas as pd\n",
    "import geopandas as gpd\n",
    "import numpy as np\n",
    "import hvplot.pandas\n",
    "from tqdm.notebook import tqdm\n",
    "from pathlib import Path\n",
    "from shapely.geometry import box\n",
    "import holoviews as hv"
   ]
  },
  {
   "cell_type": "markdown",
   "id": "02301b46",
   "metadata": {},
   "source": [
    "## Load data"
   ]
  },
  {
   "cell_type": "code",
   "execution_count": null,
   "id": "9aa7ebe4",
   "metadata": {},
   "outputs": [],
   "source": [
    "# define paths\n",
    "path_lakes = Path('metadata/lakescci_v2.0.2_data-availability.shp')\n",
    "path_polygons = Path('../../../basin_polygons/shp/basin_polygons.shp')\n",
    "path_plots = Path('plots/')\n",
    "path_hylak = Path('E:\\RS\\HydroLAKES\\HydroLAKES_polys_v10_shp\\HydroLAKES_polys_v10.shp')\n",
    "\n",
    "# load data\n",
    "gdf_basins = gpd.read_file(path_polygons).set_crs(crs='EPSG:4326')\n",
    "gdf_lakes = gpd.read_file(path_lakes).set_crs(crs='EPSG:4326')"
   ]
  },
  {
   "cell_type": "markdown",
   "id": "9009cc2c",
   "metadata": {},
   "source": [
    "## Generate plots"
   ]
  },
  {
   "cell_type": "code",
   "execution_count": null,
   "id": "cee59256",
   "metadata": {},
   "outputs": [],
   "source": [
    "import requests\n",
    "import json\n",
    "import time\n",
    " \n",
    "def get_lake_name(lat, lon):\n",
    "    \"\"\" Find name of lake at given coords using Overpass API.\"\"\"\n",
    "    overpass_url = \"http://overpass-api.de/api/interpreter\"\n",
    "    overpass_query = f\"\"\"\n",
    "    [out:json][timeout:25];\n",
    "    is_in({lat}, {lon})->.a;\n",
    "    nwr(pivot.a)[natural=water];\n",
    "    out geom;\n",
    "    \"\"\"\n",
    "    response = requests.get(overpass_url, \n",
    "                            params={'data': overpass_query})\n",
    "    data = response.json()\n",
    "    if len(data['elements'])==0:\n",
    "        return None\n",
    "    else:\n",
    "        return data['elements'][0]['tags']['name']"
   ]
  },
  {
   "cell_type": "code",
   "execution_count": null,
   "id": "fb23e7c0",
   "metadata": {
    "scrolled": true
   },
   "outputs": [],
   "source": [
    "# set bbox buffer (relative)\n",
    "buffer_factor = 0.1\n",
    "\n",
    "plotlist = []\n",
    "for basin in tqdm(gdf_basins.name.unique(), total=gdf_basins.name.unique().shape[0]):\n",
    "    # load basin\n",
    "    gdf_basin = gdf_basins.loc[gdf_basins.name==basin]\n",
    "    \n",
    "    # get bbox\n",
    "    minlon, minlat, maxlon, maxlat = gdf_basin.geometry.unary_union.bounds\n",
    "    buffer_lon = abs(maxlon-minlon)*buffer_factor\n",
    "    buffer_lat = abs(maxlat-minlat)*buffer_factor\n",
    "    bbox = (minlon-buffer_lon, minlat-buffer_lat, maxlon+buffer_lon, maxlat+buffer_lat)\n",
    "    \n",
    "    # load available lakes\n",
    "    gdf_lakes['centroid'] = gdf_lakes.geometry.centroid\n",
    "    gdf_lakes = gdf_lakes.set_geometry('centroid')\n",
    "    gdf_lakes_inside = gpd.overlay(gdf_lakes, gdf_basin, how='intersection')\n",
    "    gdf_lakes_outside = gdf_lakes.loc[~gdf_lakes.id.isin(gdf_lakes_inside.id)]\n",
    "    n_inside = gdf_lakes_inside.shape[0]\n",
    "    n_outside = gdf_lakes_outside.shape[0]\n",
    "    \n",
    "    # load HydroLAKES polygons\n",
    "    gdf_hylak = gpd.read_file(path_hylak, bbox=bbox).set_crs(crs='EPSG:4326')\n",
    "    gdf_hylak['Hylak_id_str'] = gdf_hylak['Hylak_id'].astype(str)\n",
    "    gdf_hylak['Hylak_id'] = gdf_hylak['Hylak_id'].astype(int)\n",
    "    gdf_hylak = gdf_hylak.set_index('Hylak_id')\n",
    "    #gdf_hylak_inside = gpd.overlay(gdf_hylak, gdf_basin, how='intersection')\n",
    "    \n",
    "    # get hylak information\n",
    "    df_hylak = pd.DataFrame(gdf_hylak)\n",
    "    df_hylak_inside = df_hylak.loc[gdf_hylak.sjoin(gdf_lakes_inside).index]\n",
    "    \n",
    "    # add lakenames if missing\n",
    "    for idx, row in df_hylak_inside.iterrows():\n",
    "        if str(row.Lake_name) == 'nan':\n",
    "            lon, lat = row.geometry.centroid.coords[0]\n",
    "            name = get_lake_name(lat, lon)\n",
    "            df_hylak_inside.loc[idx, 'Lake_name'] = name\n",
    "    \n",
    "    # create plot\n",
    "    plot = gdf_basin.hvplot.polygons(\n",
    "                title=f'{basin} - Lakes CCI (v2.0.2) (n={n_inside})',\n",
    "                geo=True, tiles='EsriTerrain',\n",
    "                label=f'{basin} basin',\n",
    "                width=800, fontscale=2,\n",
    "                xlabel='Longitude', ylabel='Latitude',\n",
    "                line_alpha=0,\n",
    "                color='red', fill_alpha=0.2, legend='bottom_left', \n",
    "                xlim=(bbox[0], bbox[2]), ylim=(bbox[1], bbox[3])) * \\\n",
    "            gdf_hylak.hvplot.polygons(\n",
    "                geo=True, features={'rivers':'10m'}, color='#89CFF0', line_color=None, label='Lakes') * \\\n",
    "            gdf_lakes_inside.hvplot.points(\n",
    "                geo=True, color='#109618', size=50, line_color='black', \n",
    "                label='Lake (inside)')* \\\n",
    "            gdf_lakes_outside.hvplot.points(\n",
    "                geo=True, color='#DC3912', size=50, line_color='black', \n",
    "                label='Lake (outside)')\n",
    "    \n",
    "    plot_table = df_hylak_inside.hvplot.table(\n",
    "                columns=['Hylak_id_str', 'Lake_name', 'Lake_area', 'Country', 'Pour_long', 'Pour_lat'],\n",
    "                selectable=True, sortable=True, width=800)\n",
    "    plot_combined = hv.Layout([plot, plot_table]).cols(1)\n",
    "    \n",
    "    plotlist.append(plot_combined)\n",
    "    \n",
    "    # Export plot\n",
    "    hv.save(plot_combined, path_plots.joinpath(f'{basin}_ccilakes.png'), fmt='png', dpi=300)\n",
    "    hv.save(plot_combined, path_plots.joinpath(f'{basin}_ccilakes.html'), fmt='html')"
   ]
  },
  {
   "cell_type": "code",
   "execution_count": null,
   "id": "6c1f78ae",
   "metadata": {},
   "outputs": [],
   "source": []
  }
 ],
 "metadata": {
  "kernelspec": {
   "display_name": "Python 3 (ipykernel)",
   "language": "python",
   "name": "python3"
  },
  "language_info": {
   "codemirror_mode": {
    "name": "ipython",
    "version": 3
   },
   "file_extension": ".py",
   "mimetype": "text/x-python",
   "name": "python",
   "nbconvert_exporter": "python",
   "pygments_lexer": "ipython3",
   "version": "3.11.3"
  }
 },
 "nbformat": 4,
 "nbformat_minor": 5
}
