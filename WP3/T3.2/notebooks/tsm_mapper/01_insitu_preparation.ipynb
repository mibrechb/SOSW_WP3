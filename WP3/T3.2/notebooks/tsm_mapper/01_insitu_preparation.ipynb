{
 "cells": [
  {
   "cell_type": "code",
   "execution_count": 27,
   "metadata": {},
   "outputs": [],
   "source": [
    "import hvplot.pandas\n",
    "import hvplot.xarray\n",
    "import xarray as xr\n",
    "import geopandas as gpd\n",
    "import pandas as pd\n",
    "import numpy as np\n",
    "from pathlib import Path\n",
    "import shapely"
   ]
  },
  {
   "cell_type": "markdown",
   "metadata": {},
   "source": [
    "### WMQN"
   ]
  },
  {
   "cell_type": "code",
   "execution_count": 46,
   "metadata": {},
   "outputs": [],
   "source": [
    "paths_data = list(Path(f'../mrc_webscrapper/outputs/csv/Total Suspended Solids').rglob(f'*.csv'))\n",
    "\n",
    "df_data = pd.DataFrame([])\n",
    "for path in paths_data:\n",
    "    df_temp = pd.read_csv(path, dtype={'station_code':'str'})\n",
    "    df_temp['date'] = pd.to_datetime(df_temp['date'])\n",
    "    df_temp['med_frq'] = np.median(np.diff(df_temp.date))\n",
    "    df_data = pd.concat([df_data, df_temp])\n",
    "\n",
    "df_data_wqmn = df_data.copy()\n",
    "df_data_wqmn['source'] = 'WQMN'\n",
    "df_data_wqmn['type'] = 'near-surface'\n",
    "gdf_data_wqmn = gpd.GeoDataFrame(df_data_wqmn, crs='epsg:4326',\n",
    "                                 geometry=df_data_wqmn.apply(lambda row: shapely.geometry.Point((row.lon, row.lat)), axis=1)).reset_index()"
   ]
  },
  {
   "cell_type": "markdown",
   "metadata": {},
   "source": [
    "### Hydromet-Mekong & DSMP"
   ]
  },
  {
   "cell_type": "code",
   "execution_count": 47,
   "metadata": {},
   "outputs": [],
   "source": [
    "paths_data = list(Path(f'../mrc_webscrapper/outputs/csv/Sediment Concentration').rglob(f'*.csv'))\n",
    "\n",
    "df_data = pd.DataFrame([])\n",
    "for path in paths_data:\n",
    "    df_temp = pd.read_csv(path, dtype={'station_code':'str'})\n",
    "    df_temp['date'] = pd.to_datetime(df_temp['date'])\n",
    "    df_temp['med_frq'] = np.median(np.diff(df_temp.date))\n",
    "    df_data = pd.concat([df_data, df_temp])\n",
    "\n",
    "df_data['type'] = 'depth-integrated'\n",
    "\n",
    "df_data_dsmp = df_data.copy().loc[df_data.identifier.str.contains('Measured DSMP')]\n",
    "df_data_dsmp['source'] = 'DSMP'\n",
    "gdf_data_dsmp = gpd.GeoDataFrame(df_data_dsmp, crs='epsg:4326',\n",
    "                                 geometry=df_data_dsmp.apply(lambda row: shapely.geometry.Point((row.lon, row.lat)), axis=1)).reset_index()\n",
    "\n",
    "df_data_hydrom = df_data.copy().loc[~df_data.identifier.str.contains('Measured DSMP')]\n",
    "df_data_hydrom['source'] = 'Hydromet'\n",
    "gdf_data_hydrom = gpd.GeoDataFrame(df_data_hydrom, crs='epsg:4326',\n",
    "                                 geometry=df_data_hydrom.apply(lambda row: shapely.geometry.Point((row.lon, row.lat)), axis=1)).reset_index()"
   ]
  },
  {
   "cell_type": "markdown",
   "metadata": {},
   "source": [
    "### Map"
   ]
  },
  {
   "cell_type": "code",
   "execution_count": 51,
   "metadata": {},
   "outputs": [
    {
     "data": {},
     "metadata": {},
     "output_type": "display_data"
    },
    {
     "data": {
      "application/vnd.holoviews_exec.v0+json": "",
      "text/html": [
       "<div id='p2114'>\n",
       "  <div id=\"c6301dd6-dc57-45c9-b21f-cf3cf8c728bc\" data-root-id=\"p2114\" style=\"display: contents;\"></div>\n",
       "</div>\n",
       "<script type=\"application/javascript\">(function(root) {\n",
       "  var docs_json = {\"33b1ff2d-33d8-4d6c-af92-4cf41467f8f3\":{\"version\":\"3.3.4\",\"title\":\"Bokeh Application\",\"roots\":[{\"type\":\"object\",\"name\":\"Row\",\"id\":\"p2114\",\"attributes\":{\"name\":\"Row04120\",\"tags\":[\"embedded\"],\"stylesheets\":[\"\\n:host(.pn-loading.pn-arc):before, .pn-loading.pn-arc:before {\\n  background-image: url(\\\"data:image/svg+xml;base64,PHN2ZyB4bWxucz0iaHR0cDovL3d3dy53My5vcmcvMjAwMC9zdmciIHN0eWxlPSJtYXJnaW46IGF1dG87IGJhY2tncm91bmQ6IG5vbmU7IGRpc3BsYXk6IGJsb2NrOyBzaGFwZS1yZW5kZXJpbmc6IGF1dG87IiB2aWV3Qm94PSIwIDAgMTAwIDEwMCIgcHJlc2VydmVBc3BlY3RSYXRpbz0ieE1pZFlNaWQiPiAgPGNpcmNsZSBjeD0iNTAiIGN5PSI1MCIgZmlsbD0ibm9uZSIgc3Ryb2tlPSIjYzNjM2MzIiBzdHJva2Utd2lkdGg9IjEwIiByPSIzNSIgc3Ryb2tlLWRhc2hhcnJheT0iMTY0LjkzMzYxNDMxMzQ2NDE1IDU2Ljk3Nzg3MTQzNzgyMTM4Ij4gICAgPGFuaW1hdGVUcmFuc2Zvcm0gYXR0cmlidXRlTmFtZT0idHJhbnNmb3JtIiB0eXBlPSJyb3RhdGUiIHJlcGVhdENvdW50PSJpbmRlZmluaXRlIiBkdXI9IjFzIiB2YWx1ZXM9IjAgNTAgNTA7MzYwIDUwIDUwIiBrZXlUaW1lcz0iMDsxIj48L2FuaW1hdGVUcmFuc2Zvcm0+ICA8L2NpcmNsZT48L3N2Zz4=\\\");\\n  background-size: auto calc(min(50%, 400px));\\n}\",{\"type\":\"object\",\"name\":\"ImportedStyleSheet\",\"id\":\"p2117\",\"attributes\":{\"url\":\"https://cdn.holoviz.org/panel/1.3.8/dist/css/loading.css\"}},{\"type\":\"object\",\"name\":\"ImportedStyleSheet\",\"id\":\"p2294\",\"attributes\":{\"url\":\"https://cdn.holoviz.org/panel/1.3.8/dist/css/listpanel.css\"}},{\"type\":\"object\",\"name\":\"ImportedStyleSheet\",\"id\":\"p2115\",\"attributes\":{\"url\":\"https://cdn.holoviz.org/panel/1.3.8/dist/bundled/theme/default.css\"}},{\"type\":\"object\",\"name\":\"ImportedStyleSheet\",\"id\":\"p2116\",\"attributes\":{\"url\":\"https://cdn.holoviz.org/panel/1.3.8/dist/bundled/theme/native.css\"}}],\"margin\":0,\"sizing_mode\":\"stretch_width\",\"align\":\"start\",\"children\":[{\"type\":\"object\",\"name\":\"Spacer\",\"id\":\"p2118\",\"attributes\":{\"name\":\"HSpacer04126\",\"stylesheets\":[\"\\n:host(.pn-loading.pn-arc):before, .pn-loading.pn-arc:before {\\n  background-image: url(\\\"data:image/svg+xml;base64,PHN2ZyB4bWxucz0iaHR0cDovL3d3dy53My5vcmcvMjAwMC9zdmciIHN0eWxlPSJtYXJnaW46IGF1dG87IGJhY2tncm91bmQ6IG5vbmU7IGRpc3BsYXk6IGJsb2NrOyBzaGFwZS1yZW5kZXJpbmc6IGF1dG87IiB2aWV3Qm94PSIwIDAgMTAwIDEwMCIgcHJlc2VydmVBc3BlY3RSYXRpbz0ieE1pZFlNaWQiPiAgPGNpcmNsZSBjeD0iNTAiIGN5PSI1MCIgZmlsbD0ibm9uZSIgc3Ryb2tlPSIjYzNjM2MzIiBzdHJva2Utd2lkdGg9IjEwIiByPSIzNSIgc3Ryb2tlLWRhc2hhcnJheT0iMTY0LjkzMzYxNDMxMzQ2NDE1IDU2Ljk3Nzg3MTQzNzgyMTM4Ij4gICAgPGFuaW1hdGVUcmFuc2Zvcm0gYXR0cmlidXRlTmFtZT0idHJhbnNmb3JtIiB0eXBlPSJyb3RhdGUiIHJlcGVhdENvdW50PSJpbmRlZmluaXRlIiBkdXI9IjFzIiB2YWx1ZXM9IjAgNTAgNTA7MzYwIDUwIDUwIiBrZXlUaW1lcz0iMDsxIj48L2FuaW1hdGVUcmFuc2Zvcm0+ICA8L2NpcmNsZT48L3N2Zz4=\\\");\\n  background-size: auto calc(min(50%, 400px));\\n}\",{\"id\":\"p2117\"},{\"id\":\"p2115\"},{\"id\":\"p2116\"}],\"margin\":0,\"sizing_mode\":\"stretch_width\",\"align\":\"start\"}},{\"type\":\"object\",\"name\":\"Figure\",\"id\":\"p2189\",\"attributes\":{\"width\":null,\"height\":null,\"margin\":[5,10],\"sizing_mode\":\"fixed\",\"align\":\"start\",\"x_range\":{\"type\":\"object\",\"name\":\"Range1d\",\"id\":\"p2140\",\"attributes\":{\"tags\":[[[\"Longitude\",\"Longitude\",null]],[]],\"start\":10992601.465861414,\"end\":12110423.747749418,\"reset_start\":10992601.465861414,\"reset_end\":12110423.747749418,\"min_interval\":5}},\"y_range\":{\"type\":\"object\",\"name\":\"Range1d\",\"id\":\"p2141\",\"attributes\":{\"tags\":[[[\"Latitude\",\"Latitude\",null]],{\"type\":\"map\",\"entries\":[[\"invert_yaxis\",false],[\"autorange\",false]]}],\"start\":883716.2984186442,\"end\":2600282.3120640903,\"reset_start\":883716.2984186442,\"reset_end\":2600282.3120640903,\"min_interval\":5}},\"x_scale\":{\"type\":\"object\",\"name\":\"LinearScale\",\"id\":\"p2199\"},\"y_scale\":{\"type\":\"object\",\"name\":\"LinearScale\",\"id\":\"p2200\"},\"title\":{\"type\":\"object\",\"name\":\"Title\",\"id\":\"p2192\",\"attributes\":{\"text_color\":\"black\",\"text_font_size\":\"12pt\"}},\"renderers\":[{\"type\":\"object\",\"name\":\"TileRenderer\",\"id\":\"p2222\",\"attributes\":{\"level\":\"underlay\",\"tile_source\":{\"type\":\"object\",\"name\":\"WMTSTileSource\",\"id\":\"p2218\",\"attributes\":{\"url\":\"https://cartodb-basemaps-4.global.ssl.fastly.net/light_all/{Z}/{X}/{Y}.png\",\"attribution\":\"&copy; <a href=\\\"https://www.openstreetmap.org/copyright\\\">OpenStreetMap</a> contributors, &copy; <a href=\\\"https://cartodb.com/attributions\\\">CartoDB</a>\"}}}},{\"type\":\"object\",\"name\":\"GlyphRenderer\",\"id\":\"p2235\",\"attributes\":{\"name\":\"DSMP\",\"data_source\":{\"type\":\"object\",\"name\":\"ColumnDataSource\",\"id\":\"p2226\",\"attributes\":{\"selected\":{\"type\":\"object\",\"name\":\"Selection\",\"id\":\"p2227\",\"attributes\":{\"indices\":[],\"line_indices\":[]}},\"selection_policy\":{\"type\":\"object\",\"name\":\"UnionRenderers\",\"id\":\"p2228\"},\"data\":{\"type\":\"map\",\"entries\":[[\"Longitude\",{\"type\":\"ndarray\",\"array\":{\"type\":\"bytes\",\"data\":\"2psnHvJ+ZkEkVt9hnIJmQSxiVG/zR2ZB6cDppMtAZkHtOM2yxklmQR+B26u/R2ZBvt9IPiCAZkE2mc/Bf3dmQQl84cFVQGVBiwceEUqWZUGlMF0ICNBlQRNDTZ0CP2ZB+kWCfss8ZkElvg8EH2ZmQXMp0HLHWGZBR1QQDo5SZkE=\"},\"shape\":[16],\"dtype\":\"float64\",\"order\":\"little\"}],[\"Latitude\",{\"type\":\"ndarray\",\"array\":{\"type\":\"bytes\",\"data\":\"+fNwavszN0GOf1mY4V41QS9Vil5j0TNBVm4MyME0NEENeo8q0bszQbD84SWaxjNBZxSOPKszN0HyOS/RW/M5QdahQFb+lkFBLDxbjpXpPkE/77nd++A+QRLjxEHdED5BE3VXDLqRPEFp4kQOjFc6QQTxJh2gdDJBWvtgP21KMkE=\"},\"shape\":[16],\"dtype\":\"float64\",\"order\":\"little\"}]]}}},\"view\":{\"type\":\"object\",\"name\":\"CDSView\",\"id\":\"p2236\",\"attributes\":{\"filter\":{\"type\":\"object\",\"name\":\"AllIndices\",\"id\":\"p2237\"}}},\"glyph\":{\"type\":\"object\",\"name\":\"Scatter\",\"id\":\"p2232\",\"attributes\":{\"tags\":[\"apply_ranges\"],\"x\":{\"type\":\"field\",\"field\":\"Longitude\"},\"y\":{\"type\":\"field\",\"field\":\"Latitude\"},\"size\":{\"type\":\"value\",\"value\":5.477225575051661},\"line_color\":{\"type\":\"value\",\"value\":\"#30a2da\"},\"line_alpha\":{\"type\":\"value\",\"value\":0.5},\"fill_color\":{\"type\":\"value\",\"value\":\"#30a2da\"},\"fill_alpha\":{\"type\":\"value\",\"value\":0.5},\"hatch_color\":{\"type\":\"value\",\"value\":\"#30a2da\"},\"hatch_alpha\":{\"type\":\"value\",\"value\":0.5}}},\"selection_glyph\":{\"type\":\"object\",\"name\":\"Scatter\",\"id\":\"p2242\",\"attributes\":{\"tags\":[\"apply_ranges\"],\"x\":{\"type\":\"field\",\"field\":\"Longitude\"},\"y\":{\"type\":\"field\",\"field\":\"Latitude\"},\"size\":{\"type\":\"value\",\"value\":5.477225575051661},\"angle\":{\"type\":\"value\",\"value\":0.0},\"line_color\":{\"type\":\"value\",\"value\":\"#30a2da\"},\"line_alpha\":{\"type\":\"value\",\"value\":0.5},\"line_width\":{\"type\":\"value\",\"value\":1},\"line_join\":{\"type\":\"value\",\"value\":\"bevel\"},\"line_cap\":{\"type\":\"value\",\"value\":\"butt\"},\"line_dash\":{\"type\":\"value\",\"value\":[]},\"line_dash_offset\":{\"type\":\"value\",\"value\":0},\"fill_color\":{\"type\":\"value\",\"value\":\"#30a2da\"},\"fill_alpha\":{\"type\":\"value\",\"value\":0.5},\"hatch_color\":{\"type\":\"value\",\"value\":\"#30a2da\"},\"hatch_alpha\":{\"type\":\"value\",\"value\":0.5},\"hatch_scale\":{\"type\":\"value\",\"value\":12.0},\"hatch_pattern\":{\"type\":\"value\",\"value\":null},\"hatch_weight\":{\"type\":\"value\",\"value\":1.0},\"marker\":{\"type\":\"value\",\"value\":\"circle\"}}},\"nonselection_glyph\":{\"type\":\"object\",\"name\":\"Scatter\",\"id\":\"p2233\",\"attributes\":{\"tags\":[\"apply_ranges\"],\"x\":{\"type\":\"field\",\"field\":\"Longitude\"},\"y\":{\"type\":\"field\",\"field\":\"Latitude\"},\"size\":{\"type\":\"value\",\"value\":5.477225575051661},\"line_color\":{\"type\":\"value\",\"value\":\"#30a2da\"},\"line_alpha\":{\"type\":\"value\",\"value\":0.5},\"fill_color\":{\"type\":\"value\",\"value\":\"#30a2da\"},\"fill_alpha\":{\"type\":\"value\",\"value\":0.5},\"hatch_color\":{\"type\":\"value\",\"value\":\"#30a2da\"},\"hatch_alpha\":{\"type\":\"value\",\"value\":0.1}}},\"muted_glyph\":{\"type\":\"object\",\"name\":\"Scatter\",\"id\":\"p2234\",\"attributes\":{\"tags\":[\"apply_ranges\"],\"x\":{\"type\":\"field\",\"field\":\"Longitude\"},\"y\":{\"type\":\"field\",\"field\":\"Latitude\"},\"size\":{\"type\":\"value\",\"value\":5.477225575051661},\"line_color\":{\"type\":\"value\",\"value\":\"#30a2da\"},\"line_alpha\":{\"type\":\"value\",\"value\":0.2},\"fill_color\":{\"type\":\"value\",\"value\":\"#30a2da\"},\"fill_alpha\":{\"type\":\"value\",\"value\":0.2},\"hatch_color\":{\"type\":\"value\",\"value\":\"#30a2da\"},\"hatch_alpha\":{\"type\":\"value\",\"value\":0.2}}}}},{\"type\":\"object\",\"name\":\"TileRenderer\",\"id\":\"p2247\",\"attributes\":{\"level\":\"underlay\",\"tile_source\":{\"type\":\"object\",\"name\":\"WMTSTileSource\",\"id\":\"p2243\",\"attributes\":{\"url\":\"https://cartodb-basemaps-4.global.ssl.fastly.net/light_all/{Z}/{X}/{Y}.png\",\"attribution\":\"&copy; <a href=\\\"https://www.openstreetmap.org/copyright\\\">OpenStreetMap</a> contributors, &copy; <a href=\\\"https://cartodb.com/attributions\\\">CartoDB</a>\"}}}},{\"type\":\"object\",\"name\":\"GlyphRenderer\",\"id\":\"p2260\",\"attributes\":{\"name\":\"WQMN\",\"data_source\":{\"type\":\"object\",\"name\":\"ColumnDataSource\",\"id\":\"p2251\",\"attributes\":{\"selected\":{\"type\":\"object\",\"name\":\"Selection\",\"id\":\"p2252\",\"attributes\":{\"indices\":[],\"line_indices\":[]}},\"selection_policy\":{\"type\":\"object\",\"name\":\"UnionRenderers\",\"id\":\"p2253\"},\"data\":{\"type\":\"map\",\"entries\":[[\"Longitude\",{\"type\":\"ndarray\",\"array\":{\"type\":\"bytes\",\"data\":\"2psnHvJ+ZkEkVt9hnIJmQSxiVG/zR2ZBVRU/ES1gZkEe+w85hlpmQQQr7viiVmZBc8s+tU1HZkHpwOmky0BmQUIpvB5fcGZBLeaRtzwgZkGVv+mARvRlQdwGVWpDTWZB9SbVv/tOZkFSGQTzfElmQdyHEIO9lmZBBTmyFFzQZkGx15hDNbZmQS277slwtmZBGcrLrjRFZkE4v/VDNVJmQWqjqtHAQGZBIoyXLZB6ZUFK1EoIzrRlQQM5zu1jgmVBFsuTloavZUGLawUAp55lQaC8DwWxyWVBypmXHy5/ZkE/nefXUn9mQdW2usGuc2ZBvEiQG/11ZkE2mc/Bf3dmQaKR43lPtmVBAeHJ4NfJZUER+bAl7uNlQbDM4WFYxmVB53GXS9jDZUEmKjLej8FlQe6BUHHVwWVBn8hosoBKZkFspX/UTVxmQc7v103sd2ZBBsHRlTd3ZkH4nTPHAnlmQXcnLHjYyGVB+rPKzy7LZUHUQWza4MllQdRBbNrgyWVB4X+WRSTcZUH5tvZSac1lQYNN9slHyWVBWOASRZbZZUEJfOHBVUBlQRNDTZ0CP2ZBJb4PBB9mZkE2ICJwMDNlQSwH1TKtCGZBzrVDQPItZkHhgntnsWZmQRj28ofNUmZBr+qZgaHcZUG1YXJWZsdlQVjL3q78yWVBM7UY7KupZUFXB0/ujvZlQVMsIiPveWZBlDFy+fVIZkGdrTF3kFhmQbW3J+8EZ2ZBzhYnGNW3ZUEvt3Dp41NmQSugw29SC2ZBu8S0kcdiZkFzKdByx1hmQc4olwqmfWZB7YyrONeUZkHmdozfuoVmQUdUEA6OUmZB2w7gTRV2ZkHFtulFtZRmQXwtHno58GZBSeZ5MAK4ZkEnMZRB5+ZmQbt7MdO46mZBI8W/EODyZkF0GAXwUvhmQciDHMIN7WZB0iVwWZPiZkGDFnsemF5mQTI0DSFea2ZBmNc6bc1zZkF8BsL4mmBmQW/sp7MVaWZB6TkA/KR1ZkHSyboUyoNmQY94ta+Zi2ZBSX11QQJqZkHzik4ey3hmQYNMk1e1hmZBTRAs5DmVZkFEnXxOrY9mQeZAdKadXWZBQ2dkFZBnZkExUsVAp4FmQTFSxUCngWZBbwHcSa94ZkF1CBHm/G9mQdMNHbJrYWZBUXKiyvBTZkE/RaPcM1xmQZZATokaVGZBAIewQwdaZkF29gjTnWJmQUt6Sb7HZ2ZBEti/V4JsZkGUcA68wndmQa6bvrwdYGZBb9dzHXxZZkFqxI50RFlmQVB1zk0rVmZBGL4QUUxLZkEq+uvOLU5mQR7dpQZuVGZB0/5AIkdWZkFquwrrlFJmQUtWOZgJTWZB1ekMjK1GZkFwsDd0gzxmQbqXIOJZQWZBMgRN7rVHZkEGiI3Z30xmQV2SFBbrT2ZBwbOJFEFIZkE=\"},\"shape\":[133],\"dtype\":\"float64\",\"order\":\"little\"}],[\"Latitude\",{\"type\":\"ndarray\",\"array\":{\"type\":\"bytes\",\"data\":\"+fNwavszN0GOf1mY4V41QS9Vil5j0TNBJ47huhthNEHTfJ9jfUEzQcvrisH/6jJByzFSioLMM0FWbgzIwTQ0QS4vK9Au+TRBF9XX4kqJNUFiVKPQcM82Qf+h+LAtODNBLLb2n537MkE40GxPDI0zQYBb9pLlODhBe+DdIVmnN0Gttt5bvCY3QSwAyDfXJTdBSNRs4uLGNUHpL8LLd2g1QUcfCOE/jDNBtOjIoUm/QkEk8eSFR1hBQRT8XC1bSUFBJFGc7bc+QUGBCGX1mqJAQUDSpIif9z5B0BlLiIz7N0GIM4qAPek3QflJTqIEiTxBNvW7npf5OUHyOS/RW/M5QWKdlYgva0FBJRhXvZBVP0EMwaIhJVo/QforDieXBEBBBsFZGHwFQEEpHIXq04g/QbcAmsEiZz9BCm+6WAZyPUG7QkHMc947QdNQo8cYejpBEizHaaX9OUGfpF/s9mc6QX7xHiSt/z5BLOc1hnIPP0Gh+2I49gE/QX6WH/l8Fj9Be4lBGi/fPkEiDyaN9hk/QWW7OxzWEz9BDP22RHEWP0HWoUBW/pZBQRLjxEHdED5BaeJEDoxXOkGjukLq0URBQVVt/f3D2T5BJbbVURpyPkHPXqGreTs9QasV+eviJztBVoXQtJMnPEG3WtA0qrc7QawdqiQ05jxBG1+yay9wO0GB+sfrF5A8QT5Vwrs0KzpBhWAW8Pk0OkEDuEcEUDM6QdVghk0QVjpBhwKj7iLOOUFO/SdKIl46Qb7AErnYxjpBD+YX0zwhOkEE8SYdoHQyQdkYvJNIjDFBe+/Ro1KxMUFyzT+BI5wwQVr7YD9tSjJBnhkG2gQqMUGWek8WOaoxQWe4FoDyoDhB7vWZRRRGNkEVBcJstao4Qec+Nz+4lzVBR6H86FtjNkEXBT/RsGs1QZL1CYOtDDVBrOqFIocYNkH3KCV7kHYyQeqcaMkfezJBZ/zXIK99MkGw2ERlo0QyQSwMth5vOzJBkLQPOqpmMkHYhIeyhx8yQZNDO22cMTJBNJkGb1f5MUE4j1wFU/gxQX9nim6P7DFBQoS5AjwFMkEKP2/pa8IxQWzNCCEnfzJBeZPOgNKhMkGqbcJ19E4wQQMR9R9nFTBBm+0hXAg/MEFCAjDrUr8vQWMA8wGkgS9BHF74tJZVL0EI8yjwhsEvQVhej6GLCDBBUpUfHF01MEHTuHRTGlowQVz9U734KTBBX8IerTNPMEGi64EqurYwQUleEirvATBBK/Jpw02DMUGWahoRygEyQZkxPRvzHDJBONHLMzQzMkFj7EiAZcsxQbWvYOdu1TFBsAHH9QaFMUGjDKaoZYYxQZ7bcb3vpDFBFWnXjTzMMUF++zzH1NUxQYrHJGpNizFBxs4UUnBoMUFNFgyiNUwxQYx5wOLYKTFB2aLrDjcdMkE=\"},\"shape\":[133],\"dtype\":\"float64\",\"order\":\"little\"}]]}}},\"view\":{\"type\":\"object\",\"name\":\"CDSView\",\"id\":\"p2261\",\"attributes\":{\"filter\":{\"type\":\"object\",\"name\":\"AllIndices\",\"id\":\"p2262\"}}},\"glyph\":{\"type\":\"object\",\"name\":\"Scatter\",\"id\":\"p2257\",\"attributes\":{\"tags\":[\"apply_ranges\"],\"x\":{\"type\":\"field\",\"field\":\"Longitude\"},\"y\":{\"type\":\"field\",\"field\":\"Latitude\"},\"size\":{\"type\":\"value\",\"value\":5.477225575051661},\"line_color\":{\"type\":\"value\",\"value\":\"#fc4f30\"},\"line_alpha\":{\"type\":\"value\",\"value\":0.5},\"fill_color\":{\"type\":\"value\",\"value\":\"#fc4f30\"},\"fill_alpha\":{\"type\":\"value\",\"value\":0.5},\"hatch_color\":{\"type\":\"value\",\"value\":\"#fc4f30\"},\"hatch_alpha\":{\"type\":\"value\",\"value\":0.5}}},\"selection_glyph\":{\"type\":\"object\",\"name\":\"Scatter\",\"id\":\"p2266\",\"attributes\":{\"tags\":[\"apply_ranges\"],\"x\":{\"type\":\"field\",\"field\":\"Longitude\"},\"y\":{\"type\":\"field\",\"field\":\"Latitude\"},\"size\":{\"type\":\"value\",\"value\":5.477225575051661},\"angle\":{\"type\":\"value\",\"value\":0.0},\"line_color\":{\"type\":\"value\",\"value\":\"#fc4f30\"},\"line_alpha\":{\"type\":\"value\",\"value\":0.5},\"line_width\":{\"type\":\"value\",\"value\":1},\"line_join\":{\"type\":\"value\",\"value\":\"bevel\"},\"line_cap\":{\"type\":\"value\",\"value\":\"butt\"},\"line_dash\":{\"type\":\"value\",\"value\":[]},\"line_dash_offset\":{\"type\":\"value\",\"value\":0},\"fill_color\":{\"type\":\"value\",\"value\":\"#fc4f30\"},\"fill_alpha\":{\"type\":\"value\",\"value\":0.5},\"hatch_color\":{\"type\":\"value\",\"value\":\"#fc4f30\"},\"hatch_alpha\":{\"type\":\"value\",\"value\":0.5},\"hatch_scale\":{\"type\":\"value\",\"value\":12.0},\"hatch_pattern\":{\"type\":\"value\",\"value\":null},\"hatch_weight\":{\"type\":\"value\",\"value\":1.0},\"marker\":{\"type\":\"value\",\"value\":\"circle\"}}},\"nonselection_glyph\":{\"type\":\"object\",\"name\":\"Scatter\",\"id\":\"p2258\",\"attributes\":{\"tags\":[\"apply_ranges\"],\"x\":{\"type\":\"field\",\"field\":\"Longitude\"},\"y\":{\"type\":\"field\",\"field\":\"Latitude\"},\"size\":{\"type\":\"value\",\"value\":5.477225575051661},\"line_color\":{\"type\":\"value\",\"value\":\"#fc4f30\"},\"line_alpha\":{\"type\":\"value\",\"value\":0.5},\"fill_color\":{\"type\":\"value\",\"value\":\"#fc4f30\"},\"fill_alpha\":{\"type\":\"value\",\"value\":0.5},\"hatch_color\":{\"type\":\"value\",\"value\":\"#fc4f30\"},\"hatch_alpha\":{\"type\":\"value\",\"value\":0.1}}},\"muted_glyph\":{\"type\":\"object\",\"name\":\"Scatter\",\"id\":\"p2259\",\"attributes\":{\"tags\":[\"apply_ranges\"],\"x\":{\"type\":\"field\",\"field\":\"Longitude\"},\"y\":{\"type\":\"field\",\"field\":\"Latitude\"},\"size\":{\"type\":\"value\",\"value\":5.477225575051661},\"line_color\":{\"type\":\"value\",\"value\":\"#fc4f30\"},\"line_alpha\":{\"type\":\"value\",\"value\":0.2},\"fill_color\":{\"type\":\"value\",\"value\":\"#fc4f30\"},\"fill_alpha\":{\"type\":\"value\",\"value\":0.2},\"hatch_color\":{\"type\":\"value\",\"value\":\"#fc4f30\"},\"hatch_alpha\":{\"type\":\"value\",\"value\":0.2}}}}},{\"type\":\"object\",\"name\":\"TileRenderer\",\"id\":\"p2271\",\"attributes\":{\"level\":\"underlay\",\"tile_source\":{\"type\":\"object\",\"name\":\"WMTSTileSource\",\"id\":\"p2267\",\"attributes\":{\"url\":\"https://cartodb-basemaps-4.global.ssl.fastly.net/light_all/{Z}/{X}/{Y}.png\",\"attribution\":\"&copy; <a href=\\\"https://www.openstreetmap.org/copyright\\\">OpenStreetMap</a> contributors, &copy; <a href=\\\"https://cartodb.com/attributions\\\">CartoDB</a>\"}}}},{\"type\":\"object\",\"name\":\"GlyphRenderer\",\"id\":\"p2284\",\"attributes\":{\"name\":\"Hydromet\",\"data_source\":{\"type\":\"object\",\"name\":\"ColumnDataSource\",\"id\":\"p2275\",\"attributes\":{\"selected\":{\"type\":\"object\",\"name\":\"Selection\",\"id\":\"p2276\",\"attributes\":{\"indices\":[],\"line_indices\":[]}},\"selection_policy\":{\"type\":\"object\",\"name\":\"UnionRenderers\",\"id\":\"p2277\"},\"data\":{\"type\":\"map\",\"entries\":[[\"Longitude\",{\"type\":\"ndarray\",\"array\":{\"type\":\"bytes\",\"data\":\"FsuTloavZUHVtrrBrnNmQTaZz8F/d2ZB2npm3qZ8ZkFhKPxLxcllQYo6uKrftmVBxCegfzu4ZUHFiXrwL7JlQS42PyFBt2VBW983Du7FZUEB4cng18llQRH5sCXu42VBljy/FVLSZUFxZh3wVLtlQT0CwUkBtmVBwiy+wehNZkGfyGiygEpmQQ3WaQcWVmZBbKV/1E1cZkF41MkMHlZmQc7v103sd2ZBCXzhwVVAZUFYzMydn1FlQYsHHhFKlmVBVhHJnGi/ZUGlMF0ICNBlQRNDTZ0CP2ZB+kWCfss8ZkElvg8EH2ZmQdRMVxbaMGVBiFBnCagvZUE2ICJwMDNlQcoDhcS4GGVB7c3QNnMYZUHz69QQzzJlQdJ9xjVBIWVB032rreIdZUFyUkT4skVlQcj1aPA+iGVBp3Dj6vN5ZUFDh5smDpxlQcd+IfvzjWVBLAfVMq0IZkHhgntnsWZmQalc6SwNWWZBo0FSTw1tZkEY9vKHzVJmQbVhclZmx2VBav0vNxiyZUEm2XFE/65lQRScQm7xlWVBM7UY7KupZUFh2eR9Jk1mQVMsIiPveWZBIPcu/vxlZkGdrTF3kFhmQS+3cOnjU2ZBCXw4psJtZkFhVL0/yFNmQQ==\"},\"shape\":[59],\"dtype\":\"float64\",\"order\":\"little\"}],[\"Latitude\",{\"type\":\"ndarray\",\"array\":{\"type\":\"bytes\",\"data\":\"JFGc7bc+QUH5SU6iBIk8QfI5L9Fb8zlB1xeSA1GrOUFcaBlJINxBQUHva2nbUEFBDnlM1exMQUGLTvb9CyZBQVnrKyNjHEFBJEn45ybXP0ElGFe9kFU/QQzBoiElWj9BPIMciCpdQEFiIgTxECNAQRGlRRqLpkBBLUd8/ALRPkEKb7pYBnI9QYUYDtF1DT5Bu0JBzHPeO0EQHsJ59FM8QdNQo8cYejpB1qFAVv6WQUHhHEkt2JVBQSw8W46V6T5BJyO7jfYQP0E/77nd++A+QRLjxEHdED5BE3VXDLqRPEFp4kQOjFc6QXYHhj27jUFBRxSE57RxQUGjukLq0URBQQiFIfmqZUFBI+daTWlcQUFhBuL3yjVBQdGKIblxEkFBktyfHNfUQEEzc2PJfg9BQQaHi5EkkD5BNUHi7ZPRPUEV9d+ertc9QU+c18+LZz1BVW39/cPZPkHPXqGreTs9QWE4pAxQdD1BhG3Uz8/PPEGrFfnr4ic7Qbda0DSqtztBWN3/eXQTPUFhOYaSsWk8QXoZSfiXxjtBG1+yay9wO0GIJVPXraQ7QT5Vwrs0KzpBAsXD0fZROkEDuEcEUDM6QU79J0oiXjpBAGBxW3jJOUFhZoA+xTs5QQ==\"},\"shape\":[59],\"dtype\":\"float64\",\"order\":\"little\"}]]}}},\"view\":{\"type\":\"object\",\"name\":\"CDSView\",\"id\":\"p2285\",\"attributes\":{\"filter\":{\"type\":\"object\",\"name\":\"AllIndices\",\"id\":\"p2286\"}}},\"glyph\":{\"type\":\"object\",\"name\":\"Scatter\",\"id\":\"p2281\",\"attributes\":{\"tags\":[\"apply_ranges\"],\"x\":{\"type\":\"field\",\"field\":\"Longitude\"},\"y\":{\"type\":\"field\",\"field\":\"Latitude\"},\"size\":{\"type\":\"value\",\"value\":5.477225575051661},\"line_color\":{\"type\":\"value\",\"value\":\"#e5ae38\"},\"line_alpha\":{\"type\":\"value\",\"value\":0.5},\"fill_color\":{\"type\":\"value\",\"value\":\"#e5ae38\"},\"fill_alpha\":{\"type\":\"value\",\"value\":0.5},\"hatch_color\":{\"type\":\"value\",\"value\":\"#e5ae38\"},\"hatch_alpha\":{\"type\":\"value\",\"value\":0.5}}},\"selection_glyph\":{\"type\":\"object\",\"name\":\"Scatter\",\"id\":\"p2290\",\"attributes\":{\"tags\":[\"apply_ranges\"],\"x\":{\"type\":\"field\",\"field\":\"Longitude\"},\"y\":{\"type\":\"field\",\"field\":\"Latitude\"},\"size\":{\"type\":\"value\",\"value\":5.477225575051661},\"angle\":{\"type\":\"value\",\"value\":0.0},\"line_color\":{\"type\":\"value\",\"value\":\"#e5ae38\"},\"line_alpha\":{\"type\":\"value\",\"value\":0.5},\"line_width\":{\"type\":\"value\",\"value\":1},\"line_join\":{\"type\":\"value\",\"value\":\"bevel\"},\"line_cap\":{\"type\":\"value\",\"value\":\"butt\"},\"line_dash\":{\"type\":\"value\",\"value\":[]},\"line_dash_offset\":{\"type\":\"value\",\"value\":0},\"fill_color\":{\"type\":\"value\",\"value\":\"#e5ae38\"},\"fill_alpha\":{\"type\":\"value\",\"value\":0.5},\"hatch_color\":{\"type\":\"value\",\"value\":\"#e5ae38\"},\"hatch_alpha\":{\"type\":\"value\",\"value\":0.5},\"hatch_scale\":{\"type\":\"value\",\"value\":12.0},\"hatch_pattern\":{\"type\":\"value\",\"value\":null},\"hatch_weight\":{\"type\":\"value\",\"value\":1.0},\"marker\":{\"type\":\"value\",\"value\":\"circle\"}}},\"nonselection_glyph\":{\"type\":\"object\",\"name\":\"Scatter\",\"id\":\"p2282\",\"attributes\":{\"tags\":[\"apply_ranges\"],\"x\":{\"type\":\"field\",\"field\":\"Longitude\"},\"y\":{\"type\":\"field\",\"field\":\"Latitude\"},\"size\":{\"type\":\"value\",\"value\":5.477225575051661},\"line_color\":{\"type\":\"value\",\"value\":\"#e5ae38\"},\"line_alpha\":{\"type\":\"value\",\"value\":0.5},\"fill_color\":{\"type\":\"value\",\"value\":\"#e5ae38\"},\"fill_alpha\":{\"type\":\"value\",\"value\":0.5},\"hatch_color\":{\"type\":\"value\",\"value\":\"#e5ae38\"},\"hatch_alpha\":{\"type\":\"value\",\"value\":0.1}}},\"muted_glyph\":{\"type\":\"object\",\"name\":\"Scatter\",\"id\":\"p2283\",\"attributes\":{\"tags\":[\"apply_ranges\"],\"x\":{\"type\":\"field\",\"field\":\"Longitude\"},\"y\":{\"type\":\"field\",\"field\":\"Latitude\"},\"size\":{\"type\":\"value\",\"value\":5.477225575051661},\"line_color\":{\"type\":\"value\",\"value\":\"#e5ae38\"},\"line_alpha\":{\"type\":\"value\",\"value\":0.2},\"fill_color\":{\"type\":\"value\",\"value\":\"#e5ae38\"},\"fill_alpha\":{\"type\":\"value\",\"value\":0.2},\"hatch_color\":{\"type\":\"value\",\"value\":\"#e5ae38\"},\"hatch_alpha\":{\"type\":\"value\",\"value\":0.2}}}}}],\"toolbar\":{\"type\":\"object\",\"name\":\"Toolbar\",\"id\":\"p2198\",\"attributes\":{\"tools\":[{\"type\":\"object\",\"name\":\"WheelZoomTool\",\"id\":\"p2144\",\"attributes\":{\"renderers\":\"auto\",\"zoom_on_axis\":false}},{\"type\":\"object\",\"name\":\"BoxZoomTool\",\"id\":\"p2145\",\"attributes\":{\"overlay\":{\"type\":\"object\",\"name\":\"BoxAnnotation\",\"id\":\"p1006\",\"attributes\":{\"syncable\":false,\"level\":\"overlay\",\"visible\":false,\"left\":{\"type\":\"number\",\"value\":\"nan\"},\"right\":{\"type\":\"number\",\"value\":\"nan\"},\"top\":{\"type\":\"number\",\"value\":\"nan\"},\"bottom\":{\"type\":\"number\",\"value\":\"nan\"},\"left_units\":\"canvas\",\"right_units\":\"canvas\",\"top_units\":\"canvas\",\"bottom_units\":\"canvas\",\"line_color\":\"black\",\"line_alpha\":1.0,\"line_width\":2,\"line_dash\":[4,4],\"fill_color\":\"lightgrey\",\"fill_alpha\":0.5}},\"match_aspect\":true}},{\"type\":\"object\",\"name\":\"HoverTool\",\"id\":\"p2158\",\"attributes\":{\"tags\":[\"hv_created\"],\"renderers\":[{\"id\":\"p2235\"},{\"id\":\"p2260\"},{\"id\":\"p2284\"}],\"tooltips\":[[\"Longitude\",\"$x{custom}\"],[\"Latitude\",\"$y{custom}\"]],\"formatters\":{\"type\":\"map\",\"entries\":[[\"$x\",{\"type\":\"object\",\"name\":\"CustomJSHover\",\"id\":\"p2224\",\"attributes\":{\"code\":\"\\n        const projections = Bokeh.require(\\\"core/util/projections\\\");\\n        const {snap_x, snap_y} = special_vars\\n        const coords = projections.wgs84_mercator.invert(snap_x, snap_y)\\n        return \\\"\\\" + (coords[0]).toFixed(4)\\n    \"}}],[\"$y\",{\"type\":\"object\",\"name\":\"CustomJSHover\",\"id\":\"p2225\",\"attributes\":{\"code\":\"\\n        const projections = Bokeh.require(\\\"core/util/projections\\\");\\n        const {snap_x, snap_y} = special_vars\\n        const coords = projections.wgs84_mercator.invert(snap_x, snap_y)\\n        return \\\"\\\" + (coords[1]).toFixed(4)\\n    \"}}]]}}},{\"type\":\"object\",\"name\":\"PanTool\",\"id\":\"p2212\"},{\"type\":\"object\",\"name\":\"ResetTool\",\"id\":\"p2213\"}],\"active_drag\":{\"id\":\"p2212\"}}},\"left\":[{\"type\":\"object\",\"name\":\"LinearAxis\",\"id\":\"p2206\",\"attributes\":{\"ticker\":{\"type\":\"object\",\"name\":\"MercatorTicker\",\"id\":\"p2216\",\"attributes\":{\"mantissas\":[1,2,5],\"dimension\":\"lat\"}},\"formatter\":{\"type\":\"object\",\"name\":\"MercatorTickFormatter\",\"id\":\"p2217\",\"attributes\":{\"dimension\":\"lat\"}},\"axis_label\":\"Latitude\",\"major_label_policy\":{\"type\":\"object\",\"name\":\"AllLabels\",\"id\":\"p2209\"}}}],\"right\":[{\"type\":\"object\",\"name\":\"Legend\",\"id\":\"p2238\",\"attributes\":{\"location\":[0,0],\"click_policy\":\"mute\",\"items\":[{\"type\":\"object\",\"name\":\"LegendItem\",\"id\":\"p2239\",\"attributes\":{\"label\":{\"type\":\"value\",\"value\":\"DSMP\"},\"renderers\":[{\"id\":\"p2235\"}]}},{\"type\":\"object\",\"name\":\"LegendItem\",\"id\":\"p2263\",\"attributes\":{\"label\":{\"type\":\"value\",\"value\":\"WQMN\"},\"renderers\":[{\"id\":\"p2260\"}]}},{\"type\":\"object\",\"name\":\"LegendItem\",\"id\":\"p2287\",\"attributes\":{\"label\":{\"type\":\"value\",\"value\":\"Hydromet\"},\"renderers\":[{\"id\":\"p2284\"}]}}]}}],\"below\":[{\"type\":\"object\",\"name\":\"LinearAxis\",\"id\":\"p2201\",\"attributes\":{\"ticker\":{\"type\":\"object\",\"name\":\"MercatorTicker\",\"id\":\"p2214\",\"attributes\":{\"mantissas\":[1,2,5],\"dimension\":\"lon\"}},\"formatter\":{\"type\":\"object\",\"name\":\"MercatorTickFormatter\",\"id\":\"p2215\",\"attributes\":{\"dimension\":\"lon\"}},\"axis_label\":\"Longitude\",\"major_label_policy\":{\"type\":\"object\",\"name\":\"AllLabels\",\"id\":\"p2204\"}}}],\"center\":[{\"type\":\"object\",\"name\":\"Grid\",\"id\":\"p2205\",\"attributes\":{\"axis\":{\"id\":\"p2201\"},\"grid_line_color\":null}},{\"type\":\"object\",\"name\":\"Grid\",\"id\":\"p2210\",\"attributes\":{\"dimension\":1,\"axis\":{\"id\":\"p2206\"},\"grid_line_color\":null}}],\"frame_width\":195,\"frame_height\":300,\"min_border_top\":10,\"min_border_bottom\":10,\"min_border_left\":10,\"min_border_right\":10,\"output_backend\":\"webgl\",\"match_aspect\":true}},{\"type\":\"object\",\"name\":\"Spacer\",\"id\":\"p2292\",\"attributes\":{\"name\":\"HSpacer04127\",\"stylesheets\":[\"\\n:host(.pn-loading.pn-arc):before, .pn-loading.pn-arc:before {\\n  background-image: url(\\\"data:image/svg+xml;base64,PHN2ZyB4bWxucz0iaHR0cDovL3d3dy53My5vcmcvMjAwMC9zdmciIHN0eWxlPSJtYXJnaW46IGF1dG87IGJhY2tncm91bmQ6IG5vbmU7IGRpc3BsYXk6IGJsb2NrOyBzaGFwZS1yZW5kZXJpbmc6IGF1dG87IiB2aWV3Qm94PSIwIDAgMTAwIDEwMCIgcHJlc2VydmVBc3BlY3RSYXRpbz0ieE1pZFlNaWQiPiAgPGNpcmNsZSBjeD0iNTAiIGN5PSI1MCIgZmlsbD0ibm9uZSIgc3Ryb2tlPSIjYzNjM2MzIiBzdHJva2Utd2lkdGg9IjEwIiByPSIzNSIgc3Ryb2tlLWRhc2hhcnJheT0iMTY0LjkzMzYxNDMxMzQ2NDE1IDU2Ljk3Nzg3MTQzNzgyMTM4Ij4gICAgPGFuaW1hdGVUcmFuc2Zvcm0gYXR0cmlidXRlTmFtZT0idHJhbnNmb3JtIiB0eXBlPSJyb3RhdGUiIHJlcGVhdENvdW50PSJpbmRlZmluaXRlIiBkdXI9IjFzIiB2YWx1ZXM9IjAgNTAgNTA7MzYwIDUwIDUwIiBrZXlUaW1lcz0iMDsxIj48L2FuaW1hdGVUcmFuc2Zvcm0+ICA8L2NpcmNsZT48L3N2Zz4=\\\");\\n  background-size: auto calc(min(50%, 400px));\\n}\",{\"id\":\"p2117\"},{\"id\":\"p2115\"},{\"id\":\"p2116\"}],\"margin\":0,\"sizing_mode\":\"stretch_width\",\"align\":\"start\"}}]}}],\"defs\":[{\"type\":\"model\",\"name\":\"ReactiveHTML1\"},{\"type\":\"model\",\"name\":\"FlexBox1\",\"properties\":[{\"name\":\"align_content\",\"kind\":\"Any\",\"default\":\"flex-start\"},{\"name\":\"align_items\",\"kind\":\"Any\",\"default\":\"flex-start\"},{\"name\":\"flex_direction\",\"kind\":\"Any\",\"default\":\"row\"},{\"name\":\"flex_wrap\",\"kind\":\"Any\",\"default\":\"wrap\"},{\"name\":\"justify_content\",\"kind\":\"Any\",\"default\":\"flex-start\"}]},{\"type\":\"model\",\"name\":\"FloatPanel1\",\"properties\":[{\"name\":\"config\",\"kind\":\"Any\",\"default\":{\"type\":\"map\"}},{\"name\":\"contained\",\"kind\":\"Any\",\"default\":true},{\"name\":\"position\",\"kind\":\"Any\",\"default\":\"right-top\"},{\"name\":\"offsetx\",\"kind\":\"Any\",\"default\":null},{\"name\":\"offsety\",\"kind\":\"Any\",\"default\":null},{\"name\":\"theme\",\"kind\":\"Any\",\"default\":\"primary\"},{\"name\":\"status\",\"kind\":\"Any\",\"default\":\"normalized\"}]},{\"type\":\"model\",\"name\":\"GridStack1\",\"properties\":[{\"name\":\"mode\",\"kind\":\"Any\",\"default\":\"warn\"},{\"name\":\"ncols\",\"kind\":\"Any\",\"default\":null},{\"name\":\"nrows\",\"kind\":\"Any\",\"default\":null},{\"name\":\"allow_resize\",\"kind\":\"Any\",\"default\":true},{\"name\":\"allow_drag\",\"kind\":\"Any\",\"default\":true},{\"name\":\"state\",\"kind\":\"Any\",\"default\":[]}]},{\"type\":\"model\",\"name\":\"drag1\",\"properties\":[{\"name\":\"slider_width\",\"kind\":\"Any\",\"default\":5},{\"name\":\"slider_color\",\"kind\":\"Any\",\"default\":\"black\"},{\"name\":\"value\",\"kind\":\"Any\",\"default\":50}]},{\"type\":\"model\",\"name\":\"click1\",\"properties\":[{\"name\":\"terminal_output\",\"kind\":\"Any\",\"default\":\"\"},{\"name\":\"debug_name\",\"kind\":\"Any\",\"default\":\"\"},{\"name\":\"clears\",\"kind\":\"Any\",\"default\":0}]},{\"type\":\"model\",\"name\":\"copy_to_clipboard1\",\"properties\":[{\"name\":\"fill\",\"kind\":\"Any\",\"default\":\"none\"},{\"name\":\"value\",\"kind\":\"Any\",\"default\":null}]},{\"type\":\"model\",\"name\":\"FastWrapper1\",\"properties\":[{\"name\":\"object\",\"kind\":\"Any\",\"default\":null},{\"name\":\"style\",\"kind\":\"Any\",\"default\":null}]},{\"type\":\"model\",\"name\":\"NotificationAreaBase1\",\"properties\":[{\"name\":\"js_events\",\"kind\":\"Any\",\"default\":{\"type\":\"map\"}},{\"name\":\"position\",\"kind\":\"Any\",\"default\":\"bottom-right\"},{\"name\":\"_clear\",\"kind\":\"Any\",\"default\":0}]},{\"type\":\"model\",\"name\":\"NotificationArea1\",\"properties\":[{\"name\":\"js_events\",\"kind\":\"Any\",\"default\":{\"type\":\"map\"}},{\"name\":\"notifications\",\"kind\":\"Any\",\"default\":[]},{\"name\":\"position\",\"kind\":\"Any\",\"default\":\"bottom-right\"},{\"name\":\"_clear\",\"kind\":\"Any\",\"default\":0},{\"name\":\"types\",\"kind\":\"Any\",\"default\":[{\"type\":\"map\",\"entries\":[[\"type\",\"warning\"],[\"background\",\"#ffc107\"],[\"icon\",{\"type\":\"map\",\"entries\":[[\"className\",\"fas fa-exclamation-triangle\"],[\"tagName\",\"i\"],[\"color\",\"white\"]]}]]},{\"type\":\"map\",\"entries\":[[\"type\",\"info\"],[\"background\",\"#007bff\"],[\"icon\",{\"type\":\"map\",\"entries\":[[\"className\",\"fas fa-info-circle\"],[\"tagName\",\"i\"],[\"color\",\"white\"]]}]]}]}]},{\"type\":\"model\",\"name\":\"Notification\",\"properties\":[{\"name\":\"background\",\"kind\":\"Any\",\"default\":null},{\"name\":\"duration\",\"kind\":\"Any\",\"default\":3000},{\"name\":\"icon\",\"kind\":\"Any\",\"default\":null},{\"name\":\"message\",\"kind\":\"Any\",\"default\":\"\"},{\"name\":\"notification_type\",\"kind\":\"Any\",\"default\":null},{\"name\":\"_destroyed\",\"kind\":\"Any\",\"default\":false}]},{\"type\":\"model\",\"name\":\"TemplateActions1\",\"properties\":[{\"name\":\"open_modal\",\"kind\":\"Any\",\"default\":0},{\"name\":\"close_modal\",\"kind\":\"Any\",\"default\":0}]},{\"type\":\"model\",\"name\":\"BootstrapTemplateActions1\",\"properties\":[{\"name\":\"open_modal\",\"kind\":\"Any\",\"default\":0},{\"name\":\"close_modal\",\"kind\":\"Any\",\"default\":0}]},{\"type\":\"model\",\"name\":\"MaterialTemplateActions1\",\"properties\":[{\"name\":\"open_modal\",\"kind\":\"Any\",\"default\":0},{\"name\":\"close_modal\",\"kind\":\"Any\",\"default\":0}]}]}};\n",
       "  var render_items = [{\"docid\":\"33b1ff2d-33d8-4d6c-af92-4cf41467f8f3\",\"roots\":{\"p2114\":\"c6301dd6-dc57-45c9-b21f-cf3cf8c728bc\"},\"root_ids\":[\"p2114\"]}];\n",
       "  var docs = Object.values(docs_json)\n",
       "  if (!docs) {\n",
       "    return\n",
       "  }\n",
       "  const py_version = docs[0].version.replace('rc', '-rc.').replace('.dev', '-dev.')\n",
       "  function embed_document(root) {\n",
       "    var Bokeh = get_bokeh(root)\n",
       "    Bokeh.embed.embed_items_notebook(docs_json, render_items);\n",
       "    for (const render_item of render_items) {\n",
       "      for (const root_id of render_item.root_ids) {\n",
       "\tconst id_el = document.getElementById(root_id)\n",
       "\tif (id_el.children.length && (id_el.children[0].className === 'bk-root')) {\n",
       "\t  const root_el = id_el.children[0]\n",
       "\t  root_el.id = root_el.id + '-rendered'\n",
       "\t}\n",
       "      }\n",
       "    }\n",
       "  }\n",
       "  function get_bokeh(root) {\n",
       "    if (root.Bokeh === undefined) {\n",
       "      return null\n",
       "    } else if (root.Bokeh.version !== py_version) {\n",
       "      if (root.Bokeh.versions === undefined || !root.Bokeh.versions.has(py_version)) {\n",
       "\treturn null\n",
       "      }\n",
       "      return root.Bokeh.versions.get(py_version);\n",
       "    } else if (root.Bokeh.version === py_version) {\n",
       "      return root.Bokeh\n",
       "    }\n",
       "    return null\n",
       "  }\n",
       "  function is_loaded(root) {\n",
       "    var Bokeh = get_bokeh(root)\n",
       "    return (Bokeh != null && Bokeh.Panel !== undefined)\n",
       "  }\n",
       "  if (is_loaded(root)) {\n",
       "    embed_document(root);\n",
       "  } else {\n",
       "    var attempts = 0;\n",
       "    var timer = setInterval(function(root) {\n",
       "      if (is_loaded(root)) {\n",
       "        clearInterval(timer);\n",
       "        embed_document(root);\n",
       "      } else if (document.readyState == \"complete\") {\n",
       "        attempts++;\n",
       "        if (attempts > 200) {\n",
       "          clearInterval(timer);\n",
       "\t  var Bokeh = get_bokeh(root)\n",
       "\t  if (Bokeh == null || Bokeh.Panel == null) {\n",
       "            console.warn(\"Panel: ERROR: Unable to run Panel code because Bokeh or Panel library is missing\");\n",
       "\t  } else {\n",
       "\t    console.warn(\"Panel: WARNING: Attempting to render but not all required libraries could be resolved.\")\n",
       "\t    embed_document(root)\n",
       "\t  }\n",
       "        }\n",
       "      }\n",
       "    }, 25, root)\n",
       "  }\n",
       "})(window);</script>"
      ],
      "text/plain": [
       ":Overlay\n",
       "   .WMTS.I          :WMTS   [Longitude,Latitude]\n",
       "   .Points.DSMP     :Points   [Longitude,Latitude]\n",
       "   .WMTS.II         :WMTS   [Longitude,Latitude]\n",
       "   .Points.WQMN     :Points   [Longitude,Latitude]\n",
       "   .WMTS.III        :WMTS   [Longitude,Latitude]\n",
       "   .Points.Hydromet :Points   [Longitude,Latitude]"
      ]
     },
     "execution_count": 51,
     "metadata": {
      "application/vnd.holoviews_exec.v0+json": {
       "id": "p2114"
      }
     },
     "output_type": "execute_result"
    }
   ],
   "source": [
    "gdf_data_dsmp.groupby('identifier').first().hvplot(geo=True, tiles='CartoLight', label='DSMP', alpha=0.5) * \\\n",
    "gdf_data_wqmn.groupby('identifier').first().hvplot(geo=True, tiles='CartoLight', label='WQMN', alpha=0.5) * \\\n",
    "gdf_data_hydrom.groupby('identifier').first().hvplot(geo=True, tiles='CartoLight', label='Hydromet', alpha=0.5)"
   ]
  },
  {
   "cell_type": "code",
   "execution_count": 52,
   "metadata": {},
   "outputs": [],
   "source": [
    "gdf_data = pd.concat([gdf_data_dsmp, gdf_data_wqmn, gdf_data_hydrom])\n",
    "gdf_data.to_csv('input/insitu_data.csv')"
   ]
  }
 ],
 "metadata": {
  "kernelspec": {
   "display_name": "Python 3 (ipykernel)",
   "language": "python",
   "name": "python3"
  },
  "language_info": {
   "codemirror_mode": {
    "name": "ipython",
    "version": 3
   },
   "file_extension": ".py",
   "mimetype": "text/x-python",
   "name": "python",
   "nbconvert_exporter": "python",
   "pygments_lexer": "ipython3",
   "version": "3.12.1"
  }
 },
 "nbformat": 4,
 "nbformat_minor": 4
}
