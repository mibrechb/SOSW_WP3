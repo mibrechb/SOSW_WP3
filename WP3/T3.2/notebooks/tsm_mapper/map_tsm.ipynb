{
 "cells": [
  {
   "cell_type": "code",
   "execution_count": 2,
   "id": "5aba1e38-b579-4750-8dfa-b9503c475539",
   "metadata": {},
   "outputs": [
    {
     "data": {
      "text/html": [
       "\n",
       "            <style>\n",
       "                .geemap-dark {\n",
       "                    --jp-widgets-color: white;\n",
       "                    --jp-widgets-label-color: white;\n",
       "                    --jp-ui-font-color1: white;\n",
       "                    --jp-layout-color2: #454545;\n",
       "                    background-color: #383838;\n",
       "                }\n",
       "                    \n",
       "                .geemap-dark .jupyter-button {\n",
       "                    --jp-layout-color3: #383838;\n",
       "                }\n",
       "                \n",
       "                .geemap-colab {\n",
       "                    background-color: var(--colab-primary-surface-color, white);\n",
       "                }\n",
       "                    \n",
       "                .geemap-colab .jupyter-button {\n",
       "                    --jp-layout-color3: var(--colab-primary-surface-color, white);\n",
       "                }\n",
       "            </style>\n",
       "            "
      ],
      "text/plain": [
       "<IPython.core.display.HTML object>"
      ]
     },
     "metadata": {},
     "output_type": "display_data"
    }
   ],
   "source": [
    "import ee\n",
    "import geemap\n",
    "import hvplot.pandas\n",
    "import hvplot.xarray\n",
    "import xarray as xr\n",
    "import geopandas as gpd\n",
    "import pandas as pd\n",
    "import numpy as np"
   ]
  },
  {
   "cell_type": "code",
   "execution_count": 3,
   "id": "81d03778-c932-4320-83e5-a97cb7e7347d",
   "metadata": {},
   "outputs": [
    {
     "data": {
      "text/html": [
       "\n",
       "            <style>\n",
       "                .geemap-dark {\n",
       "                    --jp-widgets-color: white;\n",
       "                    --jp-widgets-label-color: white;\n",
       "                    --jp-ui-font-color1: white;\n",
       "                    --jp-layout-color2: #454545;\n",
       "                    background-color: #383838;\n",
       "                }\n",
       "                    \n",
       "                .geemap-dark .jupyter-button {\n",
       "                    --jp-layout-color3: #383838;\n",
       "                }\n",
       "                \n",
       "                .geemap-colab {\n",
       "                    background-color: var(--colab-primary-surface-color, white);\n",
       "                }\n",
       "                    \n",
       "                .geemap-colab .jupyter-button {\n",
       "                    --jp-layout-color3: var(--colab-primary-surface-color, white);\n",
       "                }\n",
       "            </style>\n",
       "            "
      ],
      "text/plain": [
       "<IPython.core.display.HTML object>"
      ]
     },
     "metadata": {},
     "output_type": "display_data"
    },
    {
     "data": {
      "text/plain": [
       "True"
      ]
     },
     "execution_count": 3,
     "metadata": {},
     "output_type": "execute_result"
    }
   ],
   "source": [
    "ee.Authenticate()"
   ]
  },
  {
   "cell_type": "code",
   "execution_count": 29,
   "id": "cf0e7929-604e-4300-9c87-8cc78ead5934",
   "metadata": {},
   "outputs": [
    {
     "data": {
      "text/html": [
       "\n",
       "            <style>\n",
       "                .geemap-dark {\n",
       "                    --jp-widgets-color: white;\n",
       "                    --jp-widgets-label-color: white;\n",
       "                    --jp-ui-font-color1: white;\n",
       "                    --jp-layout-color2: #454545;\n",
       "                    background-color: #383838;\n",
       "                }\n",
       "                    \n",
       "                .geemap-dark .jupyter-button {\n",
       "                    --jp-layout-color3: #383838;\n",
       "                }\n",
       "                \n",
       "                .geemap-colab {\n",
       "                    background-color: var(--colab-primary-surface-color, white);\n",
       "                }\n",
       "                    \n",
       "                .geemap-colab .jupyter-button {\n",
       "                    --jp-layout-color3: var(--colab-primary-surface-color, white);\n",
       "                }\n",
       "            </style>\n",
       "            "
      ],
      "text/plain": [
       "<IPython.core.display.HTML object>"
      ]
     },
     "metadata": {},
     "output_type": "display_data"
    },
    {
     "data": {
      "application/vnd.jupyter.widget-view+json": {
       "model_id": "6a489c486a6d456396e668cbd4a88bea",
       "version_major": 2,
       "version_minor": 0
      },
      "text/plain": [
       "Map(center=[40, -100], controls=(WidgetControl(options=['position', 'transparent_bg'], widget=SearchDataGUI(ch…"
      ]
     },
     "execution_count": 29,
     "metadata": {},
     "output_type": "execute_result"
    }
   ],
   "source": [
    "Map = geemap.Map(center=(40, -100), zoom=4)\n",
    "Map"
   ]
  },
  {
   "cell_type": "code",
   "execution_count": 148,
   "id": "70045cec-b6d3-4267-b552-2dafb83a07fe",
   "metadata": {},
   "outputs": [
    {
     "data": {
      "text/html": [
       "\n",
       "            <style>\n",
       "                .geemap-dark {\n",
       "                    --jp-widgets-color: white;\n",
       "                    --jp-widgets-label-color: white;\n",
       "                    --jp-ui-font-color1: white;\n",
       "                    --jp-layout-color2: #454545;\n",
       "                    background-color: #383838;\n",
       "                }\n",
       "                    \n",
       "                .geemap-dark .jupyter-button {\n",
       "                    --jp-layout-color3: #383838;\n",
       "                }\n",
       "                \n",
       "                .geemap-colab {\n",
       "                    background-color: var(--colab-primary-surface-color, white);\n",
       "                }\n",
       "                    \n",
       "                .geemap-colab .jupyter-button {\n",
       "                    --jp-layout-color3: var(--colab-primary-surface-color, white);\n",
       "                }\n",
       "            </style>\n",
       "            "
      ],
      "text/plain": [
       "<IPython.core.display.HTML object>"
      ]
     },
     "metadata": {},
     "output_type": "display_data"
    }
   ],
   "source": [
    "kwargs = {\n",
    "}\n",
    "# Set timespan\n",
    "start_date, end_date = '2000-01-01', '2024-01-30'\n",
    "\n",
    "# Cloud masking (scene-based)\n",
    "cld_filt_thresh = 80        # Maximum image cloud cover percent allowed in image collection\n",
    "\n",
    "# water masking\n",
    "mask_water = False\n",
    "\n",
    "# # Cloud masking (pixel-based, s2cloudless only)\n",
    "# cld_prb_thresh = 25      # Cloud probability (%); values greater than are considered cloud\n",
    "# cld_prj_dist = 1          # Maximum distance (km) to search for cloud shadows from cloud edges (based on Hollstein decision tree)\n",
    "\n",
    "# Cloud masking (pixel-based, cloud score+ only)\n",
    "qa_band = 'cs_cdf'\n",
    "clear_thresh = 0.75"
   ]
  },
  {
   "cell_type": "code",
   "execution_count": 105,
   "id": "789a9d65-7f33-4968-b9f1-870866075dc6",
   "metadata": {},
   "outputs": [
    {
     "data": {
      "text/html": [
       "\n",
       "            <style>\n",
       "                .geemap-dark {\n",
       "                    --jp-widgets-color: white;\n",
       "                    --jp-widgets-label-color: white;\n",
       "                    --jp-ui-font-color1: white;\n",
       "                    --jp-layout-color2: #454545;\n",
       "                    background-color: #383838;\n",
       "                }\n",
       "                    \n",
       "                .geemap-dark .jupyter-button {\n",
       "                    --jp-layout-color3: #383838;\n",
       "                }\n",
       "                \n",
       "                .geemap-colab {\n",
       "                    background-color: var(--colab-primary-surface-color, white);\n",
       "                }\n",
       "                    \n",
       "                .geemap-colab .jupyter-button {\n",
       "                    --jp-layout-color3: var(--colab-primary-surface-color, white);\n",
       "                }\n",
       "            </style>\n",
       "            "
      ],
      "text/plain": [
       "<IPython.core.display.HTML object>"
      ]
     },
     "metadata": {},
     "output_type": "display_data"
    }
   ],
   "source": [
    "geemap.ee_to_gdf(stations).to_csv('stations.csv')"
   ]
  },
  {
   "cell_type": "code",
   "execution_count": 126,
   "id": "965c72da-3ffe-4b9f-aa9a-3b65dce4a927",
   "metadata": {},
   "outputs": [
    {
     "data": {
      "text/html": [
       "\n",
       "            <style>\n",
       "                .geemap-dark {\n",
       "                    --jp-widgets-color: white;\n",
       "                    --jp-widgets-label-color: white;\n",
       "                    --jp-ui-font-color1: white;\n",
       "                    --jp-layout-color2: #454545;\n",
       "                    background-color: #383838;\n",
       "                }\n",
       "                    \n",
       "                .geemap-dark .jupyter-button {\n",
       "                    --jp-layout-color3: #383838;\n",
       "                }\n",
       "                \n",
       "                .geemap-colab {\n",
       "                    background-color: var(--colab-primary-surface-color, white);\n",
       "                }\n",
       "                    \n",
       "                .geemap-colab .jupyter-button {\n",
       "                    --jp-layout-color3: var(--colab-primary-surface-color, white);\n",
       "                }\n",
       "            </style>\n",
       "            "
      ],
      "text/plain": [
       "<IPython.core.display.HTML object>"
      ]
     },
     "metadata": {},
     "output_type": "display_data"
    }
   ],
   "source": [
    "# load 3S basin\n",
    "json_data = 'geometries/geoms.geojson'\n",
    "fc_geoms = geemap.geojson_to_ee(json_data)\n",
    "roi_geom = fc_geoms.first().geometry()\n",
    "\n",
    "# load dams\n",
    "df = pd.read_csv('geometries/3SReservoirs.csv')\n",
    "gdf_dams = gpd.GeoDataFrame(df, geometry=gpd.GeoSeries.from_xy(df['X'], df['Y']), crs=4326).drop(columns=['X', 'Y']).set_index('id')\n",
    "fc_dams = geemap.geopandas_to_ee(gdf_dams)\n",
    "\n",
    "# define stations\n",
    "stations = ee.FeatureCollection([\n",
    "  ee.Feature(ee.Algorithms.GeometryConstructors.Point([106.39220569493087, 14.11961739545873]), {'station_id': '430102', 'station_name': 'Siempang'}),\n",
    "  ee.Feature(ee.Algorithms.GeometryConstructors.Point([107.78237137912318, 12.897991717109619]), {'station_id': '451305', 'station_name': 'Ban Don'}),\n",
    "  ee.Feature(ee.Algorithms.GeometryConstructors.Point([106.5278998223061, 13.553039642985812]), {'station_id': '450101', 'station_name': 'Lum Phat'}),\n",
    "  ee.Feature(ee.Algorithms.GeometryConstructors.Point([107.47041987706022, 13.940093424442852]), {'station_id': '440202', 'station_name': 'Pleiku'}),\n",
    "  ee.Feature(ee.Algorithms.GeometryConstructors.Point([107.10639453530615, 14.050489408398247]), {'station_id': '440103', 'station_name': 'Andaung Meas'}),\n",
    "  ee.Feature(ee.Algorithms.GeometryConstructors.Point([107.44760623609672, 13.792268298200513]), {'station_id': '440100', 'station_name': 'Phum Pi'}),\n",
    "  ee.Feature(ee.Algorithms.GeometryConstructors.Point([105.987503299606, 13.537303972542501]), {'station_id': '014501', 'station_name': 'Stung Treng'}),\n",
    "])\n",
    "\n",
    "lake_rhone = ee.Feature(ee.FeatureCollection('users/michaelbrechbuehler/Landsat_ST/shapefiles/rhone_wgs84').first().geometry().centroid(), {'station_id': 'Rhonesee'})\n",
    "lake_steisee = ee.Feature(ee.FeatureCollection('users/michaelbrechbuehler/Landsat_ST/shapefiles/steisee_wgs84').first().geometry().centroid(), {'station_id': 'Steinsee'})\n",
    "\n",
    "# add S2 clear median\n",
    "filters = ee.Filter.And(\n",
    "    ee.Filter.bounds(roi_geom), \n",
    "    ee.Filter.date('2017-12-01', '2019-03-31'),\n",
    "    ee.Filter.lt('CLOUDY_PIXEL_PERCENTAGE', 10)\n",
    ")\n",
    "s2_median = ee.ImageCollection(\"COPERNICUS/S2_SR\").filter(filters).median()\n",
    "\n",
    "Map.addLayer(s2_median, {'bands': ['B4', 'B3', 'B2'], 'min': 0, 'max': 2000}, 'Sentinel-2 RGB')\n",
    "Map.addLayer(roi_geom, {'color': 'yellow'}, '3S Basin')\n",
    "Map.addLayer(stations, {'color': 'red'}, 'Stations')\n",
    "Map.add_gdf(gdf_dams, 'Dams', {'color': 'blue'})\n",
    "Map.centerObject(stations)"
   ]
  },
  {
   "cell_type": "markdown",
   "id": "915ee17a-bb41-4bc7-8f82-2db93d8aeeba",
   "metadata": {},
   "source": [
    "## Get point samples at virtual stations"
   ]
  },
  {
   "cell_type": "code",
   "execution_count": 110,
   "id": "b7cf7458-5789-49cd-bc63-f786f00b2320",
   "metadata": {},
   "outputs": [
    {
     "data": {
      "text/html": [
       "\n",
       "            <style>\n",
       "                .geemap-dark {\n",
       "                    --jp-widgets-color: white;\n",
       "                    --jp-widgets-label-color: white;\n",
       "                    --jp-ui-font-color1: white;\n",
       "                    --jp-layout-color2: #454545;\n",
       "                    background-color: #383838;\n",
       "                }\n",
       "                    \n",
       "                .geemap-dark .jupyter-button {\n",
       "                    --jp-layout-color3: #383838;\n",
       "                }\n",
       "                \n",
       "                .geemap-colab {\n",
       "                    background-color: var(--colab-primary-surface-color, white);\n",
       "                }\n",
       "                    \n",
       "                .geemap-colab .jupyter-button {\n",
       "                    --jp-layout-color3: var(--colab-primary-surface-color, white);\n",
       "                }\n",
       "            </style>\n",
       "            "
      ],
      "text/plain": [
       "<IPython.core.display.HTML object>"
      ]
     },
     "metadata": {},
     "output_type": "display_data"
    }
   ],
   "source": [
    "stations = stations.filter(ee.Filter.eq('station_name', 'Lum Phat'))"
   ]
  },
  {
   "cell_type": "code",
   "execution_count": 156,
   "id": "dc6a228c-ce54-410c-84b3-7600e5f95d00",
   "metadata": {},
   "outputs": [
    {
     "data": {
      "text/html": [
       "\n",
       "            <style>\n",
       "                .geemap-dark {\n",
       "                    --jp-widgets-color: white;\n",
       "                    --jp-widgets-label-color: white;\n",
       "                    --jp-ui-font-color1: white;\n",
       "                    --jp-layout-color2: #454545;\n",
       "                    background-color: #383838;\n",
       "                }\n",
       "                    \n",
       "                .geemap-dark .jupyter-button {\n",
       "                    --jp-layout-color3: #383838;\n",
       "                }\n",
       "                \n",
       "                .geemap-colab {\n",
       "                    background-color: var(--colab-primary-surface-color, white);\n",
       "                }\n",
       "                    \n",
       "                .geemap-colab .jupyter-button {\n",
       "                    --jp-layout-color3: var(--colab-primary-surface-color, white);\n",
       "                }\n",
       "            </style>\n",
       "            "
      ],
      "text/plain": [
       "<IPython.core.display.HTML object>"
      ]
     },
     "metadata": {},
     "output_type": "display_data"
    },
    {
     "name": "stdout",
     "output_type": "stream",
     "text": [
      "The autoreload extension is already loaded. To reload it, use:\n",
      "  %reload_ext autoreload\n",
      "Siempang (430102)\n",
      "Exporting rrs_samples_siempang_430102... Please check the Task Manager from the JavaScript Code Editor.\n",
      "Ban Don (451305)\n",
      "Exporting rrs_samples_bandon_451305... Please check the Task Manager from the JavaScript Code Editor.\n",
      "Lum Phat (450101)\n",
      "Exporting rrs_samples_lumphat_450101... Please check the Task Manager from the JavaScript Code Editor.\n",
      "Pleiku (440202)\n",
      "Exporting rrs_samples_pleiku_440202... Please check the Task Manager from the JavaScript Code Editor.\n",
      "Andaung Meas (440103)\n",
      "Exporting rrs_samples_andaungmeas_440103... Please check the Task Manager from the JavaScript Code Editor.\n",
      "Phum Pi (440100)\n",
      "Exporting rrs_samples_phumpi_440100... Please check the Task Manager from the JavaScript Code Editor.\n",
      "Stung Treng (014501)\n",
      "Exporting rrs_samples_stungtreng_014501... Please check the Task Manager from the JavaScript Code Editor.\n"
     ]
    }
   ],
   "source": [
    "%load_ext autoreload\n",
    "%autoreload 2\n",
    "import functions_process as funcs_process\n",
    "import functions_turbidity as funcs_turb\n",
    "import functions_sampling as funcs_sampling\n",
    "\n",
    "for idx, row in geemap.ee_to_df(stations).iterrows():\n",
    "    name, id = row.station_name, row.station_id\n",
    "    print(f'{name} ({id})')\n",
    "    station = stations.filter(ee.Filter.eq('station_id', id))\n",
    "\n",
    "    # get Rrs imagecolls\n",
    "    ic_msi = funcs_process.load_rrs_imcoll(sensor='msi', start_date=start_date, end_date=end_date, mask_water=mask_water, bounds=station)\n",
    "    ic_oli = funcs_process.load_rrs_imcoll(sensor='oli', start_date=start_date, end_date=end_date, mask_water=mask_water, bounds=station)\n",
    "    ic_etm = funcs_process.load_rrs_imcoll(sensor='etm', start_date=start_date, end_date=end_date, mask_water=mask_water, bounds=station)\n",
    "    ic_all = ic_msi.merge(ic_oli).merge(ic_etm)\n",
    "    \n",
    "    # comput tsm features\n",
    "    ic_all = ic_all \\\n",
    "        .map(funcs_turb.calc_spm_nechad) \\\n",
    "        .map(funcs_turb.calc_tur_nechad) \\\n",
    "        .map(funcs_turb.calc_tur_dogliotti) \\\n",
    "        .map(funcs_turb.calc_indices)\n",
    "\n",
    "    # merge imagecolls and sample\n",
    "    fc_all = ee.FeatureCollection(ic_all.map(funcs_sampling.sample_image(station))).flatten()\n",
    "\n",
    "    # export to drive\n",
    "    geemap.ee_export_vector_to_drive(\n",
    "        fc_all.filter(ee.Filter.gt('roi_coverage', 90)),\n",
    "        fileFormat='CSV', \n",
    "        folder=\"export\",\n",
    "        description=f\"rrs_samples_{name.replace(' ', '').lower()}_{id}\", \n",
    "    )"
   ]
  },
  {
   "cell_type": "code",
   "execution_count": 122,
   "id": "fae27ce4-2e31-4cf3-8159-a462b6347144",
   "metadata": {},
   "outputs": [
    {
     "data": {
      "text/html": [
       "\n",
       "            <style>\n",
       "                .geemap-dark {\n",
       "                    --jp-widgets-color: white;\n",
       "                    --jp-widgets-label-color: white;\n",
       "                    --jp-ui-font-color1: white;\n",
       "                    --jp-layout-color2: #454545;\n",
       "                    background-color: #383838;\n",
       "                }\n",
       "                    \n",
       "                .geemap-dark .jupyter-button {\n",
       "                    --jp-layout-color3: #383838;\n",
       "                }\n",
       "                \n",
       "                .geemap-colab {\n",
       "                    background-color: var(--colab-primary-surface-color, white);\n",
       "                }\n",
       "                    \n",
       "                .geemap-colab .jupyter-button {\n",
       "                    --jp-layout-color3: var(--colab-primary-surface-color, white);\n",
       "                }\n",
       "            </style>\n",
       "            "
      ],
      "text/plain": [
       "<IPython.core.display.HTML object>"
      ]
     },
     "metadata": {},
     "output_type": "display_data"
    }
   ],
   "source": [
    "# fetch server-side data and convert to dataframe\n",
    "data = fc_all.filter(ee.Filter.gt('roi_coverage', 90)).getInfo()\n",
    "df_all = pd.DataFrame.from_dict(data['features'])\n",
    "df_all = df_all.join(df_all[\"properties\"].apply(pd.Series)).drop(columns=['geometry', 'properties'])\n",
    "df_all['timestamp'] = pd.to_datetime(df_all['system:time_start'], unit='ms')"
   ]
  },
  {
   "cell_type": "code",
   "execution_count": null,
   "id": "5c9870d7-9015-4100-9793-87b664072677",
   "metadata": {},
   "outputs": [],
   "source": [
    "# plot with hvplot\n",
    "df_all['red_median'] = np.where(df_all['platform']=='LANDSAT-7', df_all['B3_median'], df_all['B4_median'])\n",
    "df_all['nir_median'] = np.where(df_all['platform']=='LANDSAT-7', df_all['B4_median'], df_all['B5_median'])\n",
    "df_all.hvplot.line(x='timestamp', y='red_median', groupby='station_id') *\\\n",
    "df_all.hvplot.scatter(x='timestamp', y='red_median', color='platform', groupby='station_id')"
   ]
  },
  {
   "cell_type": "code",
   "execution_count": null,
   "id": "d4f935df-11af-46e3-8577-4e71f6c7c88b",
   "metadata": {},
   "outputs": [],
   "source": [
    "# plot with hvplot\n",
    "df_all.hvplot.line(x='timestamp', y='add_spm_B4_nechad_median', groupby='station_id') *\\\n",
    "df_all.hvplot.scatter(x='timestamp', y='add_spm_B4_nechad_median', color='platform', groupby='station_id')"
   ]
  },
  {
   "cell_type": "markdown",
   "id": "1b24610c-8a86-4111-beac-b1ce01853ddb",
   "metadata": {},
   "source": [
    "## Get map over virtual station"
   ]
  },
  {
   "cell_type": "code",
   "execution_count": null,
   "id": "0f576136-62e8-40d2-806c-7c4ecb49af93",
   "metadata": {},
   "outputs": [],
   "source": [
    "bounds = ee.Algorithms.GeometryConstructors.Point(gdf_dams.iloc[0].geometry.coords[0]).buffer(5000).bounds()"
   ]
  },
  {
   "cell_type": "code",
   "execution_count": null,
   "id": "4723c838-a2c4-4eab-9711-5657a7318835",
   "metadata": {},
   "outputs": [],
   "source": [
    "%load_ext autoreload\n",
    "%autoreload 2\n",
    "import functions_process as funcs_process\n",
    "import functions_turbidity as funcs_turb\n",
    "import functions_sampling as funcs_sampling\n",
    "\n",
    "# get Rrs imagecolls\n",
    "ic_msi = funcs_process.load_rrs_imcoll(sensor='msi', start_date=start_date, end_date=end_date, bounds=bounds)\n",
    "ic_oli = funcs_process.load_rrs_imcoll(sensor='oli', start_date=start_date, end_date=end_date, bounds=bounds)\n",
    "ic_etm = funcs_process.load_rrs_imcoll(sensor='etm', start_date=start_date, end_date=end_date, bounds=bounds)\n",
    "ic_all = ic_msi.merge(ic_oli).merge(ic_etm)\n",
    "\n",
    "# comput tsm features\n",
    "ic_all = ic_all \\\n",
    "    .map(funcs_turb.calc_spm_nechad) \\\n",
    "    .map(funcs_turb.calc_tur_nechad) \\\n",
    "    .map(funcs_turb.calc_tur_dogliotti) \\\n",
    "    .map(funcs_turb.calc_indices)"
   ]
  },
  {
   "cell_type": "code",
   "execution_count": null,
   "id": "63cdebb6-9e61-494d-a842-bbb30c9569c9",
   "metadata": {},
   "outputs": [],
   "source": [
    "crs = ic_msi.first().select(0).projection().crs()\n",
    "scale = 30\n",
    "\n",
    "# wxee convert to xarray\n",
    "#ds_msi = ic_msi.select('B4').limit(25).wx.to_xarray(scale=scale, region=bounds)\n",
    "\n",
    "# geemap export\n",
    "geemap.ee_export_image_collection_to_drive(ee.ImageCollection(ic_msi).select('B4'), folder='export/oli', maxPixels=200000000, region=bounds, scale=30)"
   ]
  },
  {
   "cell_type": "code",
   "execution_count": null,
   "id": "94f9b0c9-e49c-41c3-b399-43aa932d0fa6",
   "metadata": {},
   "outputs": [],
   "source": [
    "# Export red bands to geotiffs\n",
    "geemap.ee_export_image_collection_to_drive(ee.ImageCollection(imcoll_etm).select('B3'), folder='export/msi', maxPixels=200000000, region=bounds, scale=30)\n",
    "geemap.ee_export_image_collection_to_drive(ee.ImageCollection(imcoll_oli).select('B4'), folder='export/oli', maxPixels=200000000, region=bounds, scale=30)\n",
    "geemap.ee_export_image_collection_to_drive(ee.ImageCollection(imcoll_msi).select('B4'), folder='export/oli', maxPixels=200000000, region=bounds, scale=30)"
   ]
  },
  {
   "cell_type": "code",
   "execution_count": null,
   "id": "d5f703de-e7b1-45b1-9ed7-e35da9470220",
   "metadata": {},
   "outputs": [],
   "source": [
    "ee.Algorithms.GeometryConstructors.Point(gdf_dams.iloc[0].geometry.coords[0]).buffer(5000).bounds()"
   ]
  },
  {
   "cell_type": "code",
   "execution_count": null,
   "id": "c89db9e3-74c5-43c6-ab4b-cf5437df214d",
   "metadata": {},
   "outputs": [],
   "source": [
    "ds_msi.is_cloud.isel(time=0).plot()"
   ]
  },
  {
   "cell_type": "code",
   "execution_count": null,
   "id": "2256c3dc-3622-40c6-95ad-c5d57b8f5abc",
   "metadata": {},
   "outputs": [],
   "source": [
    "Map.centerObject(img_oli, 14)"
   ]
  },
  {
   "cell_type": "code",
   "execution_count": null,
   "id": "4f3997ee-6eb7-49ca-8fd8-1e560b7c93d1",
   "metadata": {},
   "outputs": [],
   "source": [
    "img_etm = ic_etm.sort('CLOUD_COVER', True).first()\n",
    "img_oli = ic_oli.sort('CLOUD_COVER', True).first()\n",
    "img_msi = ic_msi.sort('CLOUDY_PIXEL_PERCENTAGE', True).first()\n",
    "\n",
    "#vis = {'bands': 'Rrs_B4', 'min': 0, 'max': 0.2}\n",
    "Map.addLayer(ee.Image(img_etm),  {}, 'ETM+, Rrs_B3')\n",
    "Map.addLayer(ee.Image(img_oli),  {}, 'OLI, Rrs_B4')\n",
    "Map.addLayer(ee.Image(img_msi),  {}, 'MSI, Rrs_B4')\n",
    "Map.centerObject(img_msi, 14)"
   ]
  }
 ],
 "metadata": {
  "kernelspec": {
   "display_name": "Python 3 (ipykernel)",
   "language": "python",
   "name": "python3"
  },
  "language_info": {
   "codemirror_mode": {
    "name": "ipython",
    "version": 3
   },
   "file_extension": ".py",
   "mimetype": "text/x-python",
   "name": "python",
   "nbconvert_exporter": "python",
   "pygments_lexer": "ipython3",
   "version": "3.12.1"
  }
 },
 "nbformat": 4,
 "nbformat_minor": 5
}
