{
 "cells": [
  {
   "cell_type": "code",
   "execution_count": 37,
   "id": "5aba1e38-b579-4750-8dfa-b9503c475539",
   "metadata": {},
   "outputs": [
    {
     "data": {
      "text/html": [
       "\n",
       "            <style>\n",
       "                .geemap-dark {\n",
       "                    --jp-widgets-color: white;\n",
       "                    --jp-widgets-label-color: white;\n",
       "                    --jp-ui-font-color1: white;\n",
       "                    --jp-layout-color2: #454545;\n",
       "                    background-color: #383838;\n",
       "                }\n",
       "                    \n",
       "                .geemap-dark .jupyter-button {\n",
       "                    --jp-layout-color3: #383838;\n",
       "                }\n",
       "                \n",
       "                .geemap-colab {\n",
       "                    background-color: var(--colab-primary-surface-color, white);\n",
       "                }\n",
       "                    \n",
       "                .geemap-colab .jupyter-button {\n",
       "                    --jp-layout-color3: var(--colab-primary-surface-color, white);\n",
       "                }\n",
       "            </style>\n",
       "            "
      ],
      "text/plain": [
       "<IPython.core.display.HTML object>"
      ]
     },
     "metadata": {},
     "output_type": "display_data"
    }
   ],
   "source": [
    "import ee\n",
    "import geemap\n",
    "import hvplot.pandas\n",
    "import hvplot.xarray\n",
    "import xarray as xr\n",
    "import geopandas as gpd\n",
    "import pandas as pd\n",
    "import numpy as np\n",
    "from pathlib import Path\n",
    "import shapely"
   ]
  },
  {
   "cell_type": "code",
   "execution_count": 2,
   "id": "81d03778-c932-4320-83e5-a97cb7e7347d",
   "metadata": {},
   "outputs": [
    {
     "data": {
      "text/html": [
       "\n",
       "            <style>\n",
       "                .geemap-dark {\n",
       "                    --jp-widgets-color: white;\n",
       "                    --jp-widgets-label-color: white;\n",
       "                    --jp-ui-font-color1: white;\n",
       "                    --jp-layout-color2: #454545;\n",
       "                    background-color: #383838;\n",
       "                }\n",
       "                    \n",
       "                .geemap-dark .jupyter-button {\n",
       "                    --jp-layout-color3: #383838;\n",
       "                }\n",
       "                \n",
       "                .geemap-colab {\n",
       "                    background-color: var(--colab-primary-surface-color, white);\n",
       "                }\n",
       "                    \n",
       "                .geemap-colab .jupyter-button {\n",
       "                    --jp-layout-color3: var(--colab-primary-surface-color, white);\n",
       "                }\n",
       "            </style>\n",
       "            "
      ],
      "text/plain": [
       "<IPython.core.display.HTML object>"
      ]
     },
     "metadata": {},
     "output_type": "display_data"
    },
    {
     "data": {
      "text/html": [
       "<p>To authorize access needed by Earth Engine, open the following\n",
       "        URL in a web browser and follow the instructions:</p>\n",
       "        <p><a href=https://code.earthengine.google.com/client-auth?scopes=https%3A//www.googleapis.com/auth/earthengine%20https%3A//www.googleapis.com/auth/cloud-platform%20https%3A//www.googleapis.com/auth/devstorage.full_control&request_id=QWHxw452B84jJOX5W4smswM32L0AdZO0CaTKUPr9L3o&tc=SU6wHn48y6qcMF_QY9WPzJxJajuKIAnQk9dDD080nlU&cc=5HzRZOXylIr-q8LzGKSWNb7giXdTzAp0TsIILFNIM1g>https://code.earthengine.google.com/client-auth?scopes=https%3A//www.googleapis.com/auth/earthengine%20https%3A//www.googleapis.com/auth/cloud-platform%20https%3A//www.googleapis.com/auth/devstorage.full_control&request_id=QWHxw452B84jJOX5W4smswM32L0AdZO0CaTKUPr9L3o&tc=SU6wHn48y6qcMF_QY9WPzJxJajuKIAnQk9dDD080nlU&cc=5HzRZOXylIr-q8LzGKSWNb7giXdTzAp0TsIILFNIM1g</a></p>\n",
       "        <p>The authorization workflow will generate a code, which you should paste in the box below.</p>\n",
       "        "
      ],
      "text/plain": [
       "<IPython.core.display.HTML object>"
      ]
     },
     "metadata": {},
     "output_type": "display_data"
    },
    {
     "name": "stdin",
     "output_type": "stream",
     "text": [
      "Enter verification code:  4/1AeaYSHD0CZ47tMPCNfG4Wz-IOLzfYXRma8hqsRcRTcL9yTqbux5XzgHBqlw\n"
     ]
    },
    {
     "name": "stdout",
     "output_type": "stream",
     "text": [
      "\n",
      "Successfully saved authorization token.\n"
     ]
    }
   ],
   "source": [
    "ee.Authenticate()"
   ]
  },
  {
   "cell_type": "code",
   "execution_count": 3,
   "id": "cf0e7929-604e-4300-9c87-8cc78ead5934",
   "metadata": {},
   "outputs": [
    {
     "data": {
      "text/html": [
       "\n",
       "            <style>\n",
       "                .geemap-dark {\n",
       "                    --jp-widgets-color: white;\n",
       "                    --jp-widgets-label-color: white;\n",
       "                    --jp-ui-font-color1: white;\n",
       "                    --jp-layout-color2: #454545;\n",
       "                    background-color: #383838;\n",
       "                }\n",
       "                    \n",
       "                .geemap-dark .jupyter-button {\n",
       "                    --jp-layout-color3: #383838;\n",
       "                }\n",
       "                \n",
       "                .geemap-colab {\n",
       "                    background-color: var(--colab-primary-surface-color, white);\n",
       "                }\n",
       "                    \n",
       "                .geemap-colab .jupyter-button {\n",
       "                    --jp-layout-color3: var(--colab-primary-surface-color, white);\n",
       "                }\n",
       "            </style>\n",
       "            "
      ],
      "text/plain": [
       "<IPython.core.display.HTML object>"
      ]
     },
     "metadata": {},
     "output_type": "display_data"
    },
    {
     "data": {
      "application/vnd.jupyter.widget-view+json": {
       "model_id": "628d1ea34e4f45b3bae49a7da704274d",
       "version_major": 2,
       "version_minor": 0
      },
      "text/plain": [
       "Map(center=[40, -100], controls=(WidgetControl(options=['position', 'transparent_bg'], widget=SearchDataGUI(ch…"
      ]
     },
     "execution_count": 3,
     "metadata": {},
     "output_type": "execute_result"
    }
   ],
   "source": [
    "Map = geemap.Map(center=(40, -100), zoom=4)\n",
    "Map"
   ]
  },
  {
   "cell_type": "code",
   "execution_count": 4,
   "id": "63f80ff4-05a6-4725-b7ee-71e5e891b6c1",
   "metadata": {
    "scrolled": true
   },
   "outputs": [
    {
     "data": {
      "text/html": [
       "\n",
       "            <style>\n",
       "                .geemap-dark {\n",
       "                    --jp-widgets-color: white;\n",
       "                    --jp-widgets-label-color: white;\n",
       "                    --jp-ui-font-color1: white;\n",
       "                    --jp-layout-color2: #454545;\n",
       "                    background-color: #383838;\n",
       "                }\n",
       "                    \n",
       "                .geemap-dark .jupyter-button {\n",
       "                    --jp-layout-color3: #383838;\n",
       "                }\n",
       "                \n",
       "                .geemap-colab {\n",
       "                    background-color: var(--colab-primary-surface-color, white);\n",
       "                }\n",
       "                    \n",
       "                .geemap-colab .jupyter-button {\n",
       "                    --jp-layout-color3: var(--colab-primary-surface-color, white);\n",
       "                }\n",
       "            </style>\n",
       "            "
      ],
      "text/plain": [
       "<IPython.core.display.HTML object>"
      ]
     },
     "metadata": {},
     "output_type": "display_data"
    }
   ],
   "source": [
    "import json\n",
    "import urllib.request\n",
    "\n",
    "def get_mrc_metadata(return_gdf=True, verbose=False):\n",
    "    \"\"\" Get Metadata from Mekong River Comission Data Portal. \"\"\"\n",
    "    url = r'https://api.mrcmekong.org/api/v1/ts/inventory/timeSeriesList'\n",
    "    urllib.request.urlretrieve(url, 'timeSeriesList.json')\n",
    "    \n",
    "    if verbose:\n",
    "        print(f'Downloaded time-series metadata from {url} .')\n",
    "    \n",
    "    f = open('timeSeriesList.json')\n",
    "    data = json.load(f)\n",
    "    df_metadata = pd.DataFrame([])\n",
    "    for dataset in data:\n",
    "        df_temp = pd.DataFrame([dict(dataset)])\n",
    "        df_temp['longitude'] = df_temp['longitude'].astype(float)\n",
    "        df_temp['latitude'] = df_temp['latitude'].astype(float)\n",
    "        df_metadata = pd.concat([df_temp, df_metadata])\n",
    "        f.close()\n",
    "    df_metadata = df_metadata.reset_index().drop(columns=['index'])\n",
    "    \n",
    "    if verbose:\n",
    "        print(f'Found a total of {df_metadata.shape[0]} time-series datasets from {len(df_metadata.stationCode.unique())} stations of the MRC Data Portal.')\n",
    "        \n",
    "    if return_gdf:\n",
    "        gdf_metadata = gpd.GeoDataFrame(\n",
    "            df_metadata, geometry=gpd.points_from_xy(df_metadata.longitude, df_metadata.latitude), crs=\"EPSG:4326\"\n",
    "        )\n",
    "        return(gdf_metadata)\n",
    "    else:\n",
    "        return(df_metadata)\n",
    "\n",
    "gdf_metadata = get_mrc_metadata(return_gdf=True)\n",
    "gdf_metadata_dmsp = gdf_metadata.loc[gdf_metadata.label.str.contains('DSMP')]\n",
    "gdf_stations_dsmp = gdf_metadata_dmsp.groupby('locationIdentifier').first()[['river', 'stationShortName', 'geometry']].set_crs('EPSG:4326')\n",
    "Map.add_gdf(gdf_stations_dsmp, 'MRC DSMP stations', {'color': 'red'})"
   ]
  },
  {
   "cell_type": "code",
   "execution_count": 143,
   "id": "97d34ab3-e735-4033-99a0-02fee254af0c",
   "metadata": {},
   "outputs": [
    {
     "data": {
      "text/html": [
       "\n",
       "            <style>\n",
       "                .geemap-dark {\n",
       "                    --jp-widgets-color: white;\n",
       "                    --jp-widgets-label-color: white;\n",
       "                    --jp-ui-font-color1: white;\n",
       "                    --jp-layout-color2: #454545;\n",
       "                    background-color: #383838;\n",
       "                }\n",
       "                    \n",
       "                .geemap-dark .jupyter-button {\n",
       "                    --jp-layout-color3: #383838;\n",
       "                }\n",
       "                \n",
       "                .geemap-colab {\n",
       "                    background-color: var(--colab-primary-surface-color, white);\n",
       "                }\n",
       "                    \n",
       "                .geemap-colab .jupyter-button {\n",
       "                    --jp-layout-color3: var(--colab-primary-surface-color, white);\n",
       "                }\n",
       "            </style>\n",
       "            "
      ],
      "text/plain": [
       "<IPython.core.display.HTML object>"
      ]
     },
     "metadata": {},
     "output_type": "display_data"
    }
   ],
   "source": [
    "# Load data from DSMP surves\n",
    "paths_data_s = list(Path(f'../mrc_webscrapper/outputs/csv/Sediment Concentration/').glob(f'*.csv'))\n",
    "paths_data_q = list(Path(f'../mrc_webscrapper/outputs/csv/Discharge/').glob(f'*.csv'))\n",
    "paths_data = paths_data_q + paths_data_s\n",
    "df_data = pd.DataFrame([])\n",
    "for path in paths_data_s:\n",
    "    df_temp = pd.read_csv(path, dtype={'station_code':'str'})\n",
    "    df_temp['date_utc'] = pd.to_datetime(df_temp['date'])\n",
    "    df_temp['med_frq'] = np.median(np.diff(df_temp.date_utc))\n",
    "    df_data = pd.concat([df_data, df_temp])\n",
    "\n",
    "df_data_dsmp = df_data.loc[df_data.identifier.str.contains('DSMP')]\n",
    "df_dsmp_stations = df_data_dsmp.groupby('station_code').first()\n",
    "df_data_dsmp = df_data.loc[df_data.station_code.isin(df_dsmp_stations.index)]\n",
    "    \n",
    "gdf_stations = gpd.GeoDataFrame(df_dsmp_stations,\n",
    "                 crs={'init': 'epsg:4326'},\n",
    "                 geometry=df_dsmp_stations.apply(lambda row: shapely.geometry.Point((row.lon, row.lat)), axis=1)\n",
    "                )\n",
    "\n",
    "gdf_data_dsmp = gpd.GeoDataFrame(df_data_dsmp.join(gdf_stations.geometry, on='station_code'))"
   ]
  },
  {
   "cell_type": "code",
   "execution_count": 357,
   "id": "70045cec-b6d3-4267-b552-2dafb83a07fe",
   "metadata": {},
   "outputs": [
    {
     "data": {
      "text/html": [
       "\n",
       "            <style>\n",
       "                .geemap-dark {\n",
       "                    --jp-widgets-color: white;\n",
       "                    --jp-widgets-label-color: white;\n",
       "                    --jp-ui-font-color1: white;\n",
       "                    --jp-layout-color2: #454545;\n",
       "                    background-color: #383838;\n",
       "                }\n",
       "                    \n",
       "                .geemap-dark .jupyter-button {\n",
       "                    --jp-layout-color3: #383838;\n",
       "                }\n",
       "                \n",
       "                .geemap-colab {\n",
       "                    background-color: var(--colab-primary-surface-color, white);\n",
       "                }\n",
       "                    \n",
       "                .geemap-colab .jupyter-button {\n",
       "                    --jp-layout-color3: var(--colab-primary-surface-color, white);\n",
       "                }\n",
       "            </style>\n",
       "            "
      ],
      "text/plain": [
       "<IPython.core.display.HTML object>"
      ]
     },
     "metadata": {},
     "output_type": "display_data"
    }
   ],
   "source": [
    "kwargs = {\n",
    "}\n",
    "# Set timespan\n",
    "start_date, end_date = '2018-01-01', '2024-01-30'\n",
    "\n",
    "# Cloud masking (scene-based)\n",
    "cld_filt_thresh = 80        # Maximum image cloud cover percent allowed in image collection\n",
    "\n",
    "# water masking\n",
    "mask_water = True\n",
    "\n",
    "# # Cloud masking (pixel-based, s2cloudless only)\n",
    "# cld_prb_thresh = 25      # Cloud probability (%); values greater than are considered cloud\n",
    "# cld_prj_dist = 1          # Maximum distance (km) to search for cloud shadows from cloud edges (based on Hollstein decision tree)\n",
    "\n",
    "# Cloud masking (pixel-based, cloud score+ only)\n",
    "qa_band = 'cs_cdf'\n",
    "clear_thresh = 0.75"
   ]
  },
  {
   "cell_type": "code",
   "execution_count": 18,
   "id": "965c72da-3ffe-4b9f-aa9a-3b65dce4a927",
   "metadata": {},
   "outputs": [
    {
     "data": {
      "text/html": [
       "\n",
       "            <style>\n",
       "                .geemap-dark {\n",
       "                    --jp-widgets-color: white;\n",
       "                    --jp-widgets-label-color: white;\n",
       "                    --jp-ui-font-color1: white;\n",
       "                    --jp-layout-color2: #454545;\n",
       "                    background-color: #383838;\n",
       "                }\n",
       "                    \n",
       "                .geemap-dark .jupyter-button {\n",
       "                    --jp-layout-color3: #383838;\n",
       "                }\n",
       "                \n",
       "                .geemap-colab {\n",
       "                    background-color: var(--colab-primary-surface-color, white);\n",
       "                }\n",
       "                    \n",
       "                .geemap-colab .jupyter-button {\n",
       "                    --jp-layout-color3: var(--colab-primary-surface-color, white);\n",
       "                }\n",
       "            </style>\n",
       "            "
      ],
      "text/plain": [
       "<IPython.core.display.HTML object>"
      ]
     },
     "metadata": {},
     "output_type": "display_data"
    }
   ],
   "source": [
    "# load 3S basin\n",
    "json_data = 'geometries/geoms.geojson'\n",
    "fc_geoms = geemap.geojson_to_ee(json_data)\n",
    "roi_geom = fc_geoms.first().geometry()\n",
    "\n",
    "# load dams\n",
    "df = pd.read_csv('geometries/3SReservoirs.csv')\n",
    "gdf_dams = gpd.GeoDataFrame(df, geometry=gpd.GeoSeries.from_xy(df['X'], df['Y']), crs=4326).drop(columns=['X', 'Y']).set_index('id')\n",
    "fc_dams = geemap.geopandas_to_ee(gdf_dams)\n",
    "\n",
    "# define stations\n",
    "stations = ee.FeatureCollection([\n",
    "  ee.Feature(ee.Algorithms.GeometryConstructors.Point([106.39220569493087, 14.11961739545873]), {'station_id': '430102', 'station_name': 'Siempang'}),\n",
    "  ee.Feature(ee.Algorithms.GeometryConstructors.Point([107.78237137912318, 12.897991717109619]), {'station_id': '451305', 'station_name': 'Ban Don'}),\n",
    "  ee.Feature(ee.Algorithms.GeometryConstructors.Point([106.5278998223061, 13.553039642985812]), {'station_id': '450101', 'station_name': 'Lum Phat'}),\n",
    "  ee.Feature(ee.Algorithms.GeometryConstructors.Point([107.47041987706022, 13.940093424442852]), {'station_id': '440202', 'station_name': 'Pleiku'}),\n",
    "  ee.Feature(ee.Algorithms.GeometryConstructors.Point([107.10639453530615, 14.050489408398247]), {'station_id': '440103', 'station_name': 'Andaung Meas'}),\n",
    "  ee.Feature(ee.Algorithms.GeometryConstructors.Point([107.44760623609672, 13.792268298200513]), {'station_id': '440100', 'station_name': 'Phum Pi'}),\n",
    "  ee.Feature(ee.Algorithms.GeometryConstructors.Point([105.987503299606, 13.537303972542501]), {'station_id': '014501', 'station_name': 'Stung Treng'}),\n",
    "])\n",
    "\n",
    "lake_rhone = ee.Feature(ee.FeatureCollection('users/michaelbrechbuehler/Landsat_ST/shapefiles/rhone_wgs84').first().geometry().centroid(), {'station_id': 'Rhonesee'})\n",
    "lake_steisee = ee.Feature(ee.FeatureCollection('users/michaelbrechbuehler/Landsat_ST/shapefiles/steisee_wgs84').first().geometry().centroid(), {'station_id': 'Steinsee'})\n",
    "\n",
    "stations = lake_rhone\n",
    "\n",
    "# # add S2 clear median\n",
    "# filters = ee.Filter.And(\n",
    "#     ee.Filter.bounds(roi_geom), \n",
    "#     ee.Filter.date('2017-12-01', '2019-03-31'),\n",
    "#     ee.Filter.lt('CLOUDY_PIXEL_PERCENTAGE', 10)\n",
    "# )\n",
    "# s2_median = ee.ImageCollection(\"COPERNICUS/S2_SR\").filter(filters).median()\n",
    "\n",
    "# Map.addLayer(s2_median, {'bands': ['B4', 'B3', 'B2'], 'min': 0, 'max': 2000}, 'Sentinel-2 RGB')\n",
    "#Map.addLayer(roi_geom, {'color': 'yellow'}, '3S Basin')\n",
    "Map.addLayer(stations, {'color': 'red'}, 'Stations')\n",
    "Map.add_gdf(gdf_dams, 'Dams', {'color': 'blue'})\n",
    "Map.centerObject(stations)"
   ]
  },
  {
   "cell_type": "markdown",
   "id": "915ee17a-bb41-4bc7-8f82-2db93d8aeeba",
   "metadata": {},
   "source": [
    "## Get point samples at virtual stations"
   ]
  },
  {
   "cell_type": "code",
   "execution_count": null,
   "id": "dc6a228c-ce54-410c-84b3-7600e5f95d00",
   "metadata": {},
   "outputs": [],
   "source": [
    "%load_ext autoreload\n",
    "%autoreload 2\n",
    "import functions_process as funcs_process\n",
    "import functions_turbidity as funcs_turb\n",
    "import functions_sampling as funcs_sampling\n",
    "\n",
    "for idx, row in geemap.ee_to_df(stations).iterrows():\n",
    "    name, id = row.station_name, row.station_id\n",
    "    print(f'{name} ({id})')\n",
    "    station = stations.filter(ee.Filter.eq('station_id', id))\n",
    "\n",
    "    # get Rrs imagecolls\n",
    "    ic_msi = funcs_process.load_rrs_imcoll(sensor='msi', start_date=start_date, end_date=end_date, mask_water=mask_water, bounds=station)\n",
    "    ic_oli = funcs_process.load_rrs_imcoll(sensor='oli', start_date=start_date, end_date=end_date, mask_water=mask_water, bounds=station)\n",
    "    ic_etm = funcs_process.load_rrs_imcoll(sensor='etm', start_date=start_date, end_date=end_date, mask_water=mask_water, bounds=station)\n",
    "    ic_all = ic_msi.merge(ic_oli).merge(ic_etm)\n",
    "    \n",
    "    # comput tsm features\n",
    "    ic_all = ic_all \\\n",
    "        .map(funcs_turb.calc_spm_nechad) \\\n",
    "        .map(funcs_turb.calc_tur_nechad) \\\n",
    "        .map(funcs_turb.calc_tur_dogliotti) \\\n",
    "        .map(funcs_turb.calc_indices)\n",
    "\n",
    "    # merge imagecolls and sample\n",
    "    fc_all = ee.FeatureCollection(ic_all.map(funcs_sampling.sample_image(station))).flatten()\n",
    "\n",
    "    # export to drive\n",
    "    geemap.ee_export_vector_to_drive(\n",
    "        fc_all.filter(ee.Filter.gt('roi_coverage', 90)),\n",
    "        fileFormat='CSV', \n",
    "        folder=\"export\",\n",
    "        description=f\"rrs_samples_{name.replace(' ', '').lower()}_{id}\", \n",
    "    )"
   ]
  },
  {
   "cell_type": "code",
   "execution_count": null,
   "id": "fae27ce4-2e31-4cf3-8159-a462b6347144",
   "metadata": {},
   "outputs": [],
   "source": [
    "# fetch server-side data and convert to dataframe\n",
    "data = fc_all.filter(ee.Filter.gt('roi_coverage', 90)).getInfo()\n",
    "df_all = pd.DataFrame.from_dict(data['features'])\n",
    "df_all = df_all.join(df_all[\"properties\"].apply(pd.Series)).drop(columns=['geometry', 'properties'])\n",
    "df_all['timestamp'] = pd.to_datetime(df_all['system:time_start'], unit='ms')"
   ]
  },
  {
   "cell_type": "markdown",
   "id": "1b24610c-8a86-4111-beac-b1ce01853ddb",
   "metadata": {},
   "source": [
    "## Get map over virtual station"
   ]
  },
  {
   "cell_type": "code",
   "execution_count": 775,
   "id": "f6cc80a5-7307-440f-96da-1f65f98a327f",
   "metadata": {},
   "outputs": [
    {
     "data": {
      "text/html": [
       "\n",
       "            <style>\n",
       "                .geemap-dark {\n",
       "                    --jp-widgets-color: white;\n",
       "                    --jp-widgets-label-color: white;\n",
       "                    --jp-ui-font-color1: white;\n",
       "                    --jp-layout-color2: #454545;\n",
       "                    background-color: #383838;\n",
       "                }\n",
       "                    \n",
       "                .geemap-dark .jupyter-button {\n",
       "                    --jp-layout-color3: #383838;\n",
       "                }\n",
       "                \n",
       "                .geemap-colab {\n",
       "                    background-color: var(--colab-primary-surface-color, white);\n",
       "                }\n",
       "                    \n",
       "                .geemap-colab .jupyter-button {\n",
       "                    --jp-layout-color3: var(--colab-primary-surface-color, white);\n",
       "                }\n",
       "            </style>\n",
       "            "
      ],
      "text/plain": [
       "<IPython.core.display.HTML object>"
      ]
     },
     "metadata": {},
     "output_type": "display_data"
    }
   ],
   "source": [
    "def process_station(ic_rs, max_diff=1):\n",
    "    def wrap(fc_station):\n",
    "        fc_matchups = get_matchups(fc_station, ic_rs, max_diff).map(get_sample)\n",
    "        return fc_matchups\n",
    "    return wrap\n",
    "\n",
    "def get_matchups(fc_station, ic_rs, max_diff=1):\n",
    "    \"\"\" Matches FeatureCollection with closest match from ImageCollection. \"\"\"\n",
    "    geometry = ee.FeatureCollection(fc_station).geometry()\n",
    "    ic_rs = ic_rs.filter(ee.Filter.bounds(geometry))\n",
    "    max_diff_filter = ee.Filter.maxDifference(**{\n",
    "      'difference': max_diff * 24 * 60 * 60 * 1000,\n",
    "      'leftField': 'system:time_start',\n",
    "      'rightField': 'system:time_start'\n",
    "    });\n",
    "    save_best_join = ee.Join.saveBest(**{\n",
    "      'matchKey': 'bestImage',\n",
    "      'measureKey': 'timeDiff'\n",
    "    });\n",
    "    fc_matchups = save_best_join.apply(fc_station, ic_rs, max_diff_filter);\n",
    "    return fc_matchups\n",
    "\n",
    "def get_sample(feature):\n",
    "    \"\"\" Sample matched image at feature geometry and add aggregated value as property. \"\"\"\n",
    "    feature = ee.Feature(feature)\n",
    "    match_img = ee.Image(feature.get('bestImage'))\n",
    "    geometry = feature.geometry().buffer(200)\n",
    "    value = feature.get('value')\n",
    "    samples_agg = match_img.reduceRegion(reducer=ee.Reducer.median(), geometry=geometry)\n",
    "    feature = feature.set('value', samples_agg) \n",
    "    return(feature)"
   ]
  },
  {
   "cell_type": "code",
   "execution_count": 776,
   "id": "697a30c4-3b9c-4701-91e6-9aac884f5a95",
   "metadata": {},
   "outputs": [
    {
     "data": {
      "text/html": [
       "\n",
       "            <style>\n",
       "                .geemap-dark {\n",
       "                    --jp-widgets-color: white;\n",
       "                    --jp-widgets-label-color: white;\n",
       "                    --jp-ui-font-color1: white;\n",
       "                    --jp-layout-color2: #454545;\n",
       "                    background-color: #383838;\n",
       "                }\n",
       "                    \n",
       "                .geemap-dark .jupyter-button {\n",
       "                    --jp-layout-color3: #383838;\n",
       "                }\n",
       "                \n",
       "                .geemap-colab {\n",
       "                    background-color: var(--colab-primary-surface-color, white);\n",
       "                }\n",
       "                    \n",
       "                .geemap-colab .jupyter-button {\n",
       "                    --jp-layout-color3: var(--colab-primary-surface-color, white);\n",
       "                }\n",
       "            </style>\n",
       "            "
      ],
      "text/plain": [
       "<IPython.core.display.HTML object>"
      ]
     },
     "metadata": {},
     "output_type": "display_data"
    },
    {
     "name": "stdout",
     "output_type": "stream",
     "text": [
      "The autoreload extension is already loaded. To reload it, use:\n",
      "  %reload_ext autoreload\n"
     ]
    }
   ],
   "source": [
    "%load_ext autoreload\n",
    "%autoreload 2\n",
    "import functions_process as funcs_process\n",
    "import functions_turbidity as funcs_turb\n",
    "import functions_sampling as funcs_sampling\n",
    "\n",
    "# prepare insitu data\n",
    "gdf_data_dsmp_subset = gdf_data_dsmp.loc[(gdf_data_dsmp.date_utc > pd.to_datetime(start_date+' 00:00:00UTC')) & (gdf_data_dsmp.date_utc < pd.to_datetime(end_date+' 00:00:00UTC'))]\n",
    "gdf_data_dsmp_subset['date_utc_str'] = gdf_data_dsmp_subset.date_utc.apply(lambda x: x.strftime('%Y-%m-%d %X'))\n",
    "gdf_data = gdf_data_dsmp_subset\n",
    "list_data_stations = []\n",
    "for station in gdf_data.station_code.unique():\n",
    "    gdf_data_station = gdf_data.loc[gdf_data.station_code==station]\n",
    "    fc_data_station = ee.FeatureCollection(geemap.gdf_to_ee(\n",
    "        gdf_data_station[['station_code', 'value', 'date_utc_str', 'geometry']],\n",
    "        date='date_utc_str', date_format='YYYY-MM-dd HH:mm:ss'\n",
    "        ) \\\n",
    "        .set('station', station)\n",
    "    )\n",
    "    list_data_stations.append(fc_data_station)\n",
    "list_data_stations = ee.List(list_data_stations)\n",
    "\n",
    "bounds = fc_data_stations.flatten().geometry()\n",
    "ic_oli = funcs_process.load_sr_imcoll(sensor='oli', start_date=start_date, end_date=end_date, bounds=bounds, watermask='qa')\n",
    "ic_etm = funcs_process.load_sr_imcoll(sensor='etm', start_date=start_date, end_date=end_date, bounds=bounds, watermask='qa')\n",
    "ic_msi = funcs_process.load_sr_imcoll(sensor='msi', start_date=start_date, end_date=end_date, bounds=bounds, watermask='scl')\n",
    "\n",
    "# create matchups\n",
    "fc_matchups_oli = ee.FeatureCollection(list_data_stations.map(process_station(ic_oli, max_diff=1))).flatten()\n",
    "fc_matchups_msi = ee.FeatureCollection(list_data_stations.map(process_station(ic_msi, max_diff=1))).flatten()\n",
    "fc_matchups_etm = ee.FeatureCollection(list_data_stations.map(process_station(ic_etm, max_diff=1))).flatten()"
   ]
  },
  {
   "cell_type": "code",
   "execution_count": 777,
   "id": "bfbd2741-8d92-4a60-8e3d-8638c0167931",
   "metadata": {},
   "outputs": [
    {
     "data": {
      "text/html": [
       "\n",
       "            <style>\n",
       "                .geemap-dark {\n",
       "                    --jp-widgets-color: white;\n",
       "                    --jp-widgets-label-color: white;\n",
       "                    --jp-ui-font-color1: white;\n",
       "                    --jp-layout-color2: #454545;\n",
       "                    background-color: #383838;\n",
       "                }\n",
       "                    \n",
       "                .geemap-dark .jupyter-button {\n",
       "                    --jp-layout-color3: #383838;\n",
       "                }\n",
       "                \n",
       "                .geemap-colab {\n",
       "                    background-color: var(--colab-primary-surface-color, white);\n",
       "                }\n",
       "                    \n",
       "                .geemap-colab .jupyter-button {\n",
       "                    --jp-layout-color3: var(--colab-primary-surface-color, white);\n",
       "                }\n",
       "            </style>\n",
       "            "
      ],
      "text/plain": [
       "<IPython.core.display.HTML object>"
      ]
     },
     "metadata": {},
     "output_type": "display_data"
    },
    {
     "name": "stdout",
     "output_type": "stream",
     "text": [
      "[2024-03-22 16:42:32] Task HRRAP2YKOLHJPMIUPA3PIS2T(TSS_export_oli): \u001b[93mREADY\u001b[0m\n",
      "[2024-03-22 16:42:32] Task JE4XCH6OWERCEWM7YTMGA5B6(TSS_export_etm): \u001b[93mREADY\u001b[0m\n",
      "[2024-03-22 16:42:33] Task PX26T36EGD5MB2RKL4AJLH5U(TSS_export_msi): \u001b[93mREADY\u001b[0m\n",
      "[2024-03-22 16:43:04] Task HRRAP2YKOLHJPMIUPA3PIS2T(TSS_export_oli): \u001b[93mRUNNING\u001b[0m\n",
      "[2024-03-22 16:43:04] Task JE4XCH6OWERCEWM7YTMGA5B6(TSS_export_etm): \u001b[92mCOMPLETED\u001b[0m\n",
      "[2024-03-22 16:43:05] Task PX26T36EGD5MB2RKL4AJLH5U(TSS_export_msi): \u001b[93mRUNNING\u001b[0m\n",
      "[2024-03-22 16:43:36] Task HRRAP2YKOLHJPMIUPA3PIS2T(TSS_export_oli): \u001b[93mRUNNING\u001b[0m\n",
      "[2024-03-22 16:43:36] Task JE4XCH6OWERCEWM7YTMGA5B6(TSS_export_etm): \u001b[92mCOMPLETED\u001b[0m\n",
      "[2024-03-22 16:43:37] Task PX26T36EGD5MB2RKL4AJLH5U(TSS_export_msi): \u001b[93mRUNNING\u001b[0m\n",
      "[2024-03-22 16:44:08] Task HRRAP2YKOLHJPMIUPA3PIS2T(TSS_export_oli): \u001b[92mCOMPLETED\u001b[0m\n",
      "[2024-03-22 16:44:08] Task JE4XCH6OWERCEWM7YTMGA5B6(TSS_export_etm): \u001b[92mCOMPLETED\u001b[0m\n",
      "[2024-03-22 16:44:09] Task PX26T36EGD5MB2RKL4AJLH5U(TSS_export_msi): \u001b[93mRUNNING\u001b[0m\n",
      "[2024-03-22 16:44:40] Task HRRAP2YKOLHJPMIUPA3PIS2T(TSS_export_oli): \u001b[92mCOMPLETED\u001b[0m\n",
      "[2024-03-22 16:44:40] Task JE4XCH6OWERCEWM7YTMGA5B6(TSS_export_etm): \u001b[92mCOMPLETED\u001b[0m\n",
      "[2024-03-22 16:44:41] Task PX26T36EGD5MB2RKL4AJLH5U(TSS_export_msi): \u001b[93mRUNNING\u001b[0m\n",
      "[2024-03-22 16:45:12] Task HRRAP2YKOLHJPMIUPA3PIS2T(TSS_export_oli): \u001b[92mCOMPLETED\u001b[0m\n",
      "[2024-03-22 16:45:13] Task JE4XCH6OWERCEWM7YTMGA5B6(TSS_export_etm): \u001b[92mCOMPLETED\u001b[0m\n",
      "[2024-03-22 16:45:13] Task PX26T36EGD5MB2RKL4AJLH5U(TSS_export_msi): \u001b[93mRUNNING\u001b[0m\n",
      "[2024-03-22 16:45:44] Task HRRAP2YKOLHJPMIUPA3PIS2T(TSS_export_oli): \u001b[92mCOMPLETED\u001b[0m\n",
      "[2024-03-22 16:45:44] Task JE4XCH6OWERCEWM7YTMGA5B6(TSS_export_etm): \u001b[92mCOMPLETED\u001b[0m\n",
      "[2024-03-22 16:45:45] Task PX26T36EGD5MB2RKL4AJLH5U(TSS_export_msi): \u001b[93mRUNNING\u001b[0m\n",
      "[2024-03-22 16:46:16] Task HRRAP2YKOLHJPMIUPA3PIS2T(TSS_export_oli): \u001b[92mCOMPLETED\u001b[0m\n",
      "[2024-03-22 16:46:17] Task JE4XCH6OWERCEWM7YTMGA5B6(TSS_export_etm): \u001b[92mCOMPLETED\u001b[0m\n",
      "[2024-03-22 16:46:17] Task PX26T36EGD5MB2RKL4AJLH5U(TSS_export_msi): \u001b[93mRUNNING\u001b[0m\n",
      "[2024-03-22 16:46:48] Task HRRAP2YKOLHJPMIUPA3PIS2T(TSS_export_oli): \u001b[92mCOMPLETED\u001b[0m\n",
      "[2024-03-22 16:46:48] Task JE4XCH6OWERCEWM7YTMGA5B6(TSS_export_etm): \u001b[92mCOMPLETED\u001b[0m\n",
      "[2024-03-22 16:46:48] Task PX26T36EGD5MB2RKL4AJLH5U(TSS_export_msi): \u001b[93mRUNNING\u001b[0m\n",
      "[2024-03-22 16:47:19] Task HRRAP2YKOLHJPMIUPA3PIS2T(TSS_export_oli): \u001b[92mCOMPLETED\u001b[0m\n",
      "[2024-03-22 16:47:19] Task JE4XCH6OWERCEWM7YTMGA5B6(TSS_export_etm): \u001b[92mCOMPLETED\u001b[0m\n",
      "[2024-03-22 16:47:19] Task PX26T36EGD5MB2RKL4AJLH5U(TSS_export_msi): \u001b[93mRUNNING\u001b[0m\n",
      "[2024-03-22 16:47:50] Task HRRAP2YKOLHJPMIUPA3PIS2T(TSS_export_oli): \u001b[92mCOMPLETED\u001b[0m\n",
      "[2024-03-22 16:47:50] Task JE4XCH6OWERCEWM7YTMGA5B6(TSS_export_etm): \u001b[92mCOMPLETED\u001b[0m\n",
      "[2024-03-22 16:47:51] Task PX26T36EGD5MB2RKL4AJLH5U(TSS_export_msi): \u001b[93mRUNNING\u001b[0m\n",
      "[2024-03-22 16:48:21] Task HRRAP2YKOLHJPMIUPA3PIS2T(TSS_export_oli): \u001b[92mCOMPLETED\u001b[0m\n",
      "[2024-03-22 16:48:22] Task JE4XCH6OWERCEWM7YTMGA5B6(TSS_export_etm): \u001b[92mCOMPLETED\u001b[0m\n",
      "[2024-03-22 16:48:22] Task PX26T36EGD5MB2RKL4AJLH5U(TSS_export_msi): \u001b[93mRUNNING\u001b[0m\n",
      "[2024-03-22 16:48:53] Task HRRAP2YKOLHJPMIUPA3PIS2T(TSS_export_oli): \u001b[92mCOMPLETED\u001b[0m\n",
      "[2024-03-22 16:48:53] Task JE4XCH6OWERCEWM7YTMGA5B6(TSS_export_etm): \u001b[92mCOMPLETED\u001b[0m\n",
      "[2024-03-22 16:48:53] Task PX26T36EGD5MB2RKL4AJLH5U(TSS_export_msi): \u001b[93mRUNNING\u001b[0m\n",
      "[2024-03-22 16:49:24] Task HRRAP2YKOLHJPMIUPA3PIS2T(TSS_export_oli): \u001b[92mCOMPLETED\u001b[0m\n",
      "[2024-03-22 16:49:24] Task JE4XCH6OWERCEWM7YTMGA5B6(TSS_export_etm): \u001b[92mCOMPLETED\u001b[0m\n",
      "[2024-03-22 16:49:24] Task PX26T36EGD5MB2RKL4AJLH5U(TSS_export_msi): \u001b[93mRUNNING\u001b[0m\n",
      "[2024-03-22 16:49:55] Task HRRAP2YKOLHJPMIUPA3PIS2T(TSS_export_oli): \u001b[92mCOMPLETED\u001b[0m\n",
      "[2024-03-22 16:49:55] Task JE4XCH6OWERCEWM7YTMGA5B6(TSS_export_etm): \u001b[92mCOMPLETED\u001b[0m\n",
      "[2024-03-22 16:49:56] Task PX26T36EGD5MB2RKL4AJLH5U(TSS_export_msi): \u001b[92mCOMPLETED\u001b[0m\n",
      "All export tasks finished.\n"
     ]
    }
   ],
   "source": [
    "import time\n",
    "from datetime import datetime, timedelta\n",
    "\n",
    "def check_tasks_status(tasks):\n",
    "    \"\"\" Check the state of all provided ee.task objects and posts status updates. \"\"\"\n",
    "    colordict = {'white': '\\033[0m', 'red': '\\033[91m', 'orange': '\\033[93m', 'green': '\\033[92m'}\n",
    "    states = []\n",
    "    for task in tasks:\n",
    "        # get state and times\n",
    "        status = task.status()\n",
    "        state = status['state']\n",
    "        task_id = status['id']\n",
    "        time_start, time_update = status['creation_timestamp_ms'], status['update_timestamp_ms']\n",
    "        time_elapsed = timedelta(milliseconds=(time_update-time_start))\n",
    "        time_now = datetime.now()\n",
    "        # set output color\n",
    "        if state == 'COMPLETED':\n",
    "            color ='green'\n",
    "        elif (state == 'RUNNING') | (state == 'READY'):\n",
    "            color = 'orange'\n",
    "        elif (state == 'FAILED') | (state == 'CANCEL_REQUESTED') | (state == 'CANCELLED'):\n",
    "            color = 'red'\n",
    "        else:\n",
    "            color = 'white'\n",
    "        # print msg\n",
    "        status_msg = f\"[{str(time_now)[:19]}] Task {task_id}\" \\\n",
    "                     f\"({status.get('description', 'No description')}): {colordict[color]+state+colordict['white']}\"\n",
    "                     #f\" (runtime: {time_elapsed.seconds/60:0.1f}min)\"\n",
    "        print(status_msg)\n",
    "        states.append(state)\n",
    "    return states\n",
    "\n",
    "tasks = []\n",
    "for sensor, fc in [('oli', fc_matchups_oli), ('etm', fc_matchups_etm), ('msi', fc_matchups_msi)]:\n",
    "    task = ee.batch.Export.table.toDrive(**{\n",
    "        'collection': fc, \n",
    "        'description': f'TSS_export_{sensor}',\n",
    "        'folder': 'Earth Engine'})\n",
    "    task.start()\n",
    "    tasks.append(task)\n",
    "\n",
    "all_completed = False\n",
    "while not all_completed:\n",
    "    check_tasks_status(tasks)\n",
    "    states = [task.status()['state'] for task in tasks]\n",
    "    if all(state in ['COMPLETED', 'FAILED', 'CANCEL_REQUESTED'] for state in states):\n",
    "        all_completed = True\n",
    "    else:\n",
    "        time.sleep(30)\n",
    "\n",
    "print(\"All export tasks finished.\")"
   ]
  },
  {
   "cell_type": "code",
   "execution_count": null,
   "id": "4723c838-a2c4-4eab-9711-5657a7318835",
   "metadata": {},
   "outputs": [],
   "source": [
    "%load_ext autoreload\n",
    "%autoreload 2\n",
    "import functions_process as funcs_process\n",
    "import functions_turbidity as funcs_turb\n",
    "import functions_sampling as funcs_sampling\n",
    "\n",
    "# get Rrs imagecolls\n",
    "ic_msi = funcs_process.load_rrs_imcoll(sensor='msi', start_date=start_date, end_date=end_date, bounds=bounds)\n",
    "ic_oli = funcs_process.load_rrs_imcoll(sensor='oli', start_date=start_date, end_date=end_date, bounds=bounds)\n",
    "ic_etm = funcs_process.load_rrs_imcoll(sensor='etm', start_date=start_date, end_date=end_date, bounds=bounds)\n",
    "ic_all = ic_msi.merge(ic_oli).merge(ic_etm)\n",
    "\n",
    "# comput tsm features\n",
    "ic_all = ic_all \\\n",
    "    .map(funcs_turb.calc_spm_nechad) \\\n",
    "    .map(funcs_turb.calc_tur_nechad) \\\n",
    "    .map(funcs_turb.calc_tur_dogliotti) \\\n",
    "    .map(funcs_turb.calc_indices)"
   ]
  },
  {
   "cell_type": "code",
   "execution_count": null,
   "id": "63cdebb6-9e61-494d-a842-bbb30c9569c9",
   "metadata": {},
   "outputs": [],
   "source": [
    "crs = ic_msi.first().select(0).projection().crs()\n",
    "scale = 30\n",
    "\n",
    "# wxee convert to xarray\n",
    "#ds_msi = ic_msi.select('B4').limit(25).wx.to_xarray(scale=scale, region=bounds)\n",
    "\n",
    "# geemap export\n",
    "geemap.ee_export_image_collection_to_drive(ee.ImageCollection(ic_msi).select('B4'), folder='export/oli', maxPixels=200000000, region=bounds, scale=30)"
   ]
  },
  {
   "cell_type": "code",
   "execution_count": null,
   "id": "94f9b0c9-e49c-41c3-b399-43aa932d0fa6",
   "metadata": {},
   "outputs": [],
   "source": [
    "# Export red bands to geotiffs\n",
    "geemap.ee_export_image_collection_to_drive(ee.ImageCollection(imcoll_etm).select('B3'), folder='export/msi', maxPixels=200000000, region=bounds, scale=30)\n",
    "geemap.ee_export_image_collection_to_drive(ee.ImageCollection(imcoll_oli).select('B4'), folder='export/oli', maxPixels=200000000, region=bounds, scale=30)\n",
    "geemap.ee_export_image_collection_to_drive(ee.ImageCollection(imcoll_msi).select('B4'), folder='export/oli', maxPixels=200000000, region=bounds, scale=30)"
   ]
  },
  {
   "cell_type": "code",
   "execution_count": null,
   "id": "d5f703de-e7b1-45b1-9ed7-e35da9470220",
   "metadata": {},
   "outputs": [],
   "source": [
    "ee.Algorithms.GeometryConstructors.Point(gdf_dams.iloc[0].geometry.coords[0]).buffer(5000).bounds()"
   ]
  },
  {
   "cell_type": "code",
   "execution_count": null,
   "id": "c89db9e3-74c5-43c6-ab4b-cf5437df214d",
   "metadata": {},
   "outputs": [],
   "source": [
    "ds_msi.is_cloud.isel(time=0).plot()"
   ]
  },
  {
   "cell_type": "code",
   "execution_count": null,
   "id": "2256c3dc-3622-40c6-95ad-c5d57b8f5abc",
   "metadata": {},
   "outputs": [],
   "source": [
    "Map.centerObject(img_oli, 14)"
   ]
  },
  {
   "cell_type": "code",
   "execution_count": null,
   "id": "4f3997ee-6eb7-49ca-8fd8-1e560b7c93d1",
   "metadata": {},
   "outputs": [],
   "source": [
    "img_etm = ic_etm.sort('CLOUD_COVER', True).first()\n",
    "img_oli = ic_oli.sort('CLOUD_COVER', True).first()\n",
    "img_msi = ic_msi.sort('CLOUDY_PIXEL_PERCENTAGE', True).first()\n",
    "\n",
    "#vis = {'bands': 'Rrs_B4', 'min': 0, 'max': 0.2}\n",
    "Map.addLayer(ee.Image(img_etm),  {}, 'ETM+, Rrs_B3')\n",
    "Map.addLayer(ee.Image(img_oli),  {}, 'OLI, Rrs_B4')\n",
    "Map.addLayer(ee.Image(img_msi),  {}, 'MSI, Rrs_B4')\n",
    "Map.centerObject(img_msi, 14)"
   ]
  }
 ],
 "metadata": {
  "kernelspec": {
   "display_name": "Python 3 (ipykernel)",
   "language": "python",
   "name": "python3"
  },
  "language_info": {
   "codemirror_mode": {
    "name": "ipython",
    "version": 3
   },
   "file_extension": ".py",
   "mimetype": "text/x-python",
   "name": "python",
   "nbconvert_exporter": "python",
   "pygments_lexer": "ipython3",
   "version": "3.12.1"
  }
 },
 "nbformat": 4,
 "nbformat_minor": 5
}
