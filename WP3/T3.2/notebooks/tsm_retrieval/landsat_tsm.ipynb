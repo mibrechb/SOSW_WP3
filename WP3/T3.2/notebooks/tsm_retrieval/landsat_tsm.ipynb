{
 "cells": [
  {
   "cell_type": "code",
   "execution_count": 22,
   "id": "bd6619e1",
   "metadata": {},
   "outputs": [],
   "source": [
    "import pandas as pd\n",
    "import fiona\n",
    "import geopandas as gpd\n",
    "import ee\n",
    "import geemap\n",
    "from pathlib import Path\n",
    "import json"
   ]
  },
  {
   "cell_type": "code",
   "execution_count": 27,
   "id": "1ec6fc5f",
   "metadata": {
    "scrolled": true
   },
   "outputs": [
    {
     "name": "stderr",
     "output_type": "stream",
     "text": [
      "C:\\ProgramData\\Anaconda3\\envs\\earth-engine\\lib\\site-packages\\openpyxl\\styles\\stylesheet.py:226: UserWarning: Workbook contains no default style, apply openpyxl's default\n",
      "  warn(\"Workbook contains no default style, apply openpyxl's default\")\n",
      "C:\\ProgramData\\Anaconda3\\envs\\earth-engine\\lib\\site-packages\\openpyxl\\styles\\stylesheet.py:226: UserWarning: Workbook contains no default style, apply openpyxl's default\n",
      "  warn(\"Workbook contains no default style, apply openpyxl's default\")\n",
      "C:\\ProgramData\\Anaconda3\\envs\\earth-engine\\lib\\site-packages\\openpyxl\\styles\\stylesheet.py:226: UserWarning: Workbook contains no default style, apply openpyxl's default\n",
      "  warn(\"Workbook contains no default style, apply openpyxl's default\")\n",
      "C:\\ProgramData\\Anaconda3\\envs\\earth-engine\\lib\\site-packages\\openpyxl\\styles\\stylesheet.py:226: UserWarning: Workbook contains no default style, apply openpyxl's default\n",
      "  warn(\"Workbook contains no default style, apply openpyxl's default\")\n",
      "C:\\ProgramData\\Anaconda3\\envs\\earth-engine\\lib\\site-packages\\openpyxl\\styles\\stylesheet.py:226: UserWarning: Workbook contains no default style, apply openpyxl's default\n",
      "  warn(\"Workbook contains no default style, apply openpyxl's default\")\n",
      "C:\\ProgramData\\Anaconda3\\envs\\earth-engine\\lib\\site-packages\\openpyxl\\styles\\stylesheet.py:226: UserWarning: Workbook contains no default style, apply openpyxl's default\n",
      "  warn(\"Workbook contains no default style, apply openpyxl's default\")\n"
     ]
    }
   ],
   "source": [
    "# Get paths of MRC files\n",
    "path_insitu = Path('data/insitu')\n",
    "paths_xls = list(path_insitu.glob('*.xlsx'))\n",
    "paths_metadata = list(path_insitu.glob('*.txt'))\n",
    "\n",
    "# Load in-situ data from .xlsx\n",
    "df_insitu = pd.DataFrame([])\n",
    "for path in paths_xls:\n",
    "    df_temp = pd.read_excel(path, converters={'Station Code':str})\n",
    "    df_insitu = pd.concat([df_insitu, df_temp])\n",
    "df_insitu = df_insitu.reset_index()\n",
    "    \n",
    "# Load station metadata from .txt\n",
    "df_metadata = pd.DataFrame([])\n",
    "for path in paths_metadata:\n",
    "    with open(path) as f:\n",
    "        lines = [tuple(line[2:].split(':')) for line in f.readlines()]\n",
    "        dict_metadata = {line[0]:line[1][1:-1] for line in lines if len(line)==2}\n",
    "        dict_metadata['station_code'] = dict_metadata['Location identifier'].split('_')[1]\n",
    "        df_temp = pd.DataFrame.from_dict(dict_metadata ,orient='index').T\n",
    "        df_metadata = pd.concat([df_metadata, df_temp])\n",
    "df_metadata = df_metadata.reset_index().drop(columns=['Disclaimer'])\n",
    "\n",
    "# Load corrected station geometries\n",
    "path_geojson = list(path_insitu.glob('*points.geojson'))[0]\n",
    "gdf_geoms = gpd.read_file(path_geojson, transformer={'station_code': str}).set_index('station_code')"
   ]
  },
  {
   "cell_type": "markdown",
   "id": "8138c8dd",
   "metadata": {},
   "source": [
    "## Google Earth Engine"
   ]
  },
  {
   "cell_type": "markdown",
   "id": "99543b60",
   "metadata": {},
   "source": [
    "### Authenticate and initialize GEE"
   ]
  },
  {
   "cell_type": "code",
   "execution_count": 28,
   "id": "fe9edc2f",
   "metadata": {},
   "outputs": [],
   "source": [
    "# # Trigger the authentication flow.\n",
    "# ee.Authenticate()\n",
    "\n",
    "# Initialize the library.\n",
    "ee.Initialize()"
   ]
  },
  {
   "cell_type": "markdown",
   "id": "b6abc7aa",
   "metadata": {},
   "source": [
    "### Define GEE functions"
   ]
  },
  {
   "cell_type": "code",
   "execution_count": 54,
   "id": "1c18a2a1",
   "metadata": {},
   "outputs": [],
   "source": [
    "def bitwiseExtract(value, fromBit, toBit=None):\n",
    "    if toBit == None: toBit = fromBit\n",
    "    maskSize = ee.Number(1).add(toBit).subtract(fromBit)\n",
    "    mask = ee.Number(1).leftShift(maskSize).subtract(1)\n",
    "    return value.rightShift(fromBit).bitwiseAnd(mask)\n",
    "\n",
    "def load_sentinel2_imagery(filter):\n",
    "    \"\"\" Load Sentinel-2 dataset and apply scaling and cloud-masking\"\"\"\n",
    "  \n",
    "    # Define cloud probability threshold\n",
    "    MAX_CLOUD_PROBABILITY = 20\n",
    "\n",
    "    def unmask(img):\n",
    "        \"\"\" Unmask masked pixels (dark water pixels can be masked out) \"\"\"\n",
    "        return(img.unmask())\n",
    "\n",
    "    def apply_cloud_mask(s2Sr):\n",
    "        \"\"\" Apply Sentinel-2 cloud-masking using the COPERNICUS/S2_CLOUD_PROBABILITY dataset \"\"\"\n",
    "        def maskClouds(img):\n",
    "            clouds = ee.Image(img.get('cloud_mask')).select('probability')\n",
    "            isNotCloud = clouds.lt(MAX_CLOUD_PROBABILITY)\n",
    "            return img.updateMask(isNotCloud)\n",
    "        \n",
    "        # The masks for the 10m bands sometimes do not exclude bad data at\n",
    "        # scene edges, so we apply masks from the 20m and 60m bands as well.\n",
    "        def maskEdges(s2_img):\n",
    "            return s2_img.updateMask(\n",
    "                s2_img.select('B8A').mask().updateMask(s2_img.select('B9').mask()))\n",
    "\n",
    "        s2Clouds = ee.ImageCollection(\"COPERNICUS/S2_CLOUD_PROBABILITY\")\n",
    "\n",
    "        \n",
    "        # Join the filtered s2cloudless collection to the SR collection by the 'system:index' property.\n",
    "        s2SrWithCloudMask = ee.ImageCollection(ee.Join.saveFirst('cloud_mask').apply(**{\n",
    "            'primary': s2Sr,\n",
    "            'secondary': s2Clouds,\n",
    "            'condition': ee.Filter.equals(**{\n",
    "                'leftField': 'system:index',\n",
    "                'rightField': 'system:index'\n",
    "            })\n",
    "        }))\n",
    "\n",
    "        # Map the maskClouds function to mask out clouds above threshold\n",
    "        s2CloudMasked = ee.ImageCollection(s2SrWithCloudMask).map(maskClouds)\n",
    "        return(s2CloudMasked)\n",
    "\n",
    "    def apply_scale_factors(image):\n",
    "        \"\"\" Applies scaling factors to Sentinel-2 imagery \"\"\"\n",
    "        opticalBands = image.select('B.*').multiply(0.0001)\n",
    "        return image.addBands(opticalBands, None, True)\n",
    "\n",
    "    def apply_water_mask(image):\n",
    "        \"\"\" Mask water and ice/snow pixels using the S-2 SCL band \"\"\"\n",
    "        scl = image.select('SCL')\n",
    "        water = scl.eq(6);\n",
    "        return(image.updateMask(water))\n",
    "\n",
    "    # Load and prepare Sentinel-2 dataset\n",
    "    s2 = ee.ImageCollection(\"COPERNICUS/S2_HARMONIZED\")\\\n",
    "        .filter(filter)\\\n",
    "        .map(apply_scale_factors)\\\n",
    "        .select('B.*')\\\n",
    "        .map(lambda image: image.set('sensor', 'Sentinel-2'))\n",
    "        #.map(apply_water_mask)\n",
    "    \n",
    "    images = apply_cloud_mask(s2)\n",
    "    return(images)\n",
    "\n",
    "\n",
    "def load_landsat_imagery(filter):\n",
    "    \"\"\" Load L7 ETM+, L8 OLI/TIRS, L9 OLI-2/TIRS-2 datasets and apply scaling, cloud-masking and harmonization \n",
    "    including ETM+ to OLI spectral spacelinear transformation according to Roy et al. (2016).\n",
    "    \"\"\"\n",
    "    def apply_scale_factors(image):\n",
    "        \"\"\" Apply scaling factors to Landsat imagery. \"\"\"\n",
    "        opticalBands = image.select('SR_B.').multiply(0.0000275).add(-0.2);\n",
    "        thermalBands = image.select('ST_B.*').multiply(0.00341802).add(149.0);\n",
    "        return image.addBands(opticalBands, None, True).addBands(thermalBands, None, True);\n",
    "        \n",
    "    def apply_cfmask(image):\n",
    "        \"\"\"\" Apply masking using CFMASK quality flag \"\"\"\n",
    "        qa = image.select('QA_PIXEL')\n",
    "        dilatedCloud =  bitwiseExtract(qa, 1)\n",
    "        cirrus =        bitwiseExtract(qa, 2)\n",
    "        cloud =         bitwiseExtract(qa, 3)\n",
    "        cloudShadow =   bitwiseExtract(qa, 4)\n",
    "        snow =          bitwiseExtract(qa, 5)\n",
    "        clear =         bitwiseExtract(qa, 6)\n",
    "        water =         bitwiseExtract(qa, 7)\n",
    "        mask = (cloud.Not()).And(dilatedCloud.Not()).And(cloudShadow.Not()).And(water)\n",
    "        return(image.updateMask(mask))\n",
    "    \n",
    "    #Linear transformation coefficients of ETM+ spectral space to OLI spectral space according to Roy et al. (2016)\n",
    "    coefficients = {\n",
    "        'itcps': ee.Image.constant([0.0003, 0.0088, 0.0061, 0.0412, 0.0254, 0.0172]),\n",
    "        'slopes': ee.Image.constant([0.8474, 0.8483, 0.9047, 0.8462, 0.8937, 0.9071])\n",
    "    }\n",
    "    \n",
    "    # Function to get and rename bands of interest from OLI.\n",
    "    def renameOli(img):\n",
    "        return img.select(\n",
    "            ['SR_B2', 'SR_B3', 'SR_B4', 'SR_B5', 'SR_B6', 'SR_B7', 'ST_B10', 'QA_PIXEL'],\n",
    "            ['Blue', 'Green', 'Red', 'NIR', 'SWIR1', 'SWIR2', 'ST', 'QA_PIXEL'])\n",
    "\n",
    "    # Function to get and rename bands of interest from ETM+.\n",
    "    def renameEtm(img):\n",
    "        return img.select(\n",
    "            ['SR_B1', 'SR_B2', 'SR_B3', 'SR_B4', 'SR_B5', 'SR_B7', 'ST_B6', 'QA_PIXEL'],\n",
    "            ['Blue', 'Green', 'Red', 'NIR', 'SWIR1', 'SWIR2', 'ST', 'QA_PIXEL'])\n",
    "    \n",
    "    # Convert ETM+ to OLI\n",
    "    def etmToOli(img):\n",
    "        return img.select(['Blue', 'Green', 'Red', 'NIR', 'SWIR1', 'SWIR2'])\\\n",
    "        .multiply(coefficients['slopes'])\\\n",
    "        .add(coefficients['itcps'])\\\n",
    "        .addBands(img.select(['ST', 'QA_PIXEL']))\n",
    "        \n",
    "    # Define function to prepare OLI images.\n",
    "    def prepOli(img):\n",
    "        orig = img\n",
    "        img = apply_scale_factors(img)\n",
    "        img = renameOli(img)\n",
    "        img = apply_cfmask(img)\n",
    "        return ee.Image(img.copyProperties(orig, orig.propertyNames()))\n",
    "    \n",
    "    # Define function to prepare ETM+ images.\n",
    "    def prepEtm(img):\n",
    "        orig = img\n",
    "        img = apply_scale_factors(img)\n",
    "        img = renameEtm(img)\n",
    "        img = apply_cfmask(img)\n",
    "        #img = etmToOli(img)\n",
    "        return ee.Image(img.copyProperties(orig, orig.propertyNames()))\n",
    "    \n",
    "    # Load and prepare ETM+ dataset\n",
    "    l7 = ee.ImageCollection(\"LANDSAT/LE07/C02/T1_L2\").filter(filter)\\\n",
    "        .map(lambda image: image.set('sensor', 'Landsat-7'))\n",
    "    etm = l7.map(prepEtm)\n",
    "  \n",
    "    # Load and prepare OLI-1/OLI-2 dataset\n",
    "    l8 = ee.ImageCollection(\"LANDSAT/LC08/C02/T1_L2\")\\\n",
    "        .filter(filter)\\\n",
    "        .map(lambda image: image.set('sensor', 'Landsat-8'))\n",
    "    l9 = ee.ImageCollection(\"LANDSAT/LC09/C02/T1_L2\")\\\n",
    "        .filter(filter)\\\n",
    "        .map(lambda image: image.set('sensor', 'Landsat-9'))\n",
    "    oli = (l8.merge(l9)).map(prepOli)\n",
    "    \n",
    "    # Merge ETM+/OLI-1/OLI-2\n",
    "    images = oli.merge(etm)\n",
    "    return(images)"
   ]
  },
  {
   "cell_type": "markdown",
   "id": "f5405976",
   "metadata": {},
   "source": [
    "## Create collections"
   ]
  },
  {
   "cell_type": "code",
   "execution_count": 55,
   "id": "d3ec0adc",
   "metadata": {},
   "outputs": [],
   "source": [
    "# Create FeatureCollection with corrected geometries\n",
    "import json\n",
    "json_geoms = json.loads(gdf_geoms.to_json())\n",
    "keys = [ele['id'] for ele in json_geoms['features']]\n",
    "values = [(ele['geometry']['coordinates'][0], ele['geometry']['coordinates'][1]) for ele in json_geoms['features']]\n",
    "dict_coords = dict(zip(keys,values))\n",
    "list_geoms = []\n",
    "for key, value in dict_coords.items():\n",
    "    lat, lon = value[1], value[0]\n",
    "    ee_geom = ee.Geometry.Point([float(lon), float(lat)])\n",
    "    list_geoms.append(ee.Feature(ee_geom, {'station_code': key}))\n",
    "ee_fc_geoms = ee.FeatureCollection(list_geoms)\n",
    "\n",
    "# Create FeatureCollection of station geometries\n",
    "list_features = []\n",
    "for i, row in df_metadata.iterrows():\n",
    "    station_code = row['station_code']\n",
    "    #ee_point_station = ee.Geometry.Point([float(row.Longitude), float(row.Latitude)])\n",
    "    ee_point_station = ee_fc_geoms.filter(ee.Filter.eq('station_code', station_code)).first().geometry().buffer(100)\n",
    "    ee_f_station = ee.Feature(ee_point_station, row.to_dict())\n",
    "    list_features.append(ee_f_station)\n",
    "ee_fc_stations = ee.FeatureCollection(list_features)\n",
    "\n",
    "# Create FeatureCollection of in-situ measurements\n",
    "list_features = []\n",
    "for i, row in df_insitu.iterrows():\n",
    "    station_code = row['Station Code']\n",
    "    geom = ee_fc_stations.filter(ee.Filter.eq('station_code', row['Station Code'])).first().geometry()\n",
    "    ee_f_measurement = ee.Feature(geom, {\n",
    "        'station_code': row['Station Code'],\n",
    "        'value': row['Value'],\n",
    "        'date': ee.Date(row['Timestamp (UTC+07:00)']),\n",
    "        'system:time_start': ee.Date(row['Timestamp (UTC+07:00)']).millis()\n",
    "    })\n",
    "    list_features.append(ee_f_measurement)\n",
    "ee_fc_insitu = ee.FeatureCollection(list_features)"
   ]
  },
  {
   "cell_type": "markdown",
   "id": "5c2b632c",
   "metadata": {},
   "source": [
    "## Get match-ups"
   ]
  },
  {
   "cell_type": "code",
   "execution_count": 56,
   "id": "68459256",
   "metadata": {},
   "outputs": [],
   "source": [
    "time_buffer = 1\n",
    "spatial_buffer = 100\n",
    "\n",
    "def get_matchups(feature):\n",
    "    geom = feature.geometry()\n",
    "    date = ee.Date(feature.get('system:time_start'))\n",
    "    ee_filters = ee.Filter.And(\n",
    "        ee.Filter.date(date.advance(-time_buffer, 'day'), date.advance(time_buffer, 'day')),\n",
    "        ee.Filter.lt('CLOUDY_PIXEL_PERCENTAGE', 30),\n",
    "        ee.Filter.bounds(geom)\n",
    "    )\n",
    "    ee_ic_matches = load_sentinel2_imagery(ee_filters)\n",
    "    n_matches = ee_ic_matches.size()\n",
    "    return(feature.set({'n_matches': n_matches}))\n",
    "\n",
    "def get_value(feature):\n",
    "    geom = feature.geometry()\n",
    "    date = ee.Date(feature.get('system:time_start'))\n",
    "    ee_filters = ee.Filter.And(\n",
    "        ee.Filter.date(date.advance(-time_buffer, 'day'), date.advance(time_buffer, 'day')),\n",
    "        ee.Filter.lt('CLOUDY_PIXEL_PERCENTAGE', 30),\n",
    "        ee.Filter.bounds(geom)\n",
    "    )\n",
    "    ee_ic_matches = load_landsat_imagery(ee_filters)\n",
    "    image = ee_ic_matches.first()\n",
    "    value = image.reduceRegion(ee.Reducer.mean(), geom.buffer(spatial_buffer), 30),\n",
    "    im_id = image.id()\n",
    "    sensor = image.get('sensor')\n",
    "    return(feature.set({'value_rs': value, 'im_id': im_id, 'sensor': sensor}))\n",
    "\n",
    "# Compute match-ups\n",
    "ee_fc_matchups = ee_fc_insitu\\\n",
    "                    .map(get_matchups)\\\n",
    "                    .filter(ee.Filter.gt('n_matches', 0))\\\n",
    "                    .map(get_value)"
   ]
  },
  {
   "cell_type": "code",
   "execution_count": 57,
   "id": "a3ac4bc6",
   "metadata": {},
   "outputs": [],
   "source": [
    "# Export data\n",
    "export_task = ee.batch.Export.table.toDrive(\n",
    "    collection=ee_fc_matchups, \n",
    "    folder='Earth Engine (Python)', \n",
    "    description='Python - Export TSM matchups S2', \n",
    "    fileFormat='CSV')\n",
    "export_task.start()"
   ]
  },
  {
   "cell_type": "code",
   "execution_count": 35,
   "id": "7d2b729b",
   "metadata": {},
   "outputs": [
    {
     "data": {
      "text/plain": [
       "[{'state': 'READY',\n",
       "  'description': 'Python - Export TSM matchups LS fixed',\n",
       "  'creation_timestamp_ms': 1687431899067,\n",
       "  'update_timestamp_ms': 1687431899067,\n",
       "  'start_timestamp_ms': 0,\n",
       "  'task_type': 'EXPORT_FEATURES',\n",
       "  'id': '66FSG3FNHZD5K4XDIYZHXDUV',\n",
       "  'name': 'projects/earthengine-legacy/operations/66FSG3FNHZD5K4XDIYZHXDUV'}]"
      ]
     },
     "execution_count": 35,
     "metadata": {},
     "output_type": "execute_result"
    }
   ],
   "source": [
    "# Check status of export\n",
    "ee.data.getTaskStatus(export_task.id)"
   ]
  },
  {
   "cell_type": "markdown",
   "id": "a52a8a9d",
   "metadata": {},
   "source": [
    "## Create matchups"
   ]
  },
  {
   "cell_type": "code",
   "execution_count": null,
   "id": "f45a83f0",
   "metadata": {},
   "outputs": [],
   "source": [
    "Map = geemap.Map(center=[40,-100], zoom=4)\n",
    "Map.addLayer(ee_fc_stations, {'color':'red'}, 'Stations')\n",
    "Map.centerObject(ee_fc_stations, 7)\n",
    "Map"
   ]
  },
  {
   "cell_type": "markdown",
   "id": "fdb0a804",
   "metadata": {},
   "source": [
    "## Load match-ups"
   ]
  },
  {
   "cell_type": "code",
   "execution_count": 59,
   "id": "633fdf37",
   "metadata": {},
   "outputs": [
    {
     "ename": "IndexError",
     "evalue": "list index out of range",
     "output_type": "error",
     "traceback": [
      "\u001b[1;31m---------------------------------------------------------------------------\u001b[0m",
      "\u001b[1;31mIndexError\u001b[0m                                Traceback (most recent call last)",
      "\u001b[1;32m~\\AppData\\Local\\Temp\\ipykernel_17048\\814868560.py\u001b[0m in \u001b[0;36m<cell line: 1>\u001b[1;34m()\u001b[0m\n\u001b[1;32m----> 1\u001b[1;33m \u001b[0mpath_matchups\u001b[0m \u001b[1;33m=\u001b[0m \u001b[0mlist\u001b[0m\u001b[1;33m(\u001b[0m\u001b[0mPath\u001b[0m\u001b[1;33m(\u001b[0m\u001b[1;34m'G:\\Meine Ablage\\Earth Engine (Python)'\u001b[0m\u001b[1;33m)\u001b[0m\u001b[1;33m.\u001b[0m\u001b[0mglob\u001b[0m\u001b[1;33m(\u001b[0m\u001b[1;34m'*S2.csv'\u001b[0m\u001b[1;33m)\u001b[0m\u001b[1;33m)\u001b[0m\u001b[1;33m[\u001b[0m\u001b[1;36m0\u001b[0m\u001b[1;33m]\u001b[0m\u001b[1;33m\u001b[0m\u001b[1;33m\u001b[0m\u001b[0m\n\u001b[0m\u001b[0;32m      2\u001b[0m \u001b[0mdf_matchups\u001b[0m \u001b[1;33m=\u001b[0m \u001b[0mpd\u001b[0m\u001b[1;33m.\u001b[0m\u001b[0mread_csv\u001b[0m\u001b[1;33m(\u001b[0m\u001b[0mpath_matchups\u001b[0m\u001b[1;33m,\u001b[0m \u001b[0mdtype\u001b[0m\u001b[1;33m=\u001b[0m\u001b[1;33m{\u001b[0m\u001b[1;34m'station_code'\u001b[0m\u001b[1;33m:\u001b[0m \u001b[0mstr\u001b[0m\u001b[1;33m}\u001b[0m\u001b[1;33m)\u001b[0m\u001b[1;33m\u001b[0m\u001b[1;33m\u001b[0m\u001b[0m\n",
      "\u001b[1;31mIndexError\u001b[0m: list index out of range"
     ]
    }
   ],
   "source": [
    "path_matchups = list(Path('G:\\Meine Ablage\\Earth Engine (Python)').glob('*S2.csv'))[0]\n",
    "df_matchups = pd.read_csv(path_matchups, dtype={'station_code': str})"
   ]
  },
  {
   "cell_type": "code",
   "execution_count": 50,
   "id": "c5026b27",
   "metadata": {},
   "outputs": [],
   "source": [
    "df_matchups = df_matchups.loc[~df_matchups['value_rs'].str.contains('null')]\n",
    "df_matchups['red'] = df_matchups['value_rs'].apply(lambda row: row.split('=')[3].split(',')[0]).apply(float)\n",
    "df_matchups['green'] = df_matchups['value_rs'].apply(lambda row: row.split('=')[2].split(',')[0]).apply(float)\n",
    "df_matchups['r/g-ratio'] = df_matchups['red']/df_matchups['green']\n",
    "\n",
    "import math\n",
    "c1, c2, c3 = 1.904, 1.448, 0.630\n",
    "df_matchups['estimate'] = df_matchups['r/g-ratio'].apply(lambda x: c1*math.exp(c2*x+c3))"
   ]
  },
  {
   "cell_type": "code",
   "execution_count": 51,
   "id": "35328b44",
   "metadata": {},
   "outputs": [
    {
     "name": "stderr",
     "output_type": "stream",
     "text": [
      "C:\\Users\\Michael\\AppData\\Local\\Temp\\ipykernel_17048\\3516557773.py:17: UserWarning: Matplotlib is currently using module://matplotlib_inline.backend_inline, which is a non-GUI backend, so cannot show the figure.\n",
      "  fig.show()\n"
     ]
    },
    {
     "data": {
      "image/png": "[encoded data removed]",
      "text/plain": [
       "<Figure size 640x480 with 1 Axes>"
      ]
     },
     "metadata": {},
     "output_type": "display_data"
    }
   ],
   "source": [
    "import seaborn as sns\n",
    "from matplotlib import pyplot as plt\n",
    "\n",
    "\n",
    "ax = sns.regplot(data=df_matchups,\n",
    "            x='estimate',\n",
    "            y='value',\n",
    "            logx=True,\n",
    "            order=1)\n",
    "\n",
    "ax.set(xlabel='Estimated TSM [mg/L] (Markert et al.)', ylabel='TSM [mg/L]')\n",
    "\n",
    "#plt.yscale('log',base=2) \n",
    "#plt.xscale('log',base=2)\n",
    "#ax.set_aspect('equal', 'box')\n",
    "plt.tight_layout()\n",
    "fig.show()"
   ]
  },
  {
   "cell_type": "code",
   "execution_count": 53,
   "id": "22aac7ba",
   "metadata": {},
   "outputs": [
    {
     "data": {
      "image/png": "[encoded data removed]",
      "text/plain": [
       "<Figure size 640x480 with 1 Axes>"
      ]
     },
     "metadata": {},
     "output_type": "display_data"
    }
   ],
   "source": [
    "ax = sns.scatterplot(data=df_matchups, y='value', x='red', hue='station_code')\n",
    "ax.set(xlabel='ρ_red', ylabel='TSM [mg/L]')\n",
    "plt.show()"
   ]
  },
  {
   "cell_type": "code",
   "execution_count": null,
   "id": "ac7b1475",
   "metadata": {},
   "outputs": [],
   "source": []
  }
 ],
 "metadata": {
  "kernelspec": {
   "display_name": "Python 3 (ipykernel)",
   "language": "python",
   "name": "python3"
  },
  "language_info": {
   "codemirror_mode": {
    "name": "ipython",
    "version": 3
   },
   "file_extension": ".py",
   "mimetype": "text/x-python",
   "name": "python",
   "nbconvert_exporter": "python",
   "pygments_lexer": "ipython3",
   "version": "3.11.3"
  }
 },
 "nbformat": 4,
 "nbformat_minor": 5
}
