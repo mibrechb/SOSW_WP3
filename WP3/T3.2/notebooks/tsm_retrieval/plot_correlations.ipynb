{
 "cells": [
  {
   "cell_type": "markdown",
   "id": "34011ec1",
   "metadata": {},
   "source": [
    "# Imports"
   ]
  },
  {
   "cell_type": "code",
   "execution_count": 2118,
   "id": "721a4e82",
   "metadata": {},
   "outputs": [],
   "source": [
    "from matplotlib import pyplot as plt\n",
    "from pathlib import Path\n",
    "import pandas as pd\n",
    "import seaborn as sns\n",
    "import scipy as sp\n",
    "import hvplot.pandas\n",
    "import numpy as np\n",
    "import holoviews as hv"
   ]
  },
  {
   "cell_type": "markdown",
   "id": "b1a765dd",
   "metadata": {},
   "source": [
    "## Load TSM RS data"
   ]
  },
  {
   "cell_type": "code",
   "execution_count": 2259,
   "id": "387a3fe6",
   "metadata": {},
   "outputs": [
    {
     "name": "stdout",
     "output_type": "stream",
     "text": [
      "Loaded \"validation\\sr_timeseries_siac_downstream.csv\" file.\n"
     ]
    }
   ],
   "source": [
    "paths = list(Path('validation').glob(f'rrs_timeseries_siwrp.csv'))\n",
    "path_csv = paths[0]\n",
    "df_rs = pd.read_csv(path_csv, dtype={'station_id':str})\n",
    "df_rs['dt_utc'] = pd.to_datetime(df_rs['system:time_start'], format='mixed', utc=True)\n",
    "df_rs['dt_loc'] = df_rs['dt_utc'].dt.tz_convert('Asia/Ho_Chi_Minh')\n",
    "df_rs['date'] = df_rs['dt_loc'].dt.date\n",
    "df_rs = df_rs.drop(columns=['.geo', 'system:time_start'], errors='ignore')\n",
    "df_rs = df_rs.sort_values('date')\n",
    "df_rs['data_source'] = 'siwrp'\n",
    "print(f'Loaded \"{path_csv}\" file.')"
   ]
  },
  {
   "cell_type": "markdown",
   "id": "99bcfa4c",
   "metadata": {},
   "source": [
    "## Load TSM RS data (SIAC)"
   ]
  },
  {
   "cell_type": "code",
   "execution_count": 2260,
   "id": "4b8ec559",
   "metadata": {},
   "outputs": [
    {
     "name": "stdout",
     "output_type": "stream",
     "text": [
      "Loaded \"validation\\sr_timeseries_siac_siwrp.csv\" file.\n"
     ]
    }
   ],
   "source": [
    "paths = list(Path('validation').glob(f'sr_timeseries_siac_siwrp.csv'))\n",
    "path_csv = paths[0]\n",
    "df_rs = pd.read_csv(path_csv, dtype={'station_id':str})\n",
    "df_rs['dt_utc'] = pd.to_datetime(df_rs['system:time_start'], format='mixed', utc=True)\n",
    "df_rs['dt_loc'] = df_rs['dt_utc'].dt.tz_convert('Asia/Ho_Chi_Minh')\n",
    "df_rs['date'] = df_rs['dt_loc'].dt.date\n",
    "df_rs = df_rs.drop(columns=['.geo', 'system:time_start'], errors='ignore')\n",
    "df_rs = df_rs.sort_values('date')\n",
    "df_rs['data_source'] = 'siwrp'\n",
    "df_rs_siwrp = df_rs\n",
    "print(f'Loaded \"{path_csv}\" file.')"
   ]
  },
  {
   "cell_type": "markdown",
   "id": "6e1edde1",
   "metadata": {},
   "source": [
    "## Load TSM insitu data"
   ]
  },
  {
   "cell_type": "code",
   "execution_count": 2257,
   "id": "d6eae91f",
   "metadata": {},
   "outputs": [
    {
     "name": "stdout",
     "output_type": "stream",
     "text": [
      "Loaded \"data/insitu_siwrp/siwrp_data.csv\" file.\n"
     ]
    }
   ],
   "source": [
    "# read SIWRP files\n",
    "path_metadata = 'data/insitu_siwrp/Tss_LongDataset_VMD.xlsx'\n",
    "df_metadata = pd.read_excel(path_metadata, sheet_name=1)\n",
    "df_metadata['station_id'] = df_metadata['Station'].apply(lambda x: x.replace(\" \", \"\").lower())\n",
    "path_data = 'data/insitu_siwrp/siwrp_data.csv'\n",
    "df_insitu_siwrp = pd.read_csv(path_data, parse_dates=['date', 'dt_loc_estimated'])\n",
    "df_insitu_siwrp = df_insitu_siwrp.rename(columns={'dt_loc_estimated': 'dt_loc'})\n",
    "df_insitu_siwrp['date'] = df_insitu_siwrp['date'].dt.date\n",
    "df_insitu_siwrp = df_insitu_siwrp.sort_values('date')\n",
    "\n",
    "print(f'Loaded \"{path_data}\" file.')"
   ]
  },
  {
   "cell_type": "code",
   "execution_count": 2251,
   "id": "d1df4499",
   "metadata": {},
   "outputs": [],
   "source": [
    "df_insitu = pd.concat([df_insitu_siwrp])\n",
    "df_insitu = df_insitu.reset_index().drop(columns='index')\n",
    "df_insitu['station_id'] = df_insitu['station_id'].astype(str)\n",
    "df_insitu['dt_loc'] = df_insitu.dt_loc.astype('datetime64[ns, UTC+07:00]')"
   ]
  },
  {
   "cell_type": "markdown",
   "id": "913fd4a9",
   "metadata": {},
   "source": [
    "### Get matchups"
   ]
  },
  {
   "cell_type": "code",
   "execution_count": 2252,
   "id": "0ac331ea",
   "metadata": {},
   "outputs": [
    {
     "name": "stdout",
     "output_type": "stream",
     "text": [
      "418 (40.2%) matchups found with maximal difference of 6 hours.\n"
     ]
    }
   ],
   "source": [
    "import datetime\n",
    "\n",
    "delta_dt = 6 # allowed timedifference in hours\n",
    "df_rs = df_rs.reset_index().drop(columns=['index'])\n",
    "\n",
    "n_matchups = 0\n",
    "for idx, row in df_rs.iterrows():\n",
    "    station_id = row.station_id\n",
    "    timestamp = row.dt_loc\n",
    "    t_start = timestamp - datetime.timedelta(hours=delta_dt)\n",
    "    t_end = timestamp + datetime.timedelta(hours=delta_dt)\n",
    "    matches = df_insitu.loc[(df_insitu.dt_loc <= t_end) & (df_insitu.dt_loc >= t_start)]\n",
    "    matches = matches.loc[matches.station_id == station_id]\n",
    "    \n",
    "    if matches.shape[0] == 0:\n",
    "        value = np.nan\n",
    "        dt_loc_insitu = pd.Timestamp('NaT')\n",
    "        dt_diff = pd.Timestamp('NaT')\n",
    "    elif matches.shape[0] == 1:\n",
    "        value = matches.iloc[0].value\n",
    "        dt_loc_insitu = matches.iloc[0].dt_loc\n",
    "        dt_diff = abs(matches.iloc[0]['dt_loc']-timestamp)\n",
    "        n_matchups += 1\n",
    "    else:\n",
    "        matches['dt_diff'] = abs(matches['dt_loc']-timestamp)\n",
    "        matches = matches.sort_values('dt_diff')\n",
    "        value = matches.iloc[0].value \n",
    "        dt_loc_insitu = matches.iloc[0].dt_loc\n",
    "        dt_diff = matches.iloc[0].dt_diff\n",
    "        n_matchups += 1\n",
    "    \n",
    "    df_rs.loc[idx, 'value'] = value\n",
    "    df_rs.loc[idx, 'dt_loc_insitu'] = dt_loc_insitu\n",
    "    df_rs.loc[idx, 'dt_diff'] = dt_diff\n",
    "\n",
    "print(f'{n_matchups} ({(n_matchups/df_rs.shape[0])*100:0.1f}%) matchups found with maximal difference of {delta_dt} hours.')"
   ]
  },
  {
   "cell_type": "markdown",
   "id": "625757a1",
   "metadata": {},
   "source": [
    "### Correlation matrix"
   ]
  },
  {
   "cell_type": "code",
   "execution_count": 2253,
   "id": "7aa6a7b3",
   "metadata": {},
   "outputs": [],
   "source": [
    "centerwl_lut_msi = {\n",
    "    'B1':442.7, 'B2':492.4, 'B3':559.8, 'B4':664.6, 'B5':704.1, 'B6':740.5,'B7':782.8, 'B8':832.8, 'B8A':864.7, 'B9':945.1, 'B10':1373.5, 'B11':1613.7, 'B12':2202.4\n",
    "}\n",
    "centerwl_lut_oli = {\n",
    "    'B1':442.96, 'B2':482.04, 'B3':561.41, 'B4':654.59, 'B5':864.67, 'B6':1608.86, 'B7':2200.73,'B8':590,'B9':1375,'B10':10800,'B11':1200  \n",
    "}"
   ]
  },
  {
   "cell_type": "code",
   "execution_count": 2254,
   "id": "4ba192d7",
   "metadata": {},
   "outputs": [
    {
     "name": "stderr",
     "output_type": "stream",
     "text": [
      "C:\\Users\\Michael\\AppData\\Local\\Temp\\ipykernel_35916\\906545822.py:16: SettingWithCopyWarning: \n",
      "A value is trying to be set on a copy of a slice from a DataFrame.\n",
      "Try using .loc[row_indexer,col_indexer] = value instead\n",
      "\n",
      "See the caveats in the documentation: https://pandas.pydata.org/pandas-docs/stable/user_guide/indexing.html#returning-a-view-versus-a-copy\n",
      "  corr_mat_msi['band'] = corr_mat_msi.band.apply(lambda x: x.split('_')[0])\n",
      "C:\\Users\\Michael\\AppData\\Local\\Temp\\ipykernel_35916\\906545822.py:17: SettingWithCopyWarning: \n",
      "A value is trying to be set on a copy of a slice from a DataFrame.\n",
      "Try using .loc[row_indexer,col_indexer] = value instead\n",
      "\n",
      "See the caveats in the documentation: https://pandas.pydata.org/pandas-docs/stable/user_guide/indexing.html#returning-a-view-versus-a-copy\n",
      "  corr_mat_msi['wavelength'] = corr_mat_msi.band.apply(lambda x: centerwl_lut_msi[x])\n",
      "C:\\Users\\Michael\\AppData\\Local\\Temp\\ipykernel_35916\\906545822.py:23: SettingWithCopyWarning: \n",
      "A value is trying to be set on a copy of a slice from a DataFrame.\n",
      "Try using .loc[row_indexer,col_indexer] = value instead\n",
      "\n",
      "See the caveats in the documentation: https://pandas.pydata.org/pandas-docs/stable/user_guide/indexing.html#returning-a-view-versus-a-copy\n",
      "  corr_mat_oli['band'] = corr_mat_oli.band.apply(lambda x: x.split('_')[0])\n",
      "C:\\Users\\Michael\\AppData\\Local\\Temp\\ipykernel_35916\\906545822.py:24: SettingWithCopyWarning: \n",
      "A value is trying to be set on a copy of a slice from a DataFrame.\n",
      "Try using .loc[row_indexer,col_indexer] = value instead\n",
      "\n",
      "See the caveats in the documentation: https://pandas.pydata.org/pandas-docs/stable/user_guide/indexing.html#returning-a-view-versus-a-copy\n",
      "  corr_mat_oli['wavelength'] = corr_mat_oli.band.apply(lambda x: centerwl_lut_oli[x])\n"
     ]
    },
    {
     "data": {},
     "metadata": {},
     "output_type": "display_data"
    },
    {
     "data": {
      "application/vnd.holoviews_exec.v0+json": "",
      "text/html": [
       "<div id='p118254'>\n",
       "  <div id=\"c3d3b287-c157-4283-8eab-94de93b67320\" data-root-id=\"p118254\" style=\"display: contents;\"></div>\n",
       "</div>\n",
       "<script type=\"application/javascript\">(function(root) {\n",
       "  var docs_json = {\"70764b4e-022d-4804-926b-3d33897dc02a\":{\"version\":\"3.1.1\",\"title\":\"Bokeh Application\",\"defs\":[{\"type\":\"model\",\"name\":\"ReactiveHTML1\"},{\"type\":\"model\",\"name\":\"FlexBox1\",\"properties\":[{\"name\":\"align_content\",\"kind\":\"Any\",\"default\":\"flex-start\"},{\"name\":\"align_items\",\"kind\":\"Any\",\"default\":\"flex-start\"},{\"name\":\"flex_direction\",\"kind\":\"Any\",\"default\":\"row\"},{\"name\":\"flex_wrap\",\"kind\":\"Any\",\"default\":\"wrap\"},{\"name\":\"justify_content\",\"kind\":\"Any\",\"default\":\"flex-start\"}]},{\"type\":\"model\",\"name\":\"FloatPanel1\",\"properties\":[{\"name\":\"config\",\"kind\":\"Any\",\"default\":{\"type\":\"map\"}},{\"name\":\"contained\",\"kind\":\"Any\",\"default\":true},{\"name\":\"position\",\"kind\":\"Any\",\"default\":\"right-top\"},{\"name\":\"offsetx\",\"kind\":\"Any\",\"default\":null},{\"name\":\"offsety\",\"kind\":\"Any\",\"default\":null},{\"name\":\"theme\",\"kind\":\"Any\",\"default\":\"primary\"},{\"name\":\"status\",\"kind\":\"Any\",\"default\":\"normalized\"}]},{\"type\":\"model\",\"name\":\"GridStack1\",\"properties\":[{\"name\":\"mode\",\"kind\":\"Any\",\"default\":\"warn\"},{\"name\":\"ncols\",\"kind\":\"Any\",\"default\":null},{\"name\":\"nrows\",\"kind\":\"Any\",\"default\":null},{\"name\":\"allow_resize\",\"kind\":\"Any\",\"default\":true},{\"name\":\"allow_drag\",\"kind\":\"Any\",\"default\":true},{\"name\":\"state\",\"kind\":\"Any\",\"default\":[]}]},{\"type\":\"model\",\"name\":\"drag1\",\"properties\":[{\"name\":\"slider_width\",\"kind\":\"Any\",\"default\":5},{\"name\":\"slider_color\",\"kind\":\"Any\",\"default\":\"black\"},{\"name\":\"value\",\"kind\":\"Any\",\"default\":50}]},{\"type\":\"model\",\"name\":\"click1\",\"properties\":[{\"name\":\"terminal_output\",\"kind\":\"Any\",\"default\":\"\"},{\"name\":\"debug_name\",\"kind\":\"Any\",\"default\":\"\"},{\"name\":\"clears\",\"kind\":\"Any\",\"default\":0}]},{\"type\":\"model\",\"name\":\"FastWrapper1\",\"properties\":[{\"name\":\"object\",\"kind\":\"Any\",\"default\":null},{\"name\":\"style\",\"kind\":\"Any\",\"default\":null}]},{\"type\":\"model\",\"name\":\"NotificationAreaBase1\",\"properties\":[{\"name\":\"position\",\"kind\":\"Any\",\"default\":\"bottom-right\"},{\"name\":\"_clear\",\"kind\":\"Any\",\"default\":0}]},{\"type\":\"model\",\"name\":\"NotificationArea1\",\"properties\":[{\"name\":\"notifications\",\"kind\":\"Any\",\"default\":[]},{\"name\":\"position\",\"kind\":\"Any\",\"default\":\"bottom-right\"},{\"name\":\"_clear\",\"kind\":\"Any\",\"default\":0},{\"name\":\"types\",\"kind\":\"Any\",\"default\":[{\"type\":\"map\",\"entries\":[[\"type\",\"warning\"],[\"background\",\"#ffc107\"],[\"icon\",{\"type\":\"map\",\"entries\":[[\"className\",\"fas fa-exclamation-triangle\"],[\"tagName\",\"i\"],[\"color\",\"white\"]]}]]},{\"type\":\"map\",\"entries\":[[\"type\",\"info\"],[\"background\",\"#007bff\"],[\"icon\",{\"type\":\"map\",\"entries\":[[\"className\",\"fas fa-info-circle\"],[\"tagName\",\"i\"],[\"color\",\"white\"]]}]]}]}]},{\"type\":\"model\",\"name\":\"Notification\",\"properties\":[{\"name\":\"background\",\"kind\":\"Any\",\"default\":null},{\"name\":\"duration\",\"kind\":\"Any\",\"default\":3000},{\"name\":\"icon\",\"kind\":\"Any\",\"default\":null},{\"name\":\"message\",\"kind\":\"Any\",\"default\":\"\"},{\"name\":\"notification_type\",\"kind\":\"Any\",\"default\":null},{\"name\":\"_destroyed\",\"kind\":\"Any\",\"default\":false}]},{\"type\":\"model\",\"name\":\"TemplateActions1\",\"properties\":[{\"name\":\"open_modal\",\"kind\":\"Any\",\"default\":0},{\"name\":\"close_modal\",\"kind\":\"Any\",\"default\":0}]},{\"type\":\"model\",\"name\":\"BootstrapTemplateActions1\",\"properties\":[{\"name\":\"open_modal\",\"kind\":\"Any\",\"default\":0},{\"name\":\"close_modal\",\"kind\":\"Any\",\"default\":0}]},{\"type\":\"model\",\"name\":\"MaterialTemplateActions1\",\"properties\":[{\"name\":\"open_modal\",\"kind\":\"Any\",\"default\":0},{\"name\":\"close_modal\",\"kind\":\"Any\",\"default\":0}]}],\"roots\":[{\"type\":\"object\",\"name\":\"Row\",\"id\":\"p118254\",\"attributes\":{\"name\":\"Row137727\",\"tags\":[\"embedded\"],\"stylesheets\":[\"\\n:host(.pn-loading.pn-arc):before, .pn-loading.pn-arc:before {\\n  background-image: url(\\\"data:image/svg+xml;base64,PHN2ZyB4bWxucz0iaHR0cDovL3d3dy53My5vcmcvMjAwMC9zdmciIHN0eWxlPSJtYXJnaW46IGF1dG87IGJhY2tncm91bmQ6IG5vbmU7IGRpc3BsYXk6IGJsb2NrOyBzaGFwZS1yZW5kZXJpbmc6IGF1dG87IiB2aWV3Qm94PSIwIDAgMTAwIDEwMCIgcHJlc2VydmVBc3BlY3RSYXRpbz0ieE1pZFlNaWQiPiAgPGNpcmNsZSBjeD0iNTAiIGN5PSI1MCIgZmlsbD0ibm9uZSIgc3Ryb2tlPSIjYzNjM2MzIiBzdHJva2Utd2lkdGg9IjEwIiByPSIzNSIgc3Ryb2tlLWRhc2hhcnJheT0iMTY0LjkzMzYxNDMxMzQ2NDE1IDU2Ljk3Nzg3MTQzNzgyMTM4Ij4gICAgPGFuaW1hdGVUcmFuc2Zvcm0gYXR0cmlidXRlTmFtZT0idHJhbnNmb3JtIiB0eXBlPSJyb3RhdGUiIHJlcGVhdENvdW50PSJpbmRlZmluaXRlIiBkdXI9IjFzIiB2YWx1ZXM9IjAgNTAgNTA7MzYwIDUwIDUwIiBrZXlUaW1lcz0iMDsxIj48L2FuaW1hdGVUcmFuc2Zvcm0+ICA8L2NpcmNsZT48L3N2Zz4=\\\");\\n  background-size: auto calc(min(50%, 400px));\\n}\",{\"type\":\"object\",\"name\":\"ImportedStyleSheet\",\"id\":\"p118257\",\"attributes\":{\"url\":\"https://cdn.holoviz.org/panel/1.1.0/dist/css/loading.css\"}},{\"type\":\"object\",\"name\":\"ImportedStyleSheet\",\"id\":\"p118657\",\"attributes\":{\"url\":\"https://cdn.holoviz.org/panel/1.1.0/dist/css/listpanel.css\"}},{\"type\":\"object\",\"name\":\"ImportedStyleSheet\",\"id\":\"p118255\",\"attributes\":{\"url\":\"https://cdn.holoviz.org/panel/1.1.0/dist/bundled/theme/default.css\"}},{\"type\":\"object\",\"name\":\"ImportedStyleSheet\",\"id\":\"p118256\",\"attributes\":{\"url\":\"https://cdn.holoviz.org/panel/1.1.0/dist/bundled/theme/native.css\"}}],\"margin\":0,\"sizing_mode\":\"stretch_width\",\"align\":\"start\",\"children\":[{\"type\":\"object\",\"name\":\"Spacer\",\"id\":\"p118258\",\"attributes\":{\"name\":\"HSpacer137737\",\"stylesheets\":[\"\\n:host(.pn-loading.pn-arc):before, .pn-loading.pn-arc:before {\\n  background-image: url(\\\"data:image/svg+xml;base64,PHN2ZyB4bWxucz0iaHR0cDovL3d3dy53My5vcmcvMjAwMC9zdmciIHN0eWxlPSJtYXJnaW46IGF1dG87IGJhY2tncm91bmQ6IG5vbmU7IGRpc3BsYXk6IGJsb2NrOyBzaGFwZS1yZW5kZXJpbmc6IGF1dG87IiB2aWV3Qm94PSIwIDAgMTAwIDEwMCIgcHJlc2VydmVBc3BlY3RSYXRpbz0ieE1pZFlNaWQiPiAgPGNpcmNsZSBjeD0iNTAiIGN5PSI1MCIgZmlsbD0ibm9uZSIgc3Ryb2tlPSIjYzNjM2MzIiBzdHJva2Utd2lkdGg9IjEwIiByPSIzNSIgc3Ryb2tlLWRhc2hhcnJheT0iMTY0LjkzMzYxNDMxMzQ2NDE1IDU2Ljk3Nzg3MTQzNzgyMTM4Ij4gICAgPGFuaW1hdGVUcmFuc2Zvcm0gYXR0cmlidXRlTmFtZT0idHJhbnNmb3JtIiB0eXBlPSJyb3RhdGUiIHJlcGVhdENvdW50PSJpbmRlZmluaXRlIiBkdXI9IjFzIiB2YWx1ZXM9IjAgNTAgNTA7MzYwIDUwIDUwIiBrZXlUaW1lcz0iMDsxIj48L2FuaW1hdGVUcmFuc2Zvcm0+ICA8L2NpcmNsZT48L3N2Zz4=\\\");\\n  background-size: auto calc(min(50%, 400px));\\n}\",{\"id\":\"p118257\"},{\"id\":\"p118255\"},{\"id\":\"p118256\"}],\"margin\":0,\"sizing_mode\":\"stretch_width\",\"align\":\"start\"}},{\"type\":\"object\",\"name\":\"GridPlot\",\"id\":\"p118543\",\"attributes\":{\"rows\":null,\"cols\":null,\"toolbar\":{\"type\":\"object\",\"name\":\"Toolbar\",\"id\":\"p118605\",\"attributes\":{\"tools\":[{\"type\":\"object\",\"name\":\"ToolProxy\",\"id\":\"p118599\",\"attributes\":{\"tools\":[{\"type\":\"object\",\"name\":\"HoverTool\",\"id\":\"p118261\",\"attributes\":{\"tags\":[\"hv_created\"],\"renderers\":[{\"type\":\"object\",\"name\":\"GlyphRenderer\",\"id\":\"p118330\",\"attributes\":{\"data_source\":{\"type\":\"object\",\"name\":\"ColumnDataSource\",\"id\":\"p118320\",\"attributes\":{\"selected\":{\"type\":\"object\",\"name\":\"Selection\",\"id\":\"p118322\",\"attributes\":{\"indices\":[],\"line_indices\":[]}},\"selection_policy\":{\"type\":\"object\",\"name\":\"UnionRenderers\",\"id\":\"p118321\"},\"data\":{\"type\":\"map\",\"entries\":[[\"wavelength\",{\"type\":\"ndarray\",\"array\":{\"type\":\"bytes\",\"data\":\"MzMzMzOre0BmZmZmZsZ+QGZmZmZmfoFAzczMzMzEhEDNzMzMzACGQAAAAAAAJIdAZmZmZmZ2iEBmZmZmZgaKQJqZmZmZBYtAzczMzMyIjUAAAAAAAHaVQA==\"},\"shape\":[11],\"dtype\":\"float64\",\"order\":\"little\"}],[\"correlation\",{\"type\":\"ndarray\",\"array\":{\"type\":\"bytes\",\"data\":\"4Qx4gD7AzD8OLpKMIiXRPx3+ZKC/I9g/bNySRkdk4j+yW8Q32yfkP5cKlks7ouY/NyOYOot45j8e19q5tRjnP8yLIyIf0+Q//3P1chS9cL/UMVO32xSzPw==\"},\"shape\":[11],\"dtype\":\"float64\",\"order\":\"little\"}]]}}},\"view\":{\"type\":\"object\",\"name\":\"CDSView\",\"id\":\"p118331\",\"attributes\":{\"filter\":{\"type\":\"object\",\"name\":\"AllIndices\",\"id\":\"p118332\"}}},\"glyph\":{\"type\":\"object\",\"name\":\"Line\",\"id\":\"p118327\",\"attributes\":{\"tags\":[\"apply_ranges\"],\"x\":{\"type\":\"field\",\"field\":\"wavelength\"},\"y\":{\"type\":\"field\",\"field\":\"correlation\"},\"line_color\":\"#30a2da\",\"line_width\":2}},\"selection_glyph\":{\"type\":\"object\",\"name\":\"Line\",\"id\":\"p118333\",\"attributes\":{\"tags\":[\"apply_ranges\"],\"x\":{\"type\":\"field\",\"field\":\"wavelength\"},\"y\":{\"type\":\"field\",\"field\":\"correlation\"},\"line_color\":\"#30a2da\",\"line_width\":2}},\"nonselection_glyph\":{\"type\":\"object\",\"name\":\"Line\",\"id\":\"p118328\",\"attributes\":{\"tags\":[\"apply_ranges\"],\"x\":{\"type\":\"field\",\"field\":\"wavelength\"},\"y\":{\"type\":\"field\",\"field\":\"correlation\"},\"line_color\":\"#30a2da\",\"line_alpha\":0.1,\"line_width\":2}},\"muted_glyph\":{\"type\":\"object\",\"name\":\"Line\",\"id\":\"p118329\",\"attributes\":{\"tags\":[\"apply_ranges\"],\"x\":{\"type\":\"field\",\"field\":\"wavelength\"},\"y\":{\"type\":\"field\",\"field\":\"correlation\"},\"line_color\":\"#30a2da\",\"line_alpha\":0.2,\"line_width\":2}}}},{\"type\":\"object\",\"name\":\"GlyphRenderer\",\"id\":\"p118347\",\"attributes\":{\"data_source\":{\"type\":\"object\",\"name\":\"ColumnDataSource\",\"id\":\"p118335\",\"attributes\":{\"selected\":{\"type\":\"object\",\"name\":\"Selection\",\"id\":\"p118337\",\"attributes\":{\"indices\":[],\"line_indices\":[]}},\"selection_policy\":{\"type\":\"object\",\"name\":\"UnionRenderers\",\"id\":\"p118336\"},\"data\":{\"type\":\"map\",\"entries\":[[\"wavelength\",{\"type\":\"ndarray\",\"array\":{\"type\":\"bytes\",\"data\":\"MzMzMzOre0BmZmZmZsZ+QGZmZmZmfoFAzczMzMzEhEDNzMzMzACGQAAAAAAAJIdAZmZmZmZ2iEBmZmZmZgaKQJqZmZmZBYtAzczMzMyIjUAAAAAAAHaVQA==\"},\"shape\":[11],\"dtype\":\"float64\",\"order\":\"little\"}],[\"correlation\",{\"type\":\"ndarray\",\"array\":{\"type\":\"bytes\",\"data\":\"4Qx4gD7AzD8OLpKMIiXRPx3+ZKC/I9g/bNySRkdk4j+yW8Q32yfkP5cKlks7ouY/NyOYOot45j8e19q5tRjnP8yLIyIf0+Q//3P1chS9cL/UMVO32xSzPw==\"},\"shape\":[11],\"dtype\":\"float64\",\"order\":\"little\"}],[\"color\",{\"type\":\"ndarray\",\"array\":{\"type\":\"bytes\",\"data\":\"4Qx4gD7AzD8OLpKMIiXRPx3+ZKC/I9g/bNySRkdk4j+yW8Q32yfkP5cKlks7ouY/NyOYOot45j8e19q5tRjnP8yLIyIf0+Q//3P1chS9cL/UMVO32xSzPw==\"},\"shape\":[11],\"dtype\":\"float64\",\"order\":\"little\"}]]}}},\"view\":{\"type\":\"object\",\"name\":\"CDSView\",\"id\":\"p118348\",\"attributes\":{\"filter\":{\"type\":\"object\",\"name\":\"AllIndices\",\"id\":\"p118349\"}}},\"glyph\":{\"type\":\"object\",\"name\":\"Scatter\",\"id\":\"p118342\",\"attributes\":{\"tags\":[\"apply_ranges\"],\"x\":{\"type\":\"field\",\"field\":\"wavelength\"},\"y\":{\"type\":\"field\",\"field\":\"correlation\"},\"size\":{\"type\":\"value\",\"value\":10.0},\"fill_color\":{\"type\":\"field\",\"field\":\"color\",\"transform\":{\"type\":\"object\",\"name\":\"LinearColorMapper\",\"id\":\"p118334\",\"attributes\":{\"palette\":[\"#0000ff\",\"#0202ff\",\"#0404ff\",\"#0606ff\",\"#0808ff\",\"#0a0aff\",\"#0c0cff\",\"#0e0eff\",\"#1010ff\",\"#1212ff\",\"#1414ff\",\"#1616ff\",\"#1818ff\",\"#1a1aff\",\"#1c1cff\",\"#1e1eff\",\"#2020ff\",\"#2222ff\",\"#2424ff\",\"#2626ff\",\"#2828ff\",\"#2a2aff\",\"#2c2cff\",\"#2e2eff\",\"#3030ff\",\"#3232ff\",\"#3434ff\",\"#3636ff\",\"#3838ff\",\"#3a3aff\",\"#3c3cff\",\"#3e3eff\",\"#4040ff\",\"#4141ff\",\"#4444ff\",\"#4646ff\",\"#4848ff\",\"#4949ff\",\"#4c4cff\",\"#4e4eff\",\"#5050ff\",\"#5151ff\",\"#5454ff\",\"#5656ff\",\"#5858ff\",\"#5959ff\",\"#5c5cff\",\"#5e5eff\",\"#6060ff\",\"#6161ff\",\"#6464ff\",\"#6666ff\",\"#6868ff\",\"#6969ff\",\"#6c6cff\",\"#6e6eff\",\"#7070ff\",\"#7171ff\",\"#7474ff\",\"#7676ff\",\"#7878ff\",\"#7979ff\",\"#7c7cff\",\"#7e7eff\",\"#8080ff\",\"#8282ff\",\"#8383ff\",\"#8686ff\",\"#8888ff\",\"#8a8aff\",\"#8c8cff\",\"#8e8eff\",\"#9090ff\",\"#9292ff\",\"#9393ff\",\"#9696ff\",\"#9898ff\",\"#9a9aff\",\"#9c9cff\",\"#9e9eff\",\"#a0a0ff\",\"#a2a2ff\",\"#a3a3ff\",\"#a6a6ff\",\"#a8a8ff\",\"#aaaaff\",\"#acacff\",\"#aeaeff\",\"#b0b0ff\",\"#b2b2ff\",\"#b3b3ff\",\"#b6b6ff\",\"#b8b8ff\",\"#babaff\",\"#bcbcff\",\"#bebeff\",\"#c0c0ff\",\"#c2c2ff\",\"#c3c3ff\",\"#c6c6ff\",\"#c8c8ff\",\"#cacaff\",\"#ccccff\",\"#ceceff\",\"#d0d0ff\",\"#d2d2ff\",\"#d3d3ff\",\"#d6d6ff\",\"#d8d8ff\",\"#dadaff\",\"#dcdcff\",\"#dedeff\",\"#e0e0ff\",\"#e2e2ff\",\"#e3e3ff\",\"#e6e6ff\",\"#e8e8ff\",\"#eaeaff\",\"#ececff\",\"#eeeeff\",\"#f0f0ff\",\"#f2f2ff\",\"#f3f3ff\",\"#f6f6ff\",\"#f8f8ff\",\"#fafaff\",\"#fcfcff\",\"#fefeff\",\"#fffefe\",\"#fffcfc\",\"#fffafa\",\"#fff8f8\",\"#fff6f6\",\"#fff4f4\",\"#fff2f2\",\"#fff0f0\",\"#ffeeee\",\"#ffecec\",\"#ffeaea\",\"#ffe8e8\",\"#ffe6e6\",\"#ffe4e4\",\"#ffe2e2\",\"#ffe0e0\",\"#ffdede\",\"#ffdcdc\",\"#ffdada\",\"#ffd8d8\",\"#ffd6d6\",\"#ffd3d3\",\"#ffd2d2\",\"#ffd0d0\",\"#ffcece\",\"#ffcccc\",\"#ffcaca\",\"#ffc8c8\",\"#ffc6c6\",\"#ffc3c3\",\"#ffc2c2\",\"#ffc0c0\",\"#ffbebe\",\"#ffbcbc\",\"#ffbaba\",\"#ffb8b8\",\"#ffb6b6\",\"#ffb3b3\",\"#ffb2b2\",\"#ffb0b0\",\"#ffaeae\",\"#ffacac\",\"#ffaaaa\",\"#ffa8a8\",\"#ffa6a6\",\"#ffa3a3\",\"#ffa2a2\",\"#ffa0a0\",\"#ff9e9e\",\"#ff9c9c\",\"#ff9a9a\",\"#ff9898\",\"#ff9696\",\"#ff9393\",\"#ff9292\",\"#ff9090\",\"#ff8e8e\",\"#ff8c8c\",\"#ff8a8a\",\"#ff8888\",\"#ff8686\",\"#ff8383\",\"#ff8282\",\"#ff8080\",\"#ff7e7e\",\"#ff7c7c\",\"#ff7979\",\"#ff7878\",\"#ff7676\",\"#ff7474\",\"#ff7171\",\"#ff7070\",\"#ff6e6e\",\"#ff6c6c\",\"#ff6969\",\"#ff6868\",\"#ff6666\",\"#ff6464\",\"#ff6161\",\"#ff6060\",\"#ff5e5e\",\"#ff5c5c\",\"#ff5959\",\"#ff5858\",\"#ff5656\",\"#ff5454\",\"#ff5151\",\"#ff5050\",\"#ff4e4e\",\"#ff4c4c\",\"#ff4949\",\"#ff4848\",\"#ff4646\",\"#ff4444\",\"#ff4141\",\"#ff4040\",\"#ff3e3e\",\"#ff3c3c\",\"#ff3939\",\"#ff3838\",\"#ff3636\",\"#ff3434\",\"#ff3131\",\"#ff3030\",\"#ff2e2e\",\"#ff2c2c\",\"#ff2929\",\"#ff2828\",\"#ff2626\",\"#ff2424\",\"#ff2121\",\"#ff2020\",\"#ff1e1e\",\"#ff1c1c\",\"#ff1919\",\"#ff1818\",\"#ff1616\",\"#ff1414\",\"#ff1111\",\"#ff1010\",\"#ff0e0e\",\"#ff0c0c\",\"#ff0909\",\"#ff0808\",\"#ff0606\",\"#ff0404\",\"#ff0101\",\"#ff0000\"],\"low\":-1,\"high\":1}}},\"hatch_color\":{\"type\":\"field\",\"field\":\"color\",\"transform\":{\"id\":\"p118334\"}}}},\"selection_glyph\":{\"type\":\"object\",\"name\":\"Scatter\",\"id\":\"p118344\",\"attributes\":{\"tags\":[\"apply_ranges\"],\"x\":{\"type\":\"field\",\"field\":\"wavelength\"},\"y\":{\"type\":\"field\",\"field\":\"correlation\"},\"size\":{\"type\":\"value\",\"value\":10.0},\"fill_color\":{\"type\":\"field\",\"field\":\"color\",\"transform\":{\"id\":\"p118334\"}},\"hatch_color\":{\"type\":\"field\",\"field\":\"color\",\"transform\":{\"id\":\"p118334\"}}}},\"nonselection_glyph\":{\"type\":\"object\",\"name\":\"Scatter\",\"id\":\"p118343\",\"attributes\":{\"tags\":[\"apply_ranges\"],\"x\":{\"type\":\"field\",\"field\":\"wavelength\"},\"y\":{\"type\":\"field\",\"field\":\"correlation\"},\"size\":{\"type\":\"value\",\"value\":10.0},\"line_alpha\":{\"type\":\"value\",\"value\":0.1},\"fill_color\":{\"type\":\"field\",\"field\":\"color\",\"transform\":{\"id\":\"p118334\"}},\"fill_alpha\":{\"type\":\"value\",\"value\":0.1},\"hatch_color\":{\"type\":\"field\",\"field\":\"color\",\"transform\":{\"id\":\"p118334\"}},\"hatch_alpha\":{\"type\":\"value\",\"value\":0.1}}},\"hover_glyph\":{\"type\":\"object\",\"name\":\"Scatter\",\"id\":\"p118345\",\"attributes\":{\"tags\":[\"apply_ranges\"],\"x\":{\"type\":\"field\",\"field\":\"wavelength\"},\"y\":{\"type\":\"field\",\"field\":\"correlation\"},\"size\":{\"type\":\"value\",\"value\":10.0},\"fill_color\":{\"type\":\"field\",\"field\":\"color\",\"transform\":{\"id\":\"p118334\"}},\"hatch_color\":{\"type\":\"field\",\"field\":\"color\",\"transform\":{\"id\":\"p118334\"}}}},\"muted_glyph\":{\"type\":\"object\",\"name\":\"Scatter\",\"id\":\"p118346\",\"attributes\":{\"tags\":[\"apply_ranges\"],\"x\":{\"type\":\"field\",\"field\":\"wavelength\"},\"y\":{\"type\":\"field\",\"field\":\"correlation\"},\"size\":{\"type\":\"value\",\"value\":10.0},\"line_alpha\":{\"type\":\"value\",\"value\":0.2},\"fill_color\":{\"type\":\"field\",\"field\":\"color\",\"transform\":{\"id\":\"p118334\"}},\"fill_alpha\":{\"type\":\"value\",\"value\":0.2},\"hatch_color\":{\"type\":\"field\",\"field\":\"color\",\"transform\":{\"id\":\"p118334\"}},\"hatch_alpha\":{\"type\":\"value\",\"value\":0.2}}}}}],\"tooltips\":[[\"wavelength\",\"@{wavelength}\"],[\"correlation\",\"@{correlation}\"]]}},{\"type\":\"object\",\"name\":\"HoverTool\",\"id\":\"p118263\",\"attributes\":{\"tags\":[\"hv_created\"],\"renderers\":[{\"type\":\"object\",\"name\":\"GlyphRenderer\",\"id\":\"p118363\",\"attributes\":{\"data_source\":{\"type\":\"object\",\"name\":\"ColumnDataSource\",\"id\":\"p118353\",\"attributes\":{\"selected\":{\"type\":\"object\",\"name\":\"Selection\",\"id\":\"p118355\",\"attributes\":{\"indices\":[],\"line_indices\":[]}},\"selection_policy\":{\"type\":\"object\",\"name\":\"UnionRenderers\",\"id\":\"p118354\"},\"data\":{\"type\":\"map\",\"entries\":[[\"wavelength\",{\"type\":\"ndarray\",\"array\":{\"type\":\"bytes\",\"data\":\"MzMzMzOre0BmZmZmZsZ+QGZmZmZmfoFAzczMzMzEhEDNzMzMzACGQAAAAAAAJIdAZmZmZmZ2iEBmZmZmZgaKQJqZmZmZBYtAzczMzMyIjUAAAAAAAHaVQA==\"},\"shape\":[11],\"dtype\":\"float64\",\"order\":\"little\"}],[\"correlation\",{\"type\":\"ndarray\",\"array\":{\"type\":\"bytes\",\"data\":\"4Qx4gD7AzD8OLpKMIiXRPx3+ZKC/I9g/bNySRkdk4j+yW8Q32yfkP5cKlks7ouY/NyOYOot45j8e19q5tRjnP8yLIyIf0+Q//3P1chS9cL/UMVO32xSzPw==\"},\"shape\":[11],\"dtype\":\"float64\",\"order\":\"little\"}],[\"band\",[\"B1\",\"B2\",\"B3\",\"B4\",\"B5\",\"B6\",\"B7\",\"B8\",\"B8A\",\"B9\",\"B10\"]]]}}},\"view\":{\"type\":\"object\",\"name\":\"CDSView\",\"id\":\"p118364\",\"attributes\":{\"filter\":{\"type\":\"object\",\"name\":\"AllIndices\",\"id\":\"p118365\"}}},\"glyph\":{\"type\":\"object\",\"name\":\"Text\",\"id\":\"p118360\",\"attributes\":{\"tags\":[\"apply_ranges\"],\"x\":{\"type\":\"field\",\"field\":\"wavelength\"},\"y\":{\"type\":\"field\",\"field\":\"correlation\"},\"text\":{\"type\":\"field\",\"field\":\"band\"},\"text_color\":{\"type\":\"value\",\"value\":\"black\"},\"text_align\":{\"type\":\"value\",\"value\":\"center\"},\"text_baseline\":{\"type\":\"value\",\"value\":\"top\"}}},\"selection_glyph\":{\"type\":\"object\",\"name\":\"Text\",\"id\":\"p118366\",\"attributes\":{\"tags\":[\"apply_ranges\"],\"x\":{\"type\":\"field\",\"field\":\"wavelength\"},\"y\":{\"type\":\"field\",\"field\":\"correlation\"},\"text\":{\"type\":\"field\",\"field\":\"band\"},\"angle\":{\"type\":\"value\",\"value\":0},\"x_offset\":{\"type\":\"value\",\"value\":0},\"y_offset\":{\"type\":\"value\",\"value\":0},\"text_color\":{\"type\":\"value\",\"value\":\"black\"},\"text_outline_color\":{\"type\":\"value\",\"value\":null},\"text_alpha\":{\"type\":\"value\",\"value\":1.0},\"text_font_style\":{\"type\":\"value\",\"value\":\"normal\"},\"text_align\":{\"type\":\"value\",\"value\":\"center\"},\"text_baseline\":{\"type\":\"value\",\"value\":\"top\"},\"text_line_height\":{\"type\":\"value\",\"value\":1.2},\"background_fill_color\":{\"type\":\"value\",\"value\":null},\"background_fill_alpha\":{\"type\":\"value\",\"value\":1.0},\"background_hatch_color\":{\"type\":\"value\",\"value\":null},\"background_hatch_alpha\":{\"type\":\"value\",\"value\":1.0},\"background_hatch_scale\":{\"type\":\"value\",\"value\":12.0},\"background_hatch_pattern\":{\"type\":\"value\",\"value\":null},\"background_hatch_weight\":{\"type\":\"value\",\"value\":1.0},\"border_line_color\":{\"type\":\"value\",\"value\":null},\"border_line_alpha\":{\"type\":\"value\",\"value\":1.0},\"border_line_width\":{\"type\":\"value\",\"value\":1},\"border_line_join\":{\"type\":\"value\",\"value\":\"bevel\"},\"border_line_cap\":{\"type\":\"value\",\"value\":\"butt\"},\"border_line_dash\":{\"type\":\"value\",\"value\":[]},\"border_line_dash_offset\":{\"type\":\"value\",\"value\":0}}},\"nonselection_glyph\":{\"type\":\"object\",\"name\":\"Text\",\"id\":\"p118361\",\"attributes\":{\"tags\":[\"apply_ranges\"],\"x\":{\"type\":\"field\",\"field\":\"wavelength\"},\"y\":{\"type\":\"field\",\"field\":\"correlation\"},\"text\":{\"type\":\"field\",\"field\":\"band\"},\"text_color\":{\"type\":\"value\",\"value\":\"black\"},\"text_alpha\":{\"type\":\"value\",\"value\":0.1},\"text_align\":{\"type\":\"value\",\"value\":\"center\"},\"text_baseline\":{\"type\":\"value\",\"value\":\"top\"}}},\"muted_glyph\":{\"type\":\"object\",\"name\":\"Text\",\"id\":\"p118362\",\"attributes\":{\"tags\":[\"apply_ranges\"],\"x\":{\"type\":\"field\",\"field\":\"wavelength\"},\"y\":{\"type\":\"field\",\"field\":\"correlation\"},\"text\":{\"type\":\"field\",\"field\":\"band\"},\"text_color\":{\"type\":\"value\",\"value\":\"black\"},\"text_alpha\":{\"type\":\"value\",\"value\":0.2},\"text_align\":{\"type\":\"value\",\"value\":\"center\"},\"text_baseline\":{\"type\":\"value\",\"value\":\"top\"}}}}}],\"tooltips\":[[\"wavelength\",\"@{wavelength}\"],[\"correlation\",\"@{correlation}\"],[\"band\",\"@{band}\"]]}},{\"type\":\"object\",\"name\":\"HoverTool\",\"id\":\"p118371\",\"attributes\":{\"tags\":[\"hv_created\"],\"renderers\":[{\"type\":\"object\",\"name\":\"GlyphRenderer\",\"id\":\"p118440\",\"attributes\":{\"data_source\":{\"type\":\"object\",\"name\":\"ColumnDataSource\",\"id\":\"p118430\",\"attributes\":{\"selected\":{\"type\":\"object\",\"name\":\"Selection\",\"id\":\"p118432\",\"attributes\":{\"indices\":[],\"line_indices\":[]}},\"selection_policy\":{\"type\":\"object\",\"name\":\"UnionRenderers\",\"id\":\"p118431\"},\"data\":{\"type\":\"map\",\"entries\":[[\"wavelength\",{\"type\":\"ndarray\",\"array\":{\"type\":\"bytes\",\"data\":\"j8L1KFyve0BxPQrXoyB+QOF6FK5Hi4FAAAAAAABwgkAfhetRuHSEQI/C9ShcBYtAAAAAAAB8lUAAAAAAABjFQA==\"},\"shape\":[8],\"dtype\":\"float64\",\"order\":\"little\"}],[\"correlation\",{\"type\":\"ndarray\",\"array\":{\"type\":\"bytes\",\"data\":\"9vTQlmtEkD/9PHTltzzCP/pqKiaXb94/cH+ygA/g5D+gkDFH++bmP088UhknkuM/jLrypDfPoj8D1CPxtQ7Xvw==\"},\"shape\":[8],\"dtype\":\"float64\",\"order\":\"little\"}]]}}},\"view\":{\"type\":\"object\",\"name\":\"CDSView\",\"id\":\"p118441\",\"attributes\":{\"filter\":{\"type\":\"object\",\"name\":\"AllIndices\",\"id\":\"p118442\"}}},\"glyph\":{\"type\":\"object\",\"name\":\"Line\",\"id\":\"p118437\",\"attributes\":{\"tags\":[\"apply_ranges\"],\"x\":{\"type\":\"field\",\"field\":\"wavelength\"},\"y\":{\"type\":\"field\",\"field\":\"correlation\"},\"line_color\":\"#30a2da\",\"line_width\":2}},\"selection_glyph\":{\"type\":\"object\",\"name\":\"Line\",\"id\":\"p118443\",\"attributes\":{\"tags\":[\"apply_ranges\"],\"x\":{\"type\":\"field\",\"field\":\"wavelength\"},\"y\":{\"type\":\"field\",\"field\":\"correlation\"},\"line_color\":\"#30a2da\",\"line_width\":2}},\"nonselection_glyph\":{\"type\":\"object\",\"name\":\"Line\",\"id\":\"p118438\",\"attributes\":{\"tags\":[\"apply_ranges\"],\"x\":{\"type\":\"field\",\"field\":\"wavelength\"},\"y\":{\"type\":\"field\",\"field\":\"correlation\"},\"line_color\":\"#30a2da\",\"line_alpha\":0.1,\"line_width\":2}},\"muted_glyph\":{\"type\":\"object\",\"name\":\"Line\",\"id\":\"p118439\",\"attributes\":{\"tags\":[\"apply_ranges\"],\"x\":{\"type\":\"field\",\"field\":\"wavelength\"},\"y\":{\"type\":\"field\",\"field\":\"correlation\"},\"line_color\":\"#30a2da\",\"line_alpha\":0.2,\"line_width\":2}}}},{\"type\":\"object\",\"name\":\"GlyphRenderer\",\"id\":\"p118457\",\"attributes\":{\"data_source\":{\"type\":\"object\",\"name\":\"ColumnDataSource\",\"id\":\"p118445\",\"attributes\":{\"selected\":{\"type\":\"object\",\"name\":\"Selection\",\"id\":\"p118447\",\"attributes\":{\"indices\":[],\"line_indices\":[]}},\"selection_policy\":{\"type\":\"object\",\"name\":\"UnionRenderers\",\"id\":\"p118446\"},\"data\":{\"type\":\"map\",\"entries\":[[\"wavelength\",{\"type\":\"ndarray\",\"array\":{\"type\":\"bytes\",\"data\":\"j8L1KFyve0BxPQrXoyB+QOF6FK5Hi4FAAAAAAABwgkAfhetRuHSEQI/C9ShcBYtAAAAAAAB8lUAAAAAAABjFQA==\"},\"shape\":[8],\"dtype\":\"float64\",\"order\":\"little\"}],[\"correlation\",{\"type\":\"ndarray\",\"array\":{\"type\":\"bytes\",\"data\":\"9vTQlmtEkD/9PHTltzzCP/pqKiaXb94/cH+ygA/g5D+gkDFH++bmP088UhknkuM/jLrypDfPoj8D1CPxtQ7Xvw==\"},\"shape\":[8],\"dtype\":\"float64\",\"order\":\"little\"}],[\"color\",{\"type\":\"ndarray\",\"array\":{\"type\":\"bytes\",\"data\":\"9vTQlmtEkD/9PHTltzzCP/pqKiaXb94/cH+ygA/g5D+gkDFH++bmP088UhknkuM/jLrypDfPoj8D1CPxtQ7Xvw==\"},\"shape\":[8],\"dtype\":\"float64\",\"order\":\"little\"}]]}}},\"view\":{\"type\":\"object\",\"name\":\"CDSView\",\"id\":\"p118458\",\"attributes\":{\"filter\":{\"type\":\"object\",\"name\":\"AllIndices\",\"id\":\"p118459\"}}},\"glyph\":{\"type\":\"object\",\"name\":\"Scatter\",\"id\":\"p118452\",\"attributes\":{\"tags\":[\"apply_ranges\"],\"x\":{\"type\":\"field\",\"field\":\"wavelength\"},\"y\":{\"type\":\"field\",\"field\":\"correlation\"},\"size\":{\"type\":\"value\",\"value\":10.0},\"fill_color\":{\"type\":\"field\",\"field\":\"color\",\"transform\":{\"type\":\"object\",\"name\":\"LinearColorMapper\",\"id\":\"p118444\",\"attributes\":{\"palette\":[\"#0000ff\",\"#0202ff\",\"#0404ff\",\"#0606ff\",\"#0808ff\",\"#0a0aff\",\"#0c0cff\",\"#0e0eff\",\"#1010ff\",\"#1212ff\",\"#1414ff\",\"#1616ff\",\"#1818ff\",\"#1a1aff\",\"#1c1cff\",\"#1e1eff\",\"#2020ff\",\"#2222ff\",\"#2424ff\",\"#2626ff\",\"#2828ff\",\"#2a2aff\",\"#2c2cff\",\"#2e2eff\",\"#3030ff\",\"#3232ff\",\"#3434ff\",\"#3636ff\",\"#3838ff\",\"#3a3aff\",\"#3c3cff\",\"#3e3eff\",\"#4040ff\",\"#4141ff\",\"#4444ff\",\"#4646ff\",\"#4848ff\",\"#4949ff\",\"#4c4cff\",\"#4e4eff\",\"#5050ff\",\"#5151ff\",\"#5454ff\",\"#5656ff\",\"#5858ff\",\"#5959ff\",\"#5c5cff\",\"#5e5eff\",\"#6060ff\",\"#6161ff\",\"#6464ff\",\"#6666ff\",\"#6868ff\",\"#6969ff\",\"#6c6cff\",\"#6e6eff\",\"#7070ff\",\"#7171ff\",\"#7474ff\",\"#7676ff\",\"#7878ff\",\"#7979ff\",\"#7c7cff\",\"#7e7eff\",\"#8080ff\",\"#8282ff\",\"#8383ff\",\"#8686ff\",\"#8888ff\",\"#8a8aff\",\"#8c8cff\",\"#8e8eff\",\"#9090ff\",\"#9292ff\",\"#9393ff\",\"#9696ff\",\"#9898ff\",\"#9a9aff\",\"#9c9cff\",\"#9e9eff\",\"#a0a0ff\",\"#a2a2ff\",\"#a3a3ff\",\"#a6a6ff\",\"#a8a8ff\",\"#aaaaff\",\"#acacff\",\"#aeaeff\",\"#b0b0ff\",\"#b2b2ff\",\"#b3b3ff\",\"#b6b6ff\",\"#b8b8ff\",\"#babaff\",\"#bcbcff\",\"#bebeff\",\"#c0c0ff\",\"#c2c2ff\",\"#c3c3ff\",\"#c6c6ff\",\"#c8c8ff\",\"#cacaff\",\"#ccccff\",\"#ceceff\",\"#d0d0ff\",\"#d2d2ff\",\"#d3d3ff\",\"#d6d6ff\",\"#d8d8ff\",\"#dadaff\",\"#dcdcff\",\"#dedeff\",\"#e0e0ff\",\"#e2e2ff\",\"#e3e3ff\",\"#e6e6ff\",\"#e8e8ff\",\"#eaeaff\",\"#ececff\",\"#eeeeff\",\"#f0f0ff\",\"#f2f2ff\",\"#f3f3ff\",\"#f6f6ff\",\"#f8f8ff\",\"#fafaff\",\"#fcfcff\",\"#fefeff\",\"#fffefe\",\"#fffcfc\",\"#fffafa\",\"#fff8f8\",\"#fff6f6\",\"#fff4f4\",\"#fff2f2\",\"#fff0f0\",\"#ffeeee\",\"#ffecec\",\"#ffeaea\",\"#ffe8e8\",\"#ffe6e6\",\"#ffe4e4\",\"#ffe2e2\",\"#ffe0e0\",\"#ffdede\",\"#ffdcdc\",\"#ffdada\",\"#ffd8d8\",\"#ffd6d6\",\"#ffd3d3\",\"#ffd2d2\",\"#ffd0d0\",\"#ffcece\",\"#ffcccc\",\"#ffcaca\",\"#ffc8c8\",\"#ffc6c6\",\"#ffc3c3\",\"#ffc2c2\",\"#ffc0c0\",\"#ffbebe\",\"#ffbcbc\",\"#ffbaba\",\"#ffb8b8\",\"#ffb6b6\",\"#ffb3b3\",\"#ffb2b2\",\"#ffb0b0\",\"#ffaeae\",\"#ffacac\",\"#ffaaaa\",\"#ffa8a8\",\"#ffa6a6\",\"#ffa3a3\",\"#ffa2a2\",\"#ffa0a0\",\"#ff9e9e\",\"#ff9c9c\",\"#ff9a9a\",\"#ff9898\",\"#ff9696\",\"#ff9393\",\"#ff9292\",\"#ff9090\",\"#ff8e8e\",\"#ff8c8c\",\"#ff8a8a\",\"#ff8888\",\"#ff8686\",\"#ff8383\",\"#ff8282\",\"#ff8080\",\"#ff7e7e\",\"#ff7c7c\",\"#ff7979\",\"#ff7878\",\"#ff7676\",\"#ff7474\",\"#ff7171\",\"#ff7070\",\"#ff6e6e\",\"#ff6c6c\",\"#ff6969\",\"#ff6868\",\"#ff6666\",\"#ff6464\",\"#ff6161\",\"#ff6060\",\"#ff5e5e\",\"#ff5c5c\",\"#ff5959\",\"#ff5858\",\"#ff5656\",\"#ff5454\",\"#ff5151\",\"#ff5050\",\"#ff4e4e\",\"#ff4c4c\",\"#ff4949\",\"#ff4848\",\"#ff4646\",\"#ff4444\",\"#ff4141\",\"#ff4040\",\"#ff3e3e\",\"#ff3c3c\",\"#ff3939\",\"#ff3838\",\"#ff3636\",\"#ff3434\",\"#ff3131\",\"#ff3030\",\"#ff2e2e\",\"#ff2c2c\",\"#ff2929\",\"#ff2828\",\"#ff2626\",\"#ff2424\",\"#ff2121\",\"#ff2020\",\"#ff1e1e\",\"#ff1c1c\",\"#ff1919\",\"#ff1818\",\"#ff1616\",\"#ff1414\",\"#ff1111\",\"#ff1010\",\"#ff0e0e\",\"#ff0c0c\",\"#ff0909\",\"#ff0808\",\"#ff0606\",\"#ff0404\",\"#ff0101\",\"#ff0000\"],\"low\":-1,\"high\":1}}},\"hatch_color\":{\"type\":\"field\",\"field\":\"color\",\"transform\":{\"id\":\"p118444\"}}}},\"selection_glyph\":{\"type\":\"object\",\"name\":\"Scatter\",\"id\":\"p118454\",\"attributes\":{\"tags\":[\"apply_ranges\"],\"x\":{\"type\":\"field\",\"field\":\"wavelength\"},\"y\":{\"type\":\"field\",\"field\":\"correlation\"},\"size\":{\"type\":\"value\",\"value\":10.0},\"fill_color\":{\"type\":\"field\",\"field\":\"color\",\"transform\":{\"id\":\"p118444\"}},\"hatch_color\":{\"type\":\"field\",\"field\":\"color\",\"transform\":{\"id\":\"p118444\"}}}},\"nonselection_glyph\":{\"type\":\"object\",\"name\":\"Scatter\",\"id\":\"p118453\",\"attributes\":{\"tags\":[\"apply_ranges\"],\"x\":{\"type\":\"field\",\"field\":\"wavelength\"},\"y\":{\"type\":\"field\",\"field\":\"correlation\"},\"size\":{\"type\":\"value\",\"value\":10.0},\"line_alpha\":{\"type\":\"value\",\"value\":0.1},\"fill_color\":{\"type\":\"field\",\"field\":\"color\",\"transform\":{\"id\":\"p118444\"}},\"fill_alpha\":{\"type\":\"value\",\"value\":0.1},\"hatch_color\":{\"type\":\"field\",\"field\":\"color\",\"transform\":{\"id\":\"p118444\"}},\"hatch_alpha\":{\"type\":\"value\",\"value\":0.1}}},\"hover_glyph\":{\"type\":\"object\",\"name\":\"Scatter\",\"id\":\"p118455\",\"attributes\":{\"tags\":[\"apply_ranges\"],\"x\":{\"type\":\"field\",\"field\":\"wavelength\"},\"y\":{\"type\":\"field\",\"field\":\"correlation\"},\"size\":{\"type\":\"value\",\"value\":10.0},\"fill_color\":{\"type\":\"field\",\"field\":\"color\",\"transform\":{\"id\":\"p118444\"}},\"hatch_color\":{\"type\":\"field\",\"field\":\"color\",\"transform\":{\"id\":\"p118444\"}}}},\"muted_glyph\":{\"type\":\"object\",\"name\":\"Scatter\",\"id\":\"p118456\",\"attributes\":{\"tags\":[\"apply_ranges\"],\"x\":{\"type\":\"field\",\"field\":\"wavelength\"},\"y\":{\"type\":\"field\",\"field\":\"correlation\"},\"size\":{\"type\":\"value\",\"value\":10.0},\"line_alpha\":{\"type\":\"value\",\"value\":0.2},\"fill_color\":{\"type\":\"field\",\"field\":\"color\",\"transform\":{\"id\":\"p118444\"}},\"fill_alpha\":{\"type\":\"value\",\"value\":0.2},\"hatch_color\":{\"type\":\"field\",\"field\":\"color\",\"transform\":{\"id\":\"p118444\"}},\"hatch_alpha\":{\"type\":\"value\",\"value\":0.2}}}}}],\"tooltips\":[[\"wavelength\",\"@{wavelength}\"],[\"correlation\",\"@{correlation}\"]]}},{\"type\":\"object\",\"name\":\"HoverTool\",\"id\":\"p118373\",\"attributes\":{\"tags\":[\"hv_created\"],\"renderers\":[{\"type\":\"object\",\"name\":\"GlyphRenderer\",\"id\":\"p118473\",\"attributes\":{\"data_source\":{\"type\":\"object\",\"name\":\"ColumnDataSource\",\"id\":\"p118463\",\"attributes\":{\"selected\":{\"type\":\"object\",\"name\":\"Selection\",\"id\":\"p118465\",\"attributes\":{\"indices\":[],\"line_indices\":[]}},\"selection_policy\":{\"type\":\"object\",\"name\":\"UnionRenderers\",\"id\":\"p118464\"},\"data\":{\"type\":\"map\",\"entries\":[[\"wavelength\",{\"type\":\"ndarray\",\"array\":{\"type\":\"bytes\",\"data\":\"j8L1KFyve0BxPQrXoyB+QOF6FK5Hi4FAAAAAAABwgkAfhetRuHSEQI/C9ShcBYtAAAAAAAB8lUAAAAAAABjFQA==\"},\"shape\":[8],\"dtype\":\"float64\",\"order\":\"little\"}],[\"correlation\",{\"type\":\"ndarray\",\"array\":{\"type\":\"bytes\",\"data\":\"9vTQlmtEkD/9PHTltzzCP/pqKiaXb94/cH+ygA/g5D+gkDFH++bmP088UhknkuM/jLrypDfPoj8D1CPxtQ7Xvw==\"},\"shape\":[8],\"dtype\":\"float64\",\"order\":\"little\"}],[\"band\",[\"B1\",\"B2\",\"B3\",\"B8\",\"B4\",\"B5\",\"B9\",\"B10\"]]]}}},\"view\":{\"type\":\"object\",\"name\":\"CDSView\",\"id\":\"p118474\",\"attributes\":{\"filter\":{\"type\":\"object\",\"name\":\"AllIndices\",\"id\":\"p118475\"}}},\"glyph\":{\"type\":\"object\",\"name\":\"Text\",\"id\":\"p118470\",\"attributes\":{\"tags\":[\"apply_ranges\"],\"x\":{\"type\":\"field\",\"field\":\"wavelength\"},\"y\":{\"type\":\"field\",\"field\":\"correlation\"},\"text\":{\"type\":\"field\",\"field\":\"band\"},\"text_color\":{\"type\":\"value\",\"value\":\"black\"},\"text_align\":{\"type\":\"value\",\"value\":\"center\"},\"text_baseline\":{\"type\":\"value\",\"value\":\"top\"}}},\"selection_glyph\":{\"type\":\"object\",\"name\":\"Text\",\"id\":\"p118476\",\"attributes\":{\"tags\":[\"apply_ranges\"],\"x\":{\"type\":\"field\",\"field\":\"wavelength\"},\"y\":{\"type\":\"field\",\"field\":\"correlation\"},\"text\":{\"type\":\"field\",\"field\":\"band\"},\"angle\":{\"type\":\"value\",\"value\":0},\"x_offset\":{\"type\":\"value\",\"value\":0},\"y_offset\":{\"type\":\"value\",\"value\":0},\"text_color\":{\"type\":\"value\",\"value\":\"black\"},\"text_outline_color\":{\"type\":\"value\",\"value\":null},\"text_alpha\":{\"type\":\"value\",\"value\":1.0},\"text_font_style\":{\"type\":\"value\",\"value\":\"normal\"},\"text_align\":{\"type\":\"value\",\"value\":\"center\"},\"text_baseline\":{\"type\":\"value\",\"value\":\"top\"},\"text_line_height\":{\"type\":\"value\",\"value\":1.2},\"background_fill_color\":{\"type\":\"value\",\"value\":null},\"background_fill_alpha\":{\"type\":\"value\",\"value\":1.0},\"background_hatch_color\":{\"type\":\"value\",\"value\":null},\"background_hatch_alpha\":{\"type\":\"value\",\"value\":1.0},\"background_hatch_scale\":{\"type\":\"value\",\"value\":12.0},\"background_hatch_pattern\":{\"type\":\"value\",\"value\":null},\"background_hatch_weight\":{\"type\":\"value\",\"value\":1.0},\"border_line_color\":{\"type\":\"value\",\"value\":null},\"border_line_alpha\":{\"type\":\"value\",\"value\":1.0},\"border_line_width\":{\"type\":\"value\",\"value\":1},\"border_line_join\":{\"type\":\"value\",\"value\":\"bevel\"},\"border_line_cap\":{\"type\":\"value\",\"value\":\"butt\"},\"border_line_dash\":{\"type\":\"value\",\"value\":[]},\"border_line_dash_offset\":{\"type\":\"value\",\"value\":0}}},\"nonselection_glyph\":{\"type\":\"object\",\"name\":\"Text\",\"id\":\"p118471\",\"attributes\":{\"tags\":[\"apply_ranges\"],\"x\":{\"type\":\"field\",\"field\":\"wavelength\"},\"y\":{\"type\":\"field\",\"field\":\"correlation\"},\"text\":{\"type\":\"field\",\"field\":\"band\"},\"text_color\":{\"type\":\"value\",\"value\":\"black\"},\"text_alpha\":{\"type\":\"value\",\"value\":0.1},\"text_align\":{\"type\":\"value\",\"value\":\"center\"},\"text_baseline\":{\"type\":\"value\",\"value\":\"top\"}}},\"muted_glyph\":{\"type\":\"object\",\"name\":\"Text\",\"id\":\"p118472\",\"attributes\":{\"tags\":[\"apply_ranges\"],\"x\":{\"type\":\"field\",\"field\":\"wavelength\"},\"y\":{\"type\":\"field\",\"field\":\"correlation\"},\"text\":{\"type\":\"field\",\"field\":\"band\"},\"text_color\":{\"type\":\"value\",\"value\":\"black\"},\"text_alpha\":{\"type\":\"value\",\"value\":0.2},\"text_align\":{\"type\":\"value\",\"value\":\"center\"},\"text_baseline\":{\"type\":\"value\",\"value\":\"top\"}}}}}],\"tooltips\":[[\"wavelength\",\"@{wavelength}\"],[\"correlation\",\"@{correlation}\"],[\"band\",\"@{band}\"]]}}]}},{\"type\":\"object\",\"name\":\"SaveTool\",\"id\":\"p118600\"},{\"type\":\"object\",\"name\":\"ToolProxy\",\"id\":\"p118601\",\"attributes\":{\"tools\":[{\"type\":\"object\",\"name\":\"PanTool\",\"id\":\"p118295\"},{\"type\":\"object\",\"name\":\"PanTool\",\"id\":\"p118405\"}]}},{\"type\":\"object\",\"name\":\"ToolProxy\",\"id\":\"p118602\",\"attributes\":{\"tools\":[{\"type\":\"object\",\"name\":\"WheelZoomTool\",\"id\":\"p118296\"},{\"type\":\"object\",\"name\":\"WheelZoomTool\",\"id\":\"p118406\"}]}},{\"type\":\"object\",\"name\":\"ToolProxy\",\"id\":\"p118603\",\"attributes\":{\"tools\":[{\"type\":\"object\",\"name\":\"BoxZoomTool\",\"id\":\"p118297\",\"attributes\":{\"overlay\":{\"type\":\"object\",\"name\":\"BoxAnnotation\",\"id\":\"p118298\",\"attributes\":{\"syncable\":false,\"level\":\"overlay\",\"visible\":false,\"left_units\":\"canvas\",\"right_units\":\"canvas\",\"bottom_units\":\"canvas\",\"top_units\":\"canvas\",\"line_color\":\"black\",\"line_alpha\":1.0,\"line_width\":2,\"line_dash\":[4,4],\"fill_color\":\"lightgrey\",\"fill_alpha\":0.5}}}},{\"type\":\"object\",\"name\":\"BoxZoomTool\",\"id\":\"p118407\",\"attributes\":{\"overlay\":{\"type\":\"object\",\"name\":\"BoxAnnotation\",\"id\":\"p118408\",\"attributes\":{\"syncable\":false,\"level\":\"overlay\",\"visible\":false,\"left_units\":\"canvas\",\"right_units\":\"canvas\",\"bottom_units\":\"canvas\",\"top_units\":\"canvas\",\"line_color\":\"black\",\"line_alpha\":1.0,\"line_width\":2,\"line_dash\":[4,4],\"fill_color\":\"lightgrey\",\"fill_alpha\":0.5}}}}]}},{\"type\":\"object\",\"name\":\"ToolProxy\",\"id\":\"p118604\",\"attributes\":{\"tools\":[{\"type\":\"object\",\"name\":\"ResetTool\",\"id\":\"p118299\"},{\"type\":\"object\",\"name\":\"ResetTool\",\"id\":\"p118409\"}]}}]}},\"children\":[[{\"type\":\"object\",\"name\":\"Figure\",\"id\":\"p118264\",\"attributes\":{\"width\":700,\"height\":300,\"sizing_mode\":\"fixed\",\"align\":\"start\",\"x_range\":{\"type\":\"object\",\"name\":\"Range1d\",\"id\":\"p118259\",\"attributes\":{\"tags\":[[[\"wavelength\",\"wavelength\",null]]],\"start\":400,\"end\":1500,\"reset_start\":400,\"reset_end\":1500}},\"y_range\":{\"type\":\"object\",\"name\":\"Range1d\",\"id\":\"p118260\",\"attributes\":{\"tags\":[[[\"correlation\",\"correlation\",null]]],\"start\":-1,\"reset_start\":-1,\"reset_end\":1}},\"x_scale\":{\"type\":\"object\",\"name\":\"LinearScale\",\"id\":\"p118276\"},\"y_scale\":{\"type\":\"object\",\"name\":\"LinearScale\",\"id\":\"p118278\"},\"title\":{\"type\":\"object\",\"name\":\"Title\",\"id\":\"p118267\",\"attributes\":{\"text\":\"Sentinel-2 - Rrs-TSM correlation\",\"text_color\":\"black\",\"text_font_size\":\"12pt\"}},\"renderers\":[{\"type\":\"object\",\"name\":\"Span\",\"id\":\"p118319\",\"attributes\":{\"level\":\"glyph\",\"location\":0,\"line_color\":\"grey\",\"line_dash\":[6]}},{\"id\":\"p118330\"},{\"id\":\"p118347\"},{\"id\":\"p118363\"}],\"toolbar\":{\"type\":\"object\",\"name\":\"Toolbar\",\"id\":\"p118271\",\"attributes\":{\"tools\":[{\"id\":\"p118261\"},{\"id\":\"p118263\"},{\"type\":\"object\",\"name\":\"SaveTool\",\"id\":\"p118294\"},{\"id\":\"p118295\"},{\"id\":\"p118296\"},{\"id\":\"p118297\"},{\"id\":\"p118299\"}],\"active_drag\":{\"id\":\"p118295\"},\"active_scroll\":{\"id\":\"p118296\"}}},\"toolbar_location\":null,\"left\":[{\"type\":\"object\",\"name\":\"LinearAxis\",\"id\":\"p118287\",\"attributes\":{\"ticker\":{\"type\":\"object\",\"name\":\"BasicTicker\",\"id\":\"p118290\",\"attributes\":{\"mantissas\":[1,2,5]}},\"formatter\":{\"type\":\"object\",\"name\":\"BasicTickFormatter\",\"id\":\"p118289\"},\"axis_label\":\"Correlation\\n(Pearson's R)\",\"major_label_policy\":{\"type\":\"object\",\"name\":\"AllLabels\",\"id\":\"p118288\"}}}],\"right\":[{\"type\":\"object\",\"name\":\"ColorBar\",\"id\":\"p118351\",\"attributes\":{\"location\":[0,0],\"ticker\":{\"type\":\"object\",\"name\":\"BasicTicker\",\"id\":\"p118350\",\"attributes\":{\"mantissas\":[1,2,5]}},\"major_label_policy\":{\"type\":\"object\",\"name\":\"NoOverlap\",\"id\":\"p118352\"},\"label_standoff\":8,\"major_tick_line_color\":\"black\",\"bar_line_color\":\"black\",\"color_mapper\":{\"id\":\"p118334\"}}}],\"below\":[{\"type\":\"object\",\"name\":\"LinearAxis\",\"id\":\"p118280\",\"attributes\":{\"ticker\":{\"type\":\"object\",\"name\":\"BasicTicker\",\"id\":\"p118283\",\"attributes\":{\"mantissas\":[1,2,5]}},\"formatter\":{\"type\":\"object\",\"name\":\"BasicTickFormatter\",\"id\":\"p118282\"},\"axis_label\":\"Wavelength (nm)\",\"major_label_orientation\":0.7853981633974483,\"major_label_policy\":{\"type\":\"object\",\"name\":\"AllLabels\",\"id\":\"p118281\"}}}],\"center\":[{\"type\":\"object\",\"name\":\"Grid\",\"id\":\"p118286\",\"attributes\":{\"axis\":{\"id\":\"p118280\"},\"grid_line_color\":null}},{\"type\":\"object\",\"name\":\"Grid\",\"id\":\"p118293\",\"attributes\":{\"dimension\":1,\"axis\":{\"id\":\"p118287\"},\"grid_line_color\":null}}],\"min_border_top\":10,\"min_border_bottom\":10,\"min_border_left\":10,\"min_border_right\":10,\"output_backend\":\"webgl\"}},0,0],[{\"type\":\"object\",\"name\":\"Figure\",\"id\":\"p118374\",\"attributes\":{\"width\":700,\"height\":300,\"sizing_mode\":\"fixed\",\"align\":\"start\",\"x_range\":{\"id\":\"p118259\"},\"y_range\":{\"id\":\"p118260\"},\"x_scale\":{\"type\":\"object\",\"name\":\"LinearScale\",\"id\":\"p118386\"},\"y_scale\":{\"type\":\"object\",\"name\":\"LinearScale\",\"id\":\"p118388\"},\"title\":{\"type\":\"object\",\"name\":\"Title\",\"id\":\"p118377\",\"attributes\":{\"text\":\"Landsat-8 OLI - Rrs-TSM correlation\",\"text_color\":\"black\",\"text_font_size\":\"12pt\"}},\"renderers\":[{\"type\":\"object\",\"name\":\"Span\",\"id\":\"p118429\",\"attributes\":{\"level\":\"glyph\",\"location\":0,\"line_color\":\"grey\",\"line_dash\":[6]}},{\"id\":\"p118440\"},{\"id\":\"p118457\"},{\"id\":\"p118473\"}],\"toolbar\":{\"type\":\"object\",\"name\":\"Toolbar\",\"id\":\"p118381\",\"attributes\":{\"tools\":[{\"id\":\"p118371\"},{\"id\":\"p118373\"},{\"type\":\"object\",\"name\":\"SaveTool\",\"id\":\"p118404\"},{\"id\":\"p118405\"},{\"id\":\"p118406\"},{\"id\":\"p118407\"},{\"id\":\"p118409\"}],\"active_drag\":{\"id\":\"p118405\"},\"active_scroll\":{\"id\":\"p118406\"}}},\"toolbar_location\":null,\"left\":[{\"type\":\"object\",\"name\":\"LinearAxis\",\"id\":\"p118397\",\"attributes\":{\"ticker\":{\"type\":\"object\",\"name\":\"BasicTicker\",\"id\":\"p118400\",\"attributes\":{\"mantissas\":[1,2,5]}},\"formatter\":{\"type\":\"object\",\"name\":\"BasicTickFormatter\",\"id\":\"p118399\"},\"axis_label\":\"Correlation\\n(Pearson's R)\",\"major_label_policy\":{\"type\":\"object\",\"name\":\"AllLabels\",\"id\":\"p118398\"}}}],\"right\":[{\"type\":\"object\",\"name\":\"ColorBar\",\"id\":\"p118461\",\"attributes\":{\"location\":[0,0],\"ticker\":{\"type\":\"object\",\"name\":\"BasicTicker\",\"id\":\"p118460\",\"attributes\":{\"mantissas\":[1,2,5]}},\"major_label_policy\":{\"type\":\"object\",\"name\":\"NoOverlap\",\"id\":\"p118462\"},\"label_standoff\":8,\"major_tick_line_color\":\"black\",\"bar_line_color\":\"black\",\"color_mapper\":{\"id\":\"p118444\"}}}],\"below\":[{\"type\":\"object\",\"name\":\"LinearAxis\",\"id\":\"p118390\",\"attributes\":{\"ticker\":{\"type\":\"object\",\"name\":\"BasicTicker\",\"id\":\"p118393\",\"attributes\":{\"mantissas\":[1,2,5]}},\"formatter\":{\"type\":\"object\",\"name\":\"BasicTickFormatter\",\"id\":\"p118392\"},\"axis_label\":\"Wavelength (nm)\",\"major_label_orientation\":0.7853981633974483,\"major_label_policy\":{\"type\":\"object\",\"name\":\"AllLabels\",\"id\":\"p118391\"}}}],\"center\":[{\"type\":\"object\",\"name\":\"Grid\",\"id\":\"p118396\",\"attributes\":{\"axis\":{\"id\":\"p118390\"},\"grid_line_color\":null}},{\"type\":\"object\",\"name\":\"Grid\",\"id\":\"p118403\",\"attributes\":{\"dimension\":1,\"axis\":{\"id\":\"p118397\"},\"grid_line_color\":null}}],\"min_border_top\":10,\"min_border_bottom\":10,\"min_border_left\":10,\"min_border_right\":10,\"output_backend\":\"webgl\"}},1,0]]}},{\"type\":\"object\",\"name\":\"Spacer\",\"id\":\"p118655\",\"attributes\":{\"name\":\"HSpacer137740\",\"stylesheets\":[\"\\n:host(.pn-loading.pn-arc):before, .pn-loading.pn-arc:before {\\n  background-image: url(\\\"data:image/svg+xml;base64,PHN2ZyB4bWxucz0iaHR0cDovL3d3dy53My5vcmcvMjAwMC9zdmciIHN0eWxlPSJtYXJnaW46IGF1dG87IGJhY2tncm91bmQ6IG5vbmU7IGRpc3BsYXk6IGJsb2NrOyBzaGFwZS1yZW5kZXJpbmc6IGF1dG87IiB2aWV3Qm94PSIwIDAgMTAwIDEwMCIgcHJlc2VydmVBc3BlY3RSYXRpbz0ieE1pZFlNaWQiPiAgPGNpcmNsZSBjeD0iNTAiIGN5PSI1MCIgZmlsbD0ibm9uZSIgc3Ryb2tlPSIjYzNjM2MzIiBzdHJva2Utd2lkdGg9IjEwIiByPSIzNSIgc3Ryb2tlLWRhc2hhcnJheT0iMTY0LjkzMzYxNDMxMzQ2NDE1IDU2Ljk3Nzg3MTQzNzgyMTM4Ij4gICAgPGFuaW1hdGVUcmFuc2Zvcm0gYXR0cmlidXRlTmFtZT0idHJhbnNmb3JtIiB0eXBlPSJyb3RhdGUiIHJlcGVhdENvdW50PSJpbmRlZmluaXRlIiBkdXI9IjFzIiB2YWx1ZXM9IjAgNTAgNTA7MzYwIDUwIDUwIiBrZXlUaW1lcz0iMDsxIj48L2FuaW1hdGVUcmFuc2Zvcm0+ICA8L2NpcmNsZT48L3N2Zz4=\\\");\\n  background-size: auto calc(min(50%, 400px));\\n}\",{\"id\":\"p118257\"},{\"id\":\"p118255\"},{\"id\":\"p118256\"}],\"margin\":0,\"sizing_mode\":\"stretch_width\",\"align\":\"start\"}}]}}],\"callbacks\":{\"type\":\"map\"}}};\n",
       "  var render_items = [{\"docid\":\"70764b4e-022d-4804-926b-3d33897dc02a\",\"roots\":{\"p118254\":\"c3d3b287-c157-4283-8eab-94de93b67320\"},\"root_ids\":[\"p118254\"]}];\n",
       "  var docs = Object.values(docs_json)\n",
       "  if (!docs) {\n",
       "    return\n",
       "  }\n",
       "  const py_version = docs[0].version.replace('rc', '-rc.')\n",
       "  const is_dev = py_version.indexOf(\"+\") !== -1 || py_version.indexOf(\"-\") !== -1\n",
       "  function embed_document(root) {\n",
       "    var Bokeh = get_bokeh(root)\n",
       "    Bokeh.embed.embed_items_notebook(docs_json, render_items);\n",
       "    for (const render_item of render_items) {\n",
       "      for (const root_id of render_item.root_ids) {\n",
       "\tconst id_el = document.getElementById(root_id)\n",
       "\tif (id_el.children.length && (id_el.children[0].className === 'bk-root')) {\n",
       "\t  const root_el = id_el.children[0]\n",
       "\t  root_el.id = root_el.id + '-rendered'\n",
       "\t}\n",
       "      }\n",
       "    }\n",
       "  }\n",
       "  function get_bokeh(root) {\n",
       "    if (root.Bokeh === undefined) {\n",
       "      return null\n",
       "    } else if (root.Bokeh.version !== py_version && !is_dev) {\n",
       "      if (root.Bokeh.versions === undefined || !root.Bokeh.versions.has(py_version)) {\n",
       "\treturn null\n",
       "      }\n",
       "      return root.Bokeh.versions.get(py_version);\n",
       "    } else if (root.Bokeh.version === py_version) {\n",
       "      return root.Bokeh\n",
       "    }\n",
       "    return null\n",
       "  }\n",
       "  function is_loaded(root) {\n",
       "    var Bokeh = get_bokeh(root)\n",
       "    return (Bokeh != null && Bokeh.Panel !== undefined)\n",
       "  }\n",
       "  if (is_loaded(root)) {\n",
       "    embed_document(root);\n",
       "  } else {\n",
       "    var attempts = 0;\n",
       "    var timer = setInterval(function(root) {\n",
       "      if (is_loaded(root)) {\n",
       "        clearInterval(timer);\n",
       "        embed_document(root);\n",
       "      } else if (document.readyState == \"complete\") {\n",
       "        attempts++;\n",
       "        if (attempts > 200) {\n",
       "          clearInterval(timer);\n",
       "\t  var Bokeh = get_bokeh(root)\n",
       "\t  if (Bokeh == null || Bokeh.Panel == null) {\n",
       "            console.warn(\"Panel: ERROR: Unable to run Panel code because Bokeh or Panel library is missing\");\n",
       "\t  } else {\n",
       "\t    console.warn(\"Panel: WARNING: Attempting to render but not all required libraries could be resolved.\")\n",
       "\t    embed_document(root)\n",
       "\t  }\n",
       "        }\n",
       "      }\n",
       "    }, 25, root)\n",
       "  }\n",
       "})(window);</script>"
      ],
      "text/plain": [
       ":Layout\n",
       "   .Overlay.I  :Overlay\n",
       "      .HLine.I   :HLine   [x,y]\n",
       "      .Curve.I   :Curve   [wavelength]   (correlation)\n",
       "      .Scatter.I :Scatter   [wavelength]   (correlation)\n",
       "      .Labels.I  :Labels   [wavelength,correlation]   (band)\n",
       "   .Overlay.II :Overlay\n",
       "      .HLine.I   :HLine   [x,y]\n",
       "      .Curve.I   :Curve   [wavelength]   (correlation)\n",
       "      .Scatter.I :Scatter   [wavelength]   (correlation)\n",
       "      .Labels.I  :Labels   [wavelength,correlation]   (band)"
      ]
     },
     "execution_count": 2254,
     "metadata": {
      "application/vnd.holoviews_exec.v0+json": {
       "id": "p118254"
      }
     },
     "output_type": "execute_result"
    }
   ],
   "source": [
    "# Prepare data\n",
    "thresh_cloud_cover = 80\n",
    "thresh_roi_coverage = 95\n",
    "data = df_rs.copy()\n",
    "data = data.loc[data.CLOUD_COVER<=thresh_cloud_cover]\n",
    "data = data.loc[data.roi_coverage>=thresh_roi_coverage]\n",
    "data_msi = data.loc[data.platform=='SENTINEL-2']\n",
    "data_msi = data_msi[data_msi.columns[((data_msi.columns.str.startswith('B'))&(data_msi.columns.str.endswith('_median')))|(data_msi.columns=='value')]]\n",
    "data_oli = data.loc[data.platform=='LANDSAT-8']\n",
    "data_oli = data_oli[data_oli.columns[((data_oli.columns.str.startswith('B'))&(data_oli.columns.str.endswith('_median')))|(data_oli.columns=='value')]]\n",
    "\n",
    "# Compute a correlation matrix and convert to long-form\n",
    "corr_mat = data_msi.corr().stack().reset_index(name=\"correlation\")\n",
    "corr_mat = corr_mat.loc[corr_mat.level_0=='value'].reset_index().drop(columns=['level_0', 'index']).rename(columns={'level_1': 'band'})\n",
    "corr_mat_msi = corr_mat.loc[corr_mat.band!='value']\n",
    "corr_mat_msi['band'] = corr_mat_msi.band.apply(lambda x: x.split('_')[0])\n",
    "corr_mat_msi['wavelength'] = corr_mat_msi.band.apply(lambda x: centerwl_lut_msi[x])\n",
    "corr_mat_msi = corr_mat_msi.sort_values('wavelength')\n",
    "\n",
    "corr_mat = data_oli.corr().stack().reset_index(name=\"correlation\")\n",
    "corr_mat = corr_mat.loc[corr_mat.level_0=='value'].reset_index().drop(columns=['level_0', 'index']).rename(columns={'level_1': 'band'})\n",
    "corr_mat_oli = corr_mat.loc[corr_mat.band!='value']\n",
    "corr_mat_oli['band'] = corr_mat_oli.band.apply(lambda x: x.split('_')[0])\n",
    "corr_mat_oli['wavelength'] = corr_mat_oli.band.apply(lambda x: centerwl_lut_oli[x])\n",
    "corr_mat_oli = corr_mat_oli.sort_values('wavelength')\n",
    "\n",
    "hline = hv.HLine(0).opts(\n",
    "    color='grey', \n",
    "    line_dash='dashed', \n",
    "    line_width=1.0,\n",
    ")\n",
    "\n",
    "clim = (-1, 1)\n",
    "\n",
    "plot_msi =  hline *\\\n",
    "            corr_mat_msi.hvplot.line(x='wavelength', y='correlation', clim=clim) *\\\n",
    "            corr_mat_msi.hvplot.scatter(x='wavelength', y='correlation', \n",
    "                xlabel='Wavelength (nm)', ylabel=\"Correlation\\n(Pearson's R)\",\n",
    "                color='correlation', size=100, clim=clim, cmap='bwr',\n",
    "                title='Sentinel-2 - Rrs-TSM correlation',\n",
    "                line_color='black',\n",
    "                xlim=(400,1500), rot=45) * \\\n",
    "            corr_mat_msi.hvplot.labels(x='wavelength', y='correlation', text='band', text_baseline='top')\n",
    "\n",
    "plot_oli =  hline *\\\n",
    "            corr_mat_oli.hvplot.line(x='wavelength', y='correlation', clim=clim) *\\\n",
    "            corr_mat_oli.hvplot.scatter(x='wavelength', y='correlation', \n",
    "                xlabel='Wavelength (nm)', ylabel=\"Correlation\\n(Pearson's R)\",\n",
    "                color='correlation', size=100, clim=clim, cmap='bwr',\n",
    "                title='Landsat-8 OLI - Rrs-TSM correlation',\n",
    "                line_color='black',\n",
    "                xlim=(400,1500), rot=45) * \\\n",
    "            corr_mat_oli.hvplot.labels(x='wavelength', y='correlation', text='band', text_baseline='top')\n",
    "\n",
    "hv.Layout([plot_msi, plot_oli]).cols(1).opts(hv.opts.Scatter(ylim=(-1,1), clim=(-1, 1)))"
   ]
  },
  {
   "cell_type": "code",
   "execution_count": null,
   "id": "f9f3e676",
   "metadata": {},
   "outputs": [],
   "source": []
  }
 ],
 "metadata": {
  "kernelspec": {
   "display_name": "Python [conda env:sos_water] *",
   "language": "python",
   "name": "conda-env-sos_water-py"
  },
  "language_info": {
   "codemirror_mode": {
    "name": "ipython",
    "version": 3
   },
   "file_extension": ".py",
   "mimetype": "text/x-python",
   "name": "python",
   "nbconvert_exporter": "python",
   "pygments_lexer": "ipython3",
   "version": "3.11.3"
  }
 },
 "nbformat": 4,
 "nbformat_minor": 5
}
